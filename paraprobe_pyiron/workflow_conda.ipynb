{
 "cells": [
  {
   "cell_type": "code",
   "execution_count": null,
   "id": "89aabe12-c72e-449f-9e01-31d9636a4f3d",
   "metadata": {},
   "outputs": [],
   "source": [
    "from jupyterlab_h5web import H5Web\n",
    "import numpy as np\n",
    "import os\n",
    "from IPython.display import Image"
   ]
  },
  {
   "cell_type": "code",
   "execution_count": null,
   "id": "94d9efba-0782-485b-b2de-9b6e43095c74",
   "metadata": {},
   "outputs": [],
   "source": [
    "from paraprobe_parmsetup.tools.transcoder_guru import ParmsetupTranscoder\n",
    "from paraprobe_parmsetup.tools.ranger_guru import ParmsetupRanger\n",
    "from paraprobe_transcoder.paraprobe_transcoder import ParaprobeTranscoder\n",
    "from paraprobe_autoreporter.wizard.ranger_report import AutoReporterRanger"
   ]
  },
  {
   "cell_type": "code",
   "execution_count": null,
   "id": "56bf6aee-cf7f-46d9-b7b0-a2aa848d1830",
   "metadata": {},
   "outputs": [],
   "source": [
    "jobid = 636502001\n",
    "transcoder = ParmsetupTranscoder()\n",
    "transcoder_config = transcoder.load_reconstruction_and_ranging(\n",
    "        working_directory='../data',\n",
    "        reconstructed_dataset='../data/R31_06365-v02.pos',\n",
    "        ranging_definitions='../data/R31_06365-v02.rrng',\n",
    "        jobid=jobid)"
   ]
  },
  {
   "cell_type": "code",
   "execution_count": null,
   "id": "cc45f587-e6a0-4304-a76f-80368d666bd1",
   "metadata": {},
   "outputs": [],
   "source": [
    "H5Web(transcoder_config)"
   ]
  },
  {
   "cell_type": "code",
   "execution_count": null,
   "id": "fcd661e8-697f-40eb-a9b4-97ed210bf0ab",
   "metadata": {},
   "outputs": [],
   "source": [
    "transcoder = ParaprobeTranscoder(transcoder_config)\n",
    "transcoder_results = transcoder.execute()"
   ]
  },
  {
   "cell_type": "code",
   "execution_count": null,
   "id": "7df9e18c-22a3-41dc-aa11-8ac23046a32b",
   "metadata": {},
   "outputs": [],
   "source": [
    "H5Web(transcoder_results)"
   ]
  },
  {
   "cell_type": "code",
   "execution_count": null,
   "id": "1e1bb202-9495-4cfd-af86-3a47d8b1f0f3",
   "metadata": {},
   "outputs": [],
   "source": [
    "ranger = ParmsetupRanger()\n",
    "ranger_config = ranger.apply_existent_ranging(working_directory=\"../data\", \n",
    "                                             transcoder_config_sim_id=jobid,\n",
    "                                             transcoder_results_sim_id=jobid,\n",
    "                                             ranger_results_sim_id=jobid)"
   ]
  },
  {
   "cell_type": "code",
   "execution_count": null,
   "id": "0dbd0086-ae59-4dcf-ba89-3e7feeff352f",
   "metadata": {},
   "outputs": [],
   "source": [
    "H5Web(ranger_config)"
   ]
  },
  {
   "cell_type": "code",
   "execution_count": null,
   "id": "b7113aaa-80c7-4ee2-a914-0a90db8bc986",
   "metadata": {},
   "outputs": [],
   "source": [
    "! export OMP_NUM_THREADS=4 && mpiexec -n 1 paraprobe_ranger $jobid $ranger_config"
   ]
  },
  {
   "cell_type": "code",
   "execution_count": null,
   "id": "6ac76dcb-c033-467a-ad4d-4ee08ab3d6f4",
   "metadata": {},
   "outputs": [],
   "source": [
    "ranger_results = f\"PARAPROBE.Ranger.Results.SimID.{jobid}.h5\""
   ]
  },
  {
   "cell_type": "code",
   "execution_count": null,
   "id": "337243c2-5d0f-480d-b1c8-33afb4332192",
   "metadata": {},
   "outputs": [],
   "source": [
    "H5Web(ranger_results)"
   ]
  },
  {
   "cell_type": "code",
   "execution_count": null,
   "id": "17be30e0-87cb-4445-b7d3-f747c8a8cddb",
   "metadata": {},
   "outputs": [],
   "source": [
    "ranger_report = AutoReporterRanger(ranger_results, jobid)\n",
    "ranger_report.get_summary()"
   ]
  }
 ],
 "metadata": {
  "kernelspec": {
   "display_name": "Python 3 (ipykernel)",
   "language": "python",
   "name": "python3"
  },
  "language_info": {
   "codemirror_mode": {
    "name": "ipython",
    "version": 3
   },
   "file_extension": ".py",
   "mimetype": "text/x-python",
   "name": "python",
   "nbconvert_exporter": "python",
   "pygments_lexer": "ipython3",
   "version": "3.9.16"
  }
 },
 "nbformat": 4,
 "nbformat_minor": 5
}
