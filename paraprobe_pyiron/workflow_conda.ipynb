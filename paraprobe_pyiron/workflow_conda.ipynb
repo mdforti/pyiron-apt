{
 "cells": [
  {
   "cell_type": "code",
   "execution_count": 17,
   "id": "a33a1119",
   "metadata": {},
   "outputs": [],
   "source": [
    "from jupyterlab_h5web import H5Web\n",
    "import numpy as np\n",
    "import os\n",
    "from IPython.display import Image"
   ]
  },
  {
   "cell_type": "code",
   "execution_count": 6,
   "id": "0ce79522",
   "metadata": {},
   "outputs": [],
   "source": [
    "from paraprobe_parmsetup.transcoder_guru import ParmsetupTranscoder\n",
    "from paraprobe_parmsetup.ranger_guru import ParmsetupRanger\n",
    "from paraprobe_transcoder.paraprobe_transcoder import ParaprobeTranscoder\n",
    "from paraprobe_autoreporter.wizard.ranger_report import AutoReporterRanger"
   ]
  },
  {
   "cell_type": "code",
   "execution_count": 8,
   "id": "d922ff0b",
   "metadata": {},
   "outputs": [
    {
     "name": "stdout",
     "output_type": "stream",
     "text": [
      "Computing SHA256 hash for file named ../data/../data/R31_06365-v02.pos\n",
      "Computing SHA256 hash for file named ../data/../data/R31_06365-v02.rrng\n",
      "Inspecting whether NeXus/HDF5 is used...\n",
      "paraprobe-transcoder will be needed to transcode vendor\n",
      "file formats for reconstruction and ranging into HDF5.\n",
      "Tools will read recon/ranging from the transcoder results file.\n",
      "Writing configuration file ...\n",
      "PARAPROBE.Transcoder.Config.SimID.636502001.nxs was written successfully.\n"
     ]
    }
   ],
   "source": [
    "jobid = 636502001\n",
    "transcoder = ParmsetupTranscoder()\n",
    "transcoder_config = transcoder.load_reconstruction_and_ranging(\n",
    "        working_directory='../data',\n",
    "        reconstructed_dataset='../data/R31_06365-v02.pos',\n",
    "        ranging_definitions='../data/R31_06365-v02.rrng',\n",
    "        jobid=jobid)"
   ]
  },
  {
   "cell_type": "code",
   "execution_count": 9,
   "id": "8a53aa20",
   "metadata": {},
   "outputs": [
    {
     "data": {
      "application/x-hdf5": "/mnt/c/Users/menon/Documents/winrepos/pyiron-apt/paraprobe_pyiron/PARAPROBE.Transcoder.Config.SimID.636502001.nxs",
      "text/plain": [
       "<jupyterlab_h5web.widget.H5Web object>"
      ]
     },
     "execution_count": 9,
     "metadata": {},
     "output_type": "execute_result"
    }
   ],
   "source": [
    "H5Web(transcoder_config)"
   ]
  },
  {
   "cell_type": "code",
   "execution_count": 10,
   "id": "c97ced66",
   "metadata": {},
   "outputs": [
    {
     "name": "stdout",
     "output_type": "stream",
     "text": [
      "Processing configuration file\t\t:PARAPROBE.Transcoder.Config.SimID.636502001.nxs\n",
      "Processing reconstruction\t\t:../data/../data/R31_06365-v02.pos\n",
      "Processing ranging\t\t:../data/../data/R31_06365-v02.rrng\n",
      "Results file\t\t:PARAPROBE.Transcoder.Results.SimID.636502001.nxs\n",
      "Use paraprobe-transcoder to transcode vendor files\n",
      "Transcoded reconstruction and mass-to-charge-state ratios\n",
      "Transcoded ranging data for ../data/../data/R31_06365-v02.rrng\n",
      "Transcoded ranging definitions\n",
      "paraprobe-transcoder finished, took 0.48123320000013337 seconds\n"
     ]
    }
   ],
   "source": [
    "transcoder = ParaprobeTranscoder(transcoder_config)\n",
    "transcoder_results = transcoder.execute()"
   ]
  },
  {
   "cell_type": "code",
   "execution_count": 11,
   "id": "5fc424f3",
   "metadata": {},
   "outputs": [
    {
     "data": {
      "application/x-hdf5": "/mnt/c/Users/menon/Documents/winrepos/pyiron-apt/paraprobe_pyiron/PARAPROBE.Transcoder.Results.SimID.636502001.nxs",
      "text/plain": [
       "<jupyterlab_h5web.widget.H5Web object>"
      ]
     },
     "execution_count": 11,
     "metadata": {},
     "output_type": "execute_result"
    }
   ],
   "source": [
    "H5Web(transcoder_results)"
   ]
  },
  {
   "cell_type": "code",
   "execution_count": 12,
   "id": "75d30862",
   "metadata": {},
   "outputs": [
    {
     "name": "stdout",
     "output_type": "stream",
     "text": [
      "Using old transcoder/ranger file format, this will become deprecated!\n",
      "Computing SHA256 hash for file named ../data/PARAPROBE.Transcoder.Results.SimID.636502001.nxs\n",
      "File ../data/PARAPROBE.Transcoder.Results.SimID.636502001.nxs not accessible !\n",
      "Computing SHA256 hash for file named ../data/PARAPROBE.Transcoder.Results.SimID.636502001.nxs\n",
      "File ../data/PARAPROBE.Transcoder.Results.SimID.636502001.nxs not accessible !\n",
      "Writing configuration file ...\n",
      "PARAPROBE.Ranger.Config.SimID.636502001.nxs was written successfully.\n"
     ]
    }
   ],
   "source": [
    "ranger = ParmsetupRanger()\n",
    "ranger_config = ranger.apply_existent_ranging(working_directory=\"../data\", \n",
    "                                             transcoder_config_sim_id=jobid,\n",
    "                                             transcoder_results_sim_id=jobid,\n",
    "                                             ranger_results_sim_id=jobid)"
   ]
  },
  {
   "cell_type": "code",
   "execution_count": 13,
   "id": "aca8d94e",
   "metadata": {},
   "outputs": [
    {
     "data": {
      "application/x-hdf5": "/mnt/c/Users/menon/Documents/winrepos/pyiron-apt/paraprobe_pyiron/PARAPROBE.Ranger.Config.SimID.636502001.nxs",
      "text/plain": [
       "<jupyterlab_h5web.widget.H5Web object>"
      ]
     },
     "execution_count": 13,
     "metadata": {},
     "output_type": "execute_result"
    }
   ],
   "source": [
    "H5Web(ranger_config)"
   ]
  },
  {
   "cell_type": "code",
   "execution_count": 14,
   "id": "093ff181",
   "metadata": {},
   "outputs": [
    {
     "name": "stdout",
     "output_type": "stream",
     "text": [
      "paraprobe-ranger\n",
      "A tool of the FAIRmat atom probe microscopy analytics toolbox for materials scientists\n",
      "Supporting the community with strong-scaling and open tools for robust and automated uncertainty quantification...\n",
      "\n",
      "The compiled code of this tool uses the source code with the following GitSha:\n",
      "0\n",
      "\n",
      "Paraprobe can be cited via the following papers...\n",
      "Collecting 5 publications for the tool to cite:\n",
      "Article\n",
      "M. K\"uhbach and P. Bajaj and A. Breen and E. A. J\"agle and B. Gault\n",
      "On Strong Scaling Open Source Tools for Mining Atom Probe Tomography Data\n",
      "Microscopy and Microanalysis, 2019, Volume 25, Supplement S2, pp298-299\n",
      "https://doi.org/10.1017/S1431927619002228\n",
      "\n",
      "\n",
      "Article\n",
      "M. K\"uhbach and P. Bajaj and H. Zhao and M. H. C\"{c}elik E. A. J\"agle and B. Gault\n",
      "On strong-scaling and open-source tools for analyzing atom probe tomography data\n",
      "npj Computational Materials, 2021, Volume 7, ppArticle number 21\n",
      "https://doi.org/10.1038/s41524-020-00486-1\n",
      "\n",
      "\n",
      "Article\n",
      "M. K\"uhbach and A. J. London  and J. Wang and D. K. Schreiber and F. Mendez-Martin and I. Ghamarian and H. Bilal and A. V.Ceguerra\n",
      "Community-Driven Methods for Open and Reproducible Software Tools for Analyzing Datasets from Atom Probe Microscopy\n",
      "Microscopy and Microanalysis, 2021, pp1-16\n",
      "https://doi.org/10.1017/S1431927621012241\n",
      "\n",
      "\n",
      "Article\n",
      "M. K\"uhbach and M. Kasemer and A. Breen and B. Gault\n",
      "Open and strong-scaling tools for atom-probe crystallography: high-throughput methods for indexing crystal structure and orientation\n",
      "Journal of Applied Crystallography, 2021, Volume 54, pp1490-1508\n",
      "https://doi.org/10.1107/S1600576721008578\n",
      "\n",
      "\n",
      "Preprint\n",
      "M. K\"uhbach and V. V. Rielli and S. Primig and A. Saxena and B. Jenkins and D. Mayweg and A. Reichmann and S. Kardos and L. Romaner and S. Brockhauser\n",
      "CGM paper\n",
      "arXiv, 2022\n",
      "https://arxiv.org/abs/2205.13510\n",
      "\n",
      "\n",
      "Reading configuration from PARAPROBE.Ranger.Config.SimID.636502001.nxs\n",
      "Reading /entry/number_of_processes success\n",
      "dims[0] 1 sdim 57\n",
      "rbuf.size() 57\n",
      "Reading /entry/process0/range_with_existent_iontypes/dataset/filename success\n",
      "dims[0] 1 sdim 57\n",
      "rbuf.size() 57\n",
      "Reading /entry/process0/range_with_existent_iontypes/dataset/dataset_name_reconstruction success\n",
      "dims[0] 1 sdim 59\n",
      "rbuf.size() 59\n",
      "Reading /entry/process0/range_with_existent_iontypes/dataset/dataset_name_mass_to_charge success\n",
      "dims[0] 1 sdim 57\n",
      "rbuf.size() 57\n",
      "Reading /entry/process0/range_with_existent_iontypes/iontypes/filename success\n",
      "dims[0] 1 sdim 46\n",
      "rbuf.size() 46\n",
      "Reading /entry/process0/range_with_existent_iontypes/iontypes/group_name_iontypes success\n",
      "ConfigRanger::\n",
      "OutputfilePrefix PARAPROBE.Ranger.Results.SimID.636502001\n",
      "DatasetID 636502001\n",
      "Using external ranging data from e.g. USE_EXISTENT_RANGEFILE\n",
      "InputfileDataset PARAPROBE.Transcoder.Results.SimID.636502001.nxs\n",
      "MassToChargeDatasetName /entry/atom_probe/mass_to_charge_conversion/mass_to_charge\n",
      "InputfileIonTypes PARAPROBE.Transcoder.Results.SimID.636502001.nxs\n",
      "IonTypesGroupName /entry/atom_probe/ranging/peak_identification\n",
      "PracticalMassToChargeResolution 0.0005\n",
      "\n",
      "Configuration is accepted, analysis has SimulationID SimID.636502001\n",
      "\n",
      "Rank 0 initialized, we are now MPI_COMM_WORLD parallel using MPI_THREAD_FUNNELED\n",
      "HDF5-DIAG: Error detected in HDF5 (1.14.0) MPI-process 0:\n",
      "  #000: H5F.c line 836 in H5Fopen(): unable to synchronously open file\n",
      "    major: File accessibility\n",
      "    minor: Unable to open file\n",
      "  #001: H5F.c line 796 in H5F__open_api_common(): unable to open file\n",
      "    major: File accessibility\n",
      "    minor: Unable to open file\n",
      "  #002: H5VLcallback.c line 3863 in H5VL_file_open(): open failed\n",
      "    major: Virtual Object Layer\n",
      "    minor: Can't open object\n",
      "  #003: H5VLcallback.c line 3675 in H5VL__file_open(): open failed\n",
      "    major: Virtual Object Layer\n",
      "    minor: Can't open object\n",
      "  #004: H5VLnative_file.c line 128 in H5VL__native_file_open(): unable to open file\n",
      "    major: File accessibility\n",
      "    minor: Unable to open file\n",
      "  #005: H5Fint.c line 1873 in H5F_open(): unable to lock the file\n",
      "    major: File accessibility\n",
      "    minor: Unable to lock file\n",
      "  #006: H5FD.c line 2034 in H5FD_lock(): driver lock request failed\n",
      "    major: Virtual File Layer\n",
      "    minor: Unable to lock file\n",
      "  #007: H5FDsec2.c line 988 in H5FD__sec2_lock(): unable to lock file, errno = 11, error message = 'Resource temporarily unavailable'\n",
      "    major: Virtual File Layer\n",
      "    minor: Unable to lock file\n",
      "Opening file PARAPROBE.Transcoder.Results.SimID.636502001.nxs failed !\n",
      "Reading mass-to-charge state ratio values failed !\n",
      "PARAPROBE.Transcoder.Results.SimID.636502001.nxs read mass-to-charge failed !\n",
      "Rank 0 failed reading essential pieces of the relevant input !\n",
      "Rank 0 has recognized that not all data have arrived!\n",
      "Rank 0 left MPI_COMM_WORLD deconstructed\n",
      "paraprobe-ranger took 0.0308119 seconds wall-clock time in total\n"
     ]
    }
   ],
   "source": [
    "! export OMP_NUM_THREADS=4 && mpiexec -n 1 paraprobe_ranger $jobid $ranger_config"
   ]
  },
  {
   "cell_type": "code",
   "execution_count": 15,
   "id": "88281c37",
   "metadata": {},
   "outputs": [],
   "source": [
    "ranger_results = f\"PARAPROBE.Ranger.Results.SimID.{jobid}.h5\""
   ]
  },
  {
   "cell_type": "code",
   "execution_count": 16,
   "id": "fdf179a7",
   "metadata": {},
   "outputs": [
    {
     "ename": "FileNotFoundError",
     "evalue": "/mnt/c/Users/menon/Documents/winrepos/pyiron-apt/paraprobe_pyiron/PARAPROBE.Ranger.Results.SimID.636502001.h5 is not a valid file.",
     "output_type": "error",
     "traceback": [
      "\u001b[0;31m---------------------------------------------------------------------------\u001b[0m",
      "\u001b[0;31mFileNotFoundError\u001b[0m                         Traceback (most recent call last)",
      "Cell \u001b[0;32mIn[16], line 1\u001b[0m\n\u001b[0;32m----> 1\u001b[0m \u001b[43mH5Web\u001b[49m\u001b[43m(\u001b[49m\u001b[43mranger_results\u001b[49m\u001b[43m)\u001b[49m\n",
      "File \u001b[0;32m~/miniconda3/envs/apt2/lib/python3.9/site-packages/jupyterlab_h5web/widget.py:16\u001b[0m, in \u001b[0;36mH5Web.__init__\u001b[0;34m(self, file_path, **kwargs)\u001b[0m\n\u001b[1;32m     14\u001b[0m \u001b[38;5;28;01mif\u001b[39;00m kwargs:\n\u001b[1;32m     15\u001b[0m     \u001b[38;5;28mself\u001b[39m\u001b[38;5;241m.\u001b[39mmetadata\u001b[38;5;241m.\u001b[39mupdate(kwargs)\n\u001b[0;32m---> 16\u001b[0m \u001b[38;5;28;43mself\u001b[39;49m\u001b[38;5;241;43m.\u001b[39;49m\u001b[43m_check_data\u001b[49m\u001b[43m(\u001b[49m\u001b[43m)\u001b[49m\n",
      "File \u001b[0;32m~/miniconda3/envs/apt2/lib/python3.9/site-packages/jupyterlab_h5web/widget.py:20\u001b[0m, in \u001b[0;36mH5Web._check_data\u001b[0;34m(self)\u001b[0m\n\u001b[1;32m     18\u001b[0m \u001b[38;5;28;01mdef\u001b[39;00m \u001b[38;5;21m_check_data\u001b[39m(\u001b[38;5;28mself\u001b[39m) \u001b[38;5;241m-\u001b[39m\u001b[38;5;241m>\u001b[39m \u001b[38;5;28;01mNone\u001b[39;00m:\n\u001b[1;32m     19\u001b[0m     \u001b[38;5;28;01mif\u001b[39;00m \u001b[38;5;129;01mnot\u001b[39;00m \u001b[38;5;28mself\u001b[39m\u001b[38;5;241m.\u001b[39mdata\u001b[38;5;241m.\u001b[39mis_file():\n\u001b[0;32m---> 20\u001b[0m         \u001b[38;5;28;01mraise\u001b[39;00m \u001b[38;5;167;01mFileNotFoundError\u001b[39;00m(\u001b[38;5;124mf\u001b[39m\u001b[38;5;124m\"\u001b[39m\u001b[38;5;132;01m{\u001b[39;00m\u001b[38;5;28mself\u001b[39m\u001b[38;5;241m.\u001b[39mdata\u001b[38;5;132;01m}\u001b[39;00m\u001b[38;5;124m is not a valid file.\u001b[39m\u001b[38;5;124m\"\u001b[39m)\n",
      "\u001b[0;31mFileNotFoundError\u001b[0m: /mnt/c/Users/menon/Documents/winrepos/pyiron-apt/paraprobe_pyiron/PARAPROBE.Ranger.Results.SimID.636502001.h5 is not a valid file."
     ]
    }
   ],
   "source": [
    "H5Web(ranger_results)"
   ]
  },
  {
   "cell_type": "code",
   "execution_count": null,
   "id": "e867b67b",
   "metadata": {},
   "outputs": [],
   "source": [
    "ranger_report = AutoReporterRanger(ranger_results, jobid)\n",
    "ranger_report.get_summary()"
   ]
  }
 ],
 "metadata": {
  "kernelspec": {
   "display_name": "Python 3 (ipykernel)",
   "language": "python",
   "name": "python3"
  },
  "language_info": {
   "codemirror_mode": {
    "name": "ipython",
    "version": 3
   },
   "file_extension": ".py",
   "mimetype": "text/x-python",
   "name": "python",
   "nbconvert_exporter": "python",
   "pygments_lexer": "ipython3",
   "version": "3.9.16"
  }
 },
 "nbformat": 4,
 "nbformat_minor": 5
}
