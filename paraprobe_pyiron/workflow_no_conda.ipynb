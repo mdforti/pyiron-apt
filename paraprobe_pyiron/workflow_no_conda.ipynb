{
 "cells": [
  {
   "cell_type": "code",
   "execution_count": null,
   "id": "42d3c5d2-cdb9-4984-9741-c55f936ec4f6",
   "metadata": {},
   "outputs": [],
   "source": [
    "MYTOOLBOXPATH='../../../'\n",
    "from jupyterlab_h5web import H5Web\n",
    "from IPython.display import Image\n",
    "import sys, os\n",
    "import h5py, ase\n",
    "import numpy as np\n",
    "sys.path.append(MYTOOLBOXPATH + '/code')\n",
    "sys.path.append(MYTOOLBOXPATH + '/code/paraprobe-parmsetup/src/python')\n",
    "sys.path.append(MYTOOLBOXPATH + '/code/paraprobe-transcoder/src/python')\n",
    "sys.path.append(MYTOOLBOXPATH + '/code/paraprobe-autoreporter/src/python')\n",
    "print('Current working directory is')\n",
    "print(os.getcwd())"
   ]
  },
  {
   "cell_type": "code",
   "execution_count": null,
   "id": "20b2582c-f4fa-4dd1-b77f-0f2bb15fda80",
   "metadata": {},
   "outputs": [],
   "source": [
    "from tools.transcoder_guru import ParmsetupTranscoder, TranscodingTask\n",
    "from tools.ranger_guru import ParmsetupRanger, ApplyExistentRanging, MolecularIonSearch\n",
    "from wizard.ranger_report import AutoReporterRanger"
   ]
  },
  {
   "cell_type": "code",
   "execution_count": null,
   "id": "556183cb-0446-4314-8a23-7c71d9a45cc4",
   "metadata": {},
   "outputs": [],
   "source": [
    "# specify the location where you have your data on the system\n",
    "# testing without NeXus\n",
    "MY_MEASURED_DATA_PATH = MYTOOLBOXPATH + '/teaching/example_data/usa_portland_wang'\n",
    "MY_PROCESSED_DATA_PATH = MYTOOLBOXPATH + '/teaching/example_analyses/usa_portland_wang'\n",
    "# testing with NeXus\n",
    "# MY_MEASURED_DATA_PATH = MYTOOLBOXPATH + '/teaching/example_data/ger_berlin_kuehbach_fairmat'\n",
    "\n",
    "# specify disjoint identifier with which all config and results files for this analysis will be tagged.\n",
    "jobids = [636502001]\n",
    "JOBIDS = []\n",
    "for jobid in jobids:\n",
    "    assert isinstance(jobid, int), 'identifier needs to be an unsigned integer !'\n",
    "    assert jobid != 0, 'identifier must not be 0 !'\n",
    "    assert jobid <= np.iinfo(np.uint32).max, 'identifier needs to be on interval [1, 4294967295]'\n",
    "    JOBIDS.append(str(jobid))\n",
    "print(JOBIDS)"
   ]
  },
  {
   "cell_type": "code",
   "execution_count": null,
   "id": "410d55df-2459-4287-a253-15d79906994c",
   "metadata": {},
   "outputs": [],
   "source": [
    "TRANSCODER_CONFIG = {}\n",
    "RECONSTRUCTION_AND_RANGING = {}\n",
    "RECONSTRUCTION_AND_RANGING[jobids[0]] = ('R31_06365-v02.pos', 'R31_06365-v02.rrng')\n",
    "\n",
    "for jobid in jobids:\n",
    "    JOBID = str(jobid)\n",
    "    transcoder = ParmsetupTranscoder()\n",
    "\n",
    "    TRANSCODER_CONFIG[jobid] = transcoder.load_reconstruction_and_ranging(\n",
    "        working_directory='',\n",
    "        reconstructed_dataset=MY_MEASURED_DATA_PATH + '/' + RECONSTRUCTION_AND_RANGING[jobid][0],\n",
    "        ranging_definitions=MY_MEASURED_DATA_PATH + '/' + RECONSTRUCTION_AND_RANGING[jobid][1],\n",
    "        jobid=jobid)\n",
    "\n",
    "print(TRANSCODER_CONFIG)"
   ]
  },
  {
   "cell_type": "code",
   "execution_count": null,
   "id": "f4ba5a31-6021-4c17-ae3d-d7a4f0ef807e",
   "metadata": {},
   "outputs": [],
   "source": [
    "H5Web(TRANSCODER_CONFIG[jobid])"
   ]
  },
  {
   "cell_type": "code",
   "execution_count": null,
   "id": "c3aac07b-04ce-43d3-aa5b-549c7d1b9236",
   "metadata": {},
   "outputs": [],
   "source": [
    "# execute paraprobe-transcoder Python tool\n",
    "TRANSCODER_RESULTS = {}\n",
    "for jobid in jobids:\n",
    "    transcoder = ParaprobeTranscoder(TRANSCODER_CONFIG[jobid])\n",
    "    TRANSCODER_RESULTS[jobid] = transcoder.execute()\n",
    "print(TRANSCODER_RESULTS)"
   ]
  },
  {
   "cell_type": "code",
   "execution_count": null,
   "id": "ba460d8c-100f-4803-8346-10eeb60f5d8b",
   "metadata": {},
   "outputs": [],
   "source": [
    "get_file_size(TRANSCODER_RESULTS[jobid])\n",
    "H5Web(TRANSCODER_RESULTS[jobid])"
   ]
  },
  {
   "cell_type": "code",
   "execution_count": null,
   "id": "59b45ed8-aa5b-4dcd-b90b-39479196af59",
   "metadata": {},
   "outputs": [],
   "source": [
    "RANGER_CONFIG = {}\n",
    "for jobid in jobids:\n",
    "    JOBID = str(jobid)\n",
    "    ranger = ParmsetupRanger()\n",
    "    RANGER_CONFIG[jobid] = ranger.apply_existent_ranging(\n",
    "        working_directory=MY_PROCESSED_DATA_PATH,\n",
    "        transcoder_config_sim_id=jobid,\n",
    "        transcoder_results_sim_id=jobid,\n",
    "        ranger_results_sim_id=jobid)\n",
    "print(RANGER_CONFIG)"
   ]
  },
  {
   "cell_type": "code",
   "execution_count": null,
   "id": "ee60c26a-c958-499c-b095-f7c39ff12bf7",
   "metadata": {},
   "outputs": [],
   "source": [
    "get_file_size(RANGER_RESULTS[jobid])\n",
    "H5Web(RANGER_RESULTS[jobid])"
   ]
  },
  {
   "cell_type": "code",
   "execution_count": null,
   "id": "20807d9f-5caa-48ac-b9c7-20b748ac95f8",
   "metadata": {},
   "outputs": [],
   "source": [
    "for jobid in jobids:\n",
    "    JOBID = str(jobid)\n",
    "    print(JOBID)\n",
    "    ranger_report = AutoReporterRanger(RANGER_RESULTS[jobid], JOBID)\n",
    "    ranger_report.get_summary()"
   ]
  }
 ],
 "metadata": {
  "kernelspec": {
   "display_name": "Python 3 (ipykernel)",
   "language": "python",
   "name": "python3"
  },
  "language_info": {
   "codemirror_mode": {
    "name": "ipython",
    "version": 3
   },
   "file_extension": ".py",
   "mimetype": "text/x-python",
   "name": "python",
   "nbconvert_exporter": "python",
   "pygments_lexer": "ipython3",
   "version": "3.9.16"
  }
 },
 "nbformat": 4,
 "nbformat_minor": 5
}
