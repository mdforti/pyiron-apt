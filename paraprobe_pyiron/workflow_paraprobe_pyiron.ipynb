{
 "cells": [
  {
   "cell_type": "code",
   "execution_count": 1,
   "id": "d88688fa",
   "metadata": {},
   "outputs": [],
   "source": [
    "from pyiron_base import Project\n",
    "from paraprobe_ranger_job import ParaprobeRanger\n",
    "from paraprobe_surfacer_job import ParaprobeSurfacer\n",
    "from paraprobe_distancer_job import ParaprobeDistancer\n",
    "from paraprobe_tessellator_job import ParaprobeTessellator\n",
    "from paraprobe_nanochem_job import ParaprobeNanochem"
   ]
  },
  {
   "cell_type": "code",
   "execution_count": 2,
   "id": "ab61b9d5",
   "metadata": {},
   "outputs": [],
   "source": [
    "pr = Project('testc')"
   ]
  },
  {
   "cell_type": "code",
   "execution_count": 3,
   "id": "dadac975",
   "metadata": {},
   "outputs": [],
   "source": [
    "import os"
   ]
  },
  {
   "cell_type": "code",
   "execution_count": 4,
   "id": "77670dee",
   "metadata": {},
   "outputs": [
    {
     "data": {
      "text/plain": [
       "'/scratch/git/pyiron-apt/paraprobe_pyiron'"
      ]
     },
     "execution_count": 4,
     "metadata": {},
     "output_type": "execute_result"
    }
   ],
   "source": [
    "os.getcwd()"
   ]
  },
  {
   "cell_type": "code",
   "execution_count": 8,
   "id": "79dc3288",
   "metadata": {
    "tags": []
   },
   "outputs": [
    {
     "name": "stdout",
     "output_type": "stream",
     "text": [
      "/scratch/git/pyiron-apt/paraprobe_pyiron\n"
     ]
    },
    {
     "ename": "NameError",
     "evalue": "name 'ParmsetupTranscoder' is not defined",
     "output_type": "error",
     "traceback": [
      "\u001b[0;31m---------------------------------------------------------------------------\u001b[0m",
      "\u001b[0;31mNameError\u001b[0m                                 Traceback (most recent call last)",
      "Cell \u001b[0;32mIn[8], line 6\u001b[0m\n\u001b[1;32m      4\u001b[0m job\u001b[38;5;241m.\u001b[39mpos_file \u001b[38;5;241m=\u001b[39m \u001b[38;5;124m\"\u001b[39m\u001b[38;5;124mtest/t6_hdf5/t6/R31_06365-v02.pos\u001b[39m\u001b[38;5;124m\"\u001b[39m  \u001b[38;5;66;03m#/R31_06365-v02.pos\u001b[39;00m\n\u001b[1;32m      5\u001b[0m job\u001b[38;5;241m.\u001b[39mrrng_file \u001b[38;5;241m=\u001b[39m \u001b[38;5;124m\"\u001b[39m\u001b[38;5;124mtest/t6_hdf5/t6/R31_06365-v02.rrng\u001b[39m\u001b[38;5;124m\"\u001b[39m \u001b[38;5;66;03m#\"../data/R31_06365-v02.rrng\"\u001b[39;00m\n\u001b[0;32m----> 6\u001b[0m \u001b[43mjob\u001b[49m\u001b[38;5;241;43m.\u001b[39;49m\u001b[43mrun\u001b[49m\u001b[43m(\u001b[49m\u001b[43m)\u001b[49m\n",
      "File \u001b[0;32m/scratch/AnacondaEnvironments/paraprobe-compositionspace/lib/python3.10/site-packages/pyiron_base/utils/deprecate.py:171\u001b[0m, in \u001b[0;36mDeprecator.__deprecate_argument.<locals>.decorated\u001b[0;34m(*args, **kwargs)\u001b[0m\n\u001b[1;32m    161\u001b[0m     \u001b[38;5;28;01mif\u001b[39;00m kw \u001b[38;5;129;01min\u001b[39;00m \u001b[38;5;28mself\u001b[39m\u001b[38;5;241m.\u001b[39marguments:\n\u001b[1;32m    162\u001b[0m         warnings\u001b[38;5;241m.\u001b[39mwarn(\n\u001b[1;32m    163\u001b[0m             message_format\u001b[38;5;241m.\u001b[39mformat(\n\u001b[1;32m    164\u001b[0m                 \u001b[38;5;124m\"\u001b[39m\u001b[38;5;132;01m{}\u001b[39;00m\u001b[38;5;124m.\u001b[39m\u001b[38;5;132;01m{}\u001b[39;00m\u001b[38;5;124m(\u001b[39m\u001b[38;5;132;01m{}\u001b[39;00m\u001b[38;5;124m=\u001b[39m\u001b[38;5;132;01m{}\u001b[39;00m\u001b[38;5;124m)\u001b[39m\u001b[38;5;124m\"\u001b[39m\u001b[38;5;241m.\u001b[39mformat(\n\u001b[0;32m   (...)\u001b[0m\n\u001b[1;32m    169\u001b[0m             stacklevel\u001b[38;5;241m=\u001b[39m\u001b[38;5;241m2\u001b[39m,\n\u001b[1;32m    170\u001b[0m         )\n\u001b[0;32m--> 171\u001b[0m \u001b[38;5;28;01mreturn\u001b[39;00m \u001b[43mfunction\u001b[49m\u001b[43m(\u001b[49m\u001b[38;5;241;43m*\u001b[39;49m\u001b[43margs\u001b[49m\u001b[43m,\u001b[49m\u001b[43m \u001b[49m\u001b[38;5;241;43m*\u001b[39;49m\u001b[38;5;241;43m*\u001b[39;49m\u001b[43mkwargs\u001b[49m\u001b[43m)\u001b[49m\n",
      "File \u001b[0;32m/scratch/AnacondaEnvironments/paraprobe-compositionspace/lib/python3.10/site-packages/pyiron_base/jobs/job/generic.py:693\u001b[0m, in \u001b[0;36mGenericJob.run\u001b[0;34m(self, delete_existing_job, repair, debug, run_mode, run_again)\u001b[0m\n\u001b[1;32m    691\u001b[0m     \u001b[38;5;28mself\u001b[39m\u001b[38;5;241m.\u001b[39m_run_if_repair()\n\u001b[1;32m    692\u001b[0m \u001b[38;5;28;01melif\u001b[39;00m status \u001b[38;5;241m==\u001b[39m \u001b[38;5;124m\"\u001b[39m\u001b[38;5;124minitialized\u001b[39m\u001b[38;5;124m\"\u001b[39m:\n\u001b[0;32m--> 693\u001b[0m     \u001b[38;5;28;43mself\u001b[39;49m\u001b[38;5;241;43m.\u001b[39;49m\u001b[43m_run_if_new\u001b[49m\u001b[43m(\u001b[49m\u001b[43mdebug\u001b[49m\u001b[38;5;241;43m=\u001b[39;49m\u001b[43mdebug\u001b[49m\u001b[43m)\u001b[49m\n\u001b[1;32m    694\u001b[0m \u001b[38;5;28;01melif\u001b[39;00m status \u001b[38;5;241m==\u001b[39m \u001b[38;5;124m\"\u001b[39m\u001b[38;5;124mcreated\u001b[39m\u001b[38;5;124m\"\u001b[39m:\n\u001b[1;32m    695\u001b[0m     \u001b[38;5;28mself\u001b[39m\u001b[38;5;241m.\u001b[39m_run_if_created()\n",
      "File \u001b[0;32m/scratch/AnacondaEnvironments/paraprobe-compositionspace/lib/python3.10/site-packages/pyiron_base/jobs/job/generic.py:1217\u001b[0m, in \u001b[0;36mGenericJob._run_if_new\u001b[0;34m(self, debug)\u001b[0m\n\u001b[1;32m   1209\u001b[0m \u001b[38;5;28;01mdef\u001b[39;00m \u001b[38;5;21m_run_if_new\u001b[39m(\u001b[38;5;28mself\u001b[39m, debug\u001b[38;5;241m=\u001b[39m\u001b[38;5;28;01mFalse\u001b[39;00m):\n\u001b[1;32m   1210\u001b[0m \u001b[38;5;250m    \u001b[39m\u001b[38;5;124;03m\"\"\"\u001b[39;00m\n\u001b[1;32m   1211\u001b[0m \u001b[38;5;124;03m    Internal helper function the run if new function is called when the job status is 'initialized'. It prepares\u001b[39;00m\n\u001b[1;32m   1212\u001b[0m \u001b[38;5;124;03m    the hdf5 file and the corresponding directory structure.\u001b[39;00m\n\u001b[0;32m   (...)\u001b[0m\n\u001b[1;32m   1215\u001b[0m \u001b[38;5;124;03m        debug (bool): Debug Mode\u001b[39;00m\n\u001b[1;32m   1216\u001b[0m \u001b[38;5;124;03m    \"\"\"\u001b[39;00m\n\u001b[0;32m-> 1217\u001b[0m     \u001b[43mrun_job_with_status_initialized\u001b[49m\u001b[43m(\u001b[49m\u001b[43mjob\u001b[49m\u001b[38;5;241;43m=\u001b[39;49m\u001b[38;5;28;43mself\u001b[39;49m\u001b[43m,\u001b[49m\u001b[43m \u001b[49m\u001b[43mdebug\u001b[49m\u001b[38;5;241;43m=\u001b[39;49m\u001b[43mdebug\u001b[49m\u001b[43m)\u001b[49m\n",
      "File \u001b[0;32m/scratch/AnacondaEnvironments/paraprobe-compositionspace/lib/python3.10/site-packages/pyiron_base/jobs/job/runfunction.py:75\u001b[0m, in \u001b[0;36mrun_job_with_status_initialized\u001b[0;34m(job, debug)\u001b[0m\n\u001b[1;32m     73\u001b[0m     \u001b[38;5;28mprint\u001b[39m(\u001b[38;5;124m\"\u001b[39m\u001b[38;5;124mjob exists already and therefore was not created!\u001b[39m\u001b[38;5;124m\"\u001b[39m)\n\u001b[1;32m     74\u001b[0m \u001b[38;5;28;01melse\u001b[39;00m:\n\u001b[0;32m---> 75\u001b[0m     \u001b[43mjob\u001b[49m\u001b[38;5;241;43m.\u001b[39;49m\u001b[43msave\u001b[49m\u001b[43m(\u001b[49m\u001b[43m)\u001b[49m\n\u001b[1;32m     76\u001b[0m     job\u001b[38;5;241m.\u001b[39mrun()\n",
      "File \u001b[0;32m/scratch/AnacondaEnvironments/paraprobe-compositionspace/lib/python3.10/site-packages/pyiron_base/jobs/job/generic.py:1090\u001b[0m, in \u001b[0;36mGenericJob.save\u001b[0;34m(self)\u001b[0m\n\u001b[1;32m   1088\u001b[0m \u001b[38;5;28;01mif\u001b[39;00m \u001b[38;5;28mself\u001b[39m\u001b[38;5;241m.\u001b[39m_check_if_input_should_be_written():\n\u001b[1;32m   1089\u001b[0m     \u001b[38;5;28mself\u001b[39m\u001b[38;5;241m.\u001b[39mproject_hdf5\u001b[38;5;241m.\u001b[39mcreate_working_directory()\n\u001b[0;32m-> 1090\u001b[0m     \u001b[38;5;28;43mself\u001b[39;49m\u001b[38;5;241;43m.\u001b[39;49m\u001b[43mwrite_input\u001b[49m\u001b[43m(\u001b[49m\u001b[43m)\u001b[49m\n\u001b[1;32m   1091\u001b[0m     _copy_restart_files(job\u001b[38;5;241m=\u001b[39m\u001b[38;5;28mself\u001b[39m)\n\u001b[1;32m   1092\u001b[0m \u001b[38;5;28mself\u001b[39m\u001b[38;5;241m.\u001b[39mstatus\u001b[38;5;241m.\u001b[39mcreated \u001b[38;5;241m=\u001b[39m \u001b[38;5;28;01mTrue\u001b[39;00m\n",
      "File \u001b[0;32m/scratch/git/pyiron-apt/paraprobe_pyiron/paraprobe_ranger_job.py:81\u001b[0m, in \u001b[0;36mParaprobeRanger.write_input\u001b[0;34m(self)\u001b[0m\n\u001b[1;32m     79\u001b[0m \u001b[38;5;28mself\u001b[39m\u001b[38;5;241m.\u001b[39mpos_file \u001b[38;5;241m=\u001b[39m \u001b[38;5;28mself\u001b[39m\u001b[38;5;241m.\u001b[39m_copy_file(\u001b[38;5;28mself\u001b[39m\u001b[38;5;241m.\u001b[39mpos_file)\n\u001b[1;32m     80\u001b[0m \u001b[38;5;28mself\u001b[39m\u001b[38;5;241m.\u001b[39mrrng_file \u001b[38;5;241m=\u001b[39m \u001b[38;5;28mself\u001b[39m\u001b[38;5;241m.\u001b[39m_copy_file(\u001b[38;5;28mself\u001b[39m\u001b[38;5;241m.\u001b[39mrrng_file)\n\u001b[0;32m---> 81\u001b[0m \u001b[38;5;28;43mself\u001b[39;49m\u001b[38;5;241;43m.\u001b[39;49m\u001b[43m_configure_transcoder\u001b[49m\u001b[43m(\u001b[49m\u001b[43m)\u001b[49m\n\u001b[1;32m     82\u001b[0m \u001b[38;5;28mself\u001b[39m\u001b[38;5;241m.\u001b[39m_execute_transcoder()\n\u001b[1;32m     83\u001b[0m \u001b[38;5;28mself\u001b[39m\u001b[38;5;241m.\u001b[39m_configure_ranger()\n",
      "File \u001b[0;32m/scratch/git/pyiron-apt/paraprobe_pyiron/paraprobe_base_job.py:31\u001b[0m, in \u001b[0;36m_change_directory.<locals>.change_dir\u001b[0;34m(self)\u001b[0m\n\u001b[1;32m     29\u001b[0m \u001b[38;5;28;01mdef\u001b[39;00m \u001b[38;5;21mchange_dir\u001b[39m(\u001b[38;5;28mself\u001b[39m):\n\u001b[1;32m     30\u001b[0m     os\u001b[38;5;241m.\u001b[39mchdir(\u001b[38;5;28mself\u001b[39m\u001b[38;5;241m.\u001b[39mworking_directory)\n\u001b[0;32m---> 31\u001b[0m     \u001b[43mmethod\u001b[49m\u001b[43m(\u001b[49m\u001b[38;5;28;43mself\u001b[39;49m\u001b[43m)\u001b[49m\n\u001b[1;32m     32\u001b[0m     os\u001b[38;5;241m.\u001b[39mchdir(\u001b[38;5;28mself\u001b[39m\u001b[38;5;241m.\u001b[39m_current_dir)\n",
      "File \u001b[0;32m/scratch/git/pyiron-apt/paraprobe_pyiron/paraprobe_base_job.py:19\u001b[0m, in \u001b[0;36m_pipe_output_to_file.<locals>._wrapper.<locals>.change_stdout\u001b[0;34m(self)\u001b[0m\n\u001b[1;32m     17\u001b[0m f \u001b[38;5;241m=\u001b[39m \u001b[38;5;28mopen\u001b[39m(outfile, \u001b[38;5;124m'\u001b[39m\u001b[38;5;124mw\u001b[39m\u001b[38;5;124m'\u001b[39m)\n\u001b[1;32m     18\u001b[0m sys\u001b[38;5;241m.\u001b[39mstdout \u001b[38;5;241m=\u001b[39m f\n\u001b[0;32m---> 19\u001b[0m \u001b[43mmethod\u001b[49m\u001b[43m(\u001b[49m\u001b[38;5;28;43mself\u001b[39;49m\u001b[43m)\u001b[49m\n\u001b[1;32m     20\u001b[0m sys\u001b[38;5;241m.\u001b[39mstdout \u001b[38;5;241m=\u001b[39m orig_stdout\n\u001b[1;32m     21\u001b[0m f\u001b[38;5;241m.\u001b[39mclose()\n",
      "File \u001b[0;32m/scratch/git/pyiron-apt/paraprobe_pyiron/paraprobe_ranger_job.py:53\u001b[0m, in \u001b[0;36mParaprobeRanger._configure_transcoder\u001b[0;34m(self)\u001b[0m\n\u001b[1;32m     50\u001b[0m \u001b[38;5;129m@_change_directory\u001b[39m\n\u001b[1;32m     51\u001b[0m \u001b[38;5;129m@_pipe_output_to_file\u001b[39m(\u001b[38;5;124m\"\u001b[39m\u001b[38;5;124mconfig_transcoder.log\u001b[39m\u001b[38;5;124m\"\u001b[39m)\n\u001b[1;32m     52\u001b[0m \u001b[38;5;28;01mdef\u001b[39;00m \u001b[38;5;21m_configure_transcoder\u001b[39m(\u001b[38;5;28mself\u001b[39m):\n\u001b[0;32m---> 53\u001b[0m     transcoder \u001b[38;5;241m=\u001b[39m \u001b[43mParmsetupTranscoder\u001b[49m()\n\u001b[1;32m     54\u001b[0m     \u001b[38;5;28mself\u001b[39m\u001b[38;5;241m.\u001b[39m_transcoder_config \u001b[38;5;241m=\u001b[39m transcoder\u001b[38;5;241m.\u001b[39mload_reconstruction_and_ranging(\n\u001b[1;32m     55\u001b[0m     working_directory\u001b[38;5;241m=\u001b[39m\u001b[38;5;28mself\u001b[39m\u001b[38;5;241m.\u001b[39mworking_directory,\n\u001b[1;32m     56\u001b[0m     reconstructed_dataset\u001b[38;5;241m=\u001b[39m\u001b[38;5;28mself\u001b[39m\u001b[38;5;241m.\u001b[39mpos_file,\n\u001b[1;32m     57\u001b[0m     ranging_definitions\u001b[38;5;241m=\u001b[39m\u001b[38;5;28mself\u001b[39m\u001b[38;5;241m.\u001b[39mrrng_file,\n\u001b[1;32m     58\u001b[0m     jobid\u001b[38;5;241m=\u001b[39m\u001b[38;5;28mself\u001b[39m\u001b[38;5;241m.\u001b[39mjobid)\n",
      "\u001b[0;31mNameError\u001b[0m: name 'ParmsetupTranscoder' is not defined"
     ]
    }
   ],
   "source": [
    "job = pr.create_job(job_type=ParaprobeRanger, job_name=\"t6\", \n",
    "                    delete_existing_job=True)\n",
    "print(os.getcwd())\n",
    "job.pos_file = \"test/t6_hdf5/t6/R31_06365-v02.pos\"  #/R31_06365-v02.pos\n",
    "job.rrng_file = \"test/t6_hdf5/t6/R31_06365-v02.rrng\" #\"../data/R31_06365-v02.rrng\"\n",
    "job.run()"
   ]
  },
  {
   "cell_type": "code",
   "execution_count": 5,
   "id": "803cc1a2",
   "metadata": {
    "tags": []
   },
   "outputs": [
    {
     "data": {
      "text/plain": [
       "'t6'"
      ]
     },
     "execution_count": 5,
     "metadata": {},
     "output_type": "execute_result"
    }
   ],
   "source": [
    "job.name"
   ]
  },
  {
   "cell_type": "code",
   "execution_count": null,
   "id": "dae26160",
   "metadata": {},
   "outputs": [],
   "source": [
    "job2 = pr.create_job(job_type=ParaprobeSurfacer, job_name=\"t7\", \n",
    "                    delete_existing_job=True)\n",
    "job2.ranger_job = job\n",
    "job2.pos_file = \"../data/R31_06365-v02.pos\"\n",
    "job2.rrng_file = \"../data/R31_06365-v02.rrng\"\n",
    "job2.run()"
   ]
  },
  {
   "cell_type": "code",
   "execution_count": null,
   "id": "9d729ab8",
   "metadata": {},
   "outputs": [],
   "source": [
    "job3 = pr.create_job(job_type=ParaprobeDistancer, job_name=\"t8\", \n",
    "                    delete_existing_job=True)\n",
    "job3.ranger_job = job\n",
    "job3.surfacer_job = job2\n",
    "job3.pos_file = \"../data/R31_06365-v02.pos\"\n",
    "job3.rrng_file = \"../data/R31_06365-v02.rrng\"\n",
    "job3.run()"
   ]
  },
  {
   "cell_type": "code",
   "execution_count": null,
   "id": "af253308",
   "metadata": {},
   "outputs": [],
   "source": [
    "job4 = pr.create_job(job_type=ParaprobeTessellator, job_name=\"t9\", \n",
    "                    delete_existing_job=True)\n",
    "job4.ranger_job = job\n",
    "job4.distancer_job = job3\n",
    "job4.pos_file = \"../data/R31_06365-v02.pos\"\n",
    "job4.rrng_file = \"../data/R31_06365-v02.rrng\"\n",
    "job4.run()"
   ]
  },
  {
   "cell_type": "code",
   "execution_count": null,
   "id": "5ed7d23d",
   "metadata": {
    "tags": []
   },
   "outputs": [],
   "source": [
    "job4.plot()"
   ]
  },
  {
   "cell_type": "code",
   "execution_count": null,
   "id": "fa01a30a",
   "metadata": {},
   "outputs": [],
   "source": [
    "job5 = pr.create_job(job_type=ParaprobeNanochem, job_name=\"t10\", \n",
    "                    delete_existing_job=True)\n",
    "job5.ranger_job = job\n",
    "job5.surfacer_job = job2\n",
    "job5.distancer_job = job3\n",
    "job5.pos_file = \"../data/R31_06365-v02.pos\"\n",
    "job5.rrng_file = \"../data/R31_06365-v02.rrng\"\n",
    "job5.run()"
   ]
  },
  {
   "cell_type": "code",
   "execution_count": null,
   "id": "c89970de",
   "metadata": {},
   "outputs": [],
   "source": []
  }
 ],
 "metadata": {
  "kernelspec": {
   "display_name": "Python 3 (ipykernel)",
   "language": "python",
   "name": "python3"
  },
  "language_info": {
   "codemirror_mode": {
    "name": "ipython",
    "version": 3
   },
   "file_extension": ".py",
   "mimetype": "text/x-python",
   "name": "python",
   "nbconvert_exporter": "python",
   "pygments_lexer": "ipython3",
   "version": "3.10.10"
  }
 },
 "nbformat": 4,
 "nbformat_minor": 5
}
