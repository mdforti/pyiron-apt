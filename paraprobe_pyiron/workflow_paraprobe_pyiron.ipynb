{
 "cells": [
  {
   "cell_type": "code",
   "execution_count": 1,
   "id": "4a1f449a",
   "metadata": {},
   "outputs": [],
   "source": [
    "import os\n",
    "from pyiron_base import Project\n",
    "from paraprobe_ranger_job import ParaprobeRanger"
   ]
  },
  {
   "cell_type": "code",
   "execution_count": 2,
   "id": "e214a456",
   "metadata": {},
   "outputs": [],
   "source": [
    "pr = Project('test')"
   ]
  },
  {
   "cell_type": "code",
   "execution_count": 3,
   "id": "8be0f957",
   "metadata": {},
   "outputs": [],
   "source": [
    "job = pr.create_job(job_type=ParaprobeRanger, job_name=\"t6\", \n",
    "                    delete_existing_job=True)"
   ]
  },
  {
   "cell_type": "code",
   "execution_count": 4,
   "id": "96dede92",
   "metadata": {},
   "outputs": [],
   "source": [
    "job.pos_file = \"../data/R31_06365-v02.pos\"\n",
    "job.rrng_file = \"../data/R31_06365-v02.rrng\""
   ]
  },
  {
   "cell_type": "code",
   "execution_count": 5,
   "id": "c222d8c7",
   "metadata": {
    "tags": []
   },
   "outputs": [
    {
     "name": "stdout",
     "output_type": "stream",
     "text": [
      "The job t6 was saved and received the ID: 411\n"
     ]
    }
   ],
   "source": [
    "job.run()"
   ]
  },
  {
   "cell_type": "code",
   "execution_count": 6,
   "id": "c1b6ba2c-a5f0-4f38-abd0-3390d17bfdad",
   "metadata": {
    "tags": []
   },
   "outputs": [
    {
     "data": {
      "application/json": {
       "log": {
        "configure": {
         "ranger": "'Using old transcoder/ranger file format, this will become deprecated!\\nComputing SHA256 hash for file named /mnt/c/Users/menon/Documents/winrepos/pyiron-apt/paraprobe_pyiron/test/t6_hdf5/t6/PARAPROBE.Transcoder.Results.SimID.636502001.nxs\\nComputing SHA256 hash for file named /mnt/c/Users/menon/Documents/winrepos/pyiron-apt/paraprobe_pyiron/test/t6_hdf5/t6/PARAPROBE.Transcoder.Results.SimID.636502001.nxs\\nWriting configuration file ...\\nPARAPROBE.Ranger.Config.SimID.636502001.nxs was written successfully.\\n'",
         "transcoder": "'Computing SHA256 hash for file named /mnt/c/Users/menon/Documents/winrepos/pyiron-apt/paraprobe_pyiron/test/t6_hdf5/t6/R31_06365-v02.pos\\nComputing SHA256 hash for file named /mnt/c/Users/menon/Documents/winrepos/pyiron-apt/paraprobe_pyiron/test/t6_hdf5/t6/R31_06365-v02.rrng\\nInspecting whether NeXus/HDF5 is used...\\nparaprobe-transcoder will be needed to transcode vendor\\nfile formats for reconstruction and ranging into HDF5.\\nTools will read recon/ranging from the transcoder results file.\\nWriting configuration file ...\\nPARAPROBE.Transcoder.Config.SimID.636502001.nxs was written successfully.\\n'"
        },
        "execute": {
         "ranger": "''",
         "transcoder": "'Processing configuration file\\t\\t:PARAPROBE.Transcoder.Config.SimID.636502001.nxs\\nProcessing reconstruction\\t\\t:/mnt/c/Users/menon/Documents/winrepos/pyiron-apt/paraprobe_pyiron/test/t6_hdf5/t6/R31_06365-v02.pos\\nProcessing ranging\\t\\t:/mnt/c/Users/menon/Documents/winrepos/pyiron-apt/paraprobe_pyiron/test/t6_hdf5/t6/R31_06365-v02.rrng\\nResults file\\t\\t:PARAPROBE.Transcoder.Results.SimID.636502001.nxs\\nUse paraprobe-transcoder to transcode vendor files\\nTranscoded reconstruction and mass-to-charge-state ratios\\nTranscoded ranging data for /mnt/c/Users/menon/Documents/winrepos/pyiron-apt/paraprobe_pyiron/test/t6_hdf5/t6/R31_06365-v02.rrng\\nTranscoded ranging definitions\\nparaprobe-transcoder finished, took 0.4565100999971037 seconds\\n'"
        }
       },
       "ranger": {
        "Al": "0.0123",
        "As": "0.003",
        "B": "0.0078",
        "C": "0.0081",
        "Co": "0.0249",
        "Cr": "0.0236",
        "Fe": "0.0194",
        "Ga": "0.0153",
        "Mn": "0.0469",
        "Mo": "0.1524",
        "Ni": "0.0669",
        "O": "0.0108",
        "Si": "0.0046",
        "Ti": "0.0076",
        "Unranged": "4.8925",
        "V": "0.0283",
        "Y": "0.0579",
        "ion_count": "4868202",
        "unit": "'at. wt%'"
       }
      },
      "text/html": [
       "<pre>DataContainer({\n",
       "  \"ranger\": {\n",
       "    \"ion_count\": \"4868202\",\n",
       "    \"unit\": \"'at. wt%'\",\n",
       "    \"Unranged\": \"4.8925\",\n",
       "    \"C\": \"0.0081\",\n",
       "    \"O\": \"0.0108\",\n",
       "    \"Ti\": \"0.0076\",\n",
       "    \"Fe\": \"0.0194\",\n",
       "    \"Al\": \"0.0123\",\n",
       "    \"Si\": \"0.0046\",\n",
       "    \"Cr\": \"0.0236\",\n",
       "    \"Mn\": \"0.0469\",\n",
       "    \"Co\": \"0.0249\",\n",
       "    \"Y\": \"0.0579\",\n",
       "    \"Ga\": \"0.0153\",\n",
       "    \"Ni\": \"0.0669\",\n",
       "    \"V\": \"0.0283\",\n",
       "    \"Mo\": \"0.1524\",\n",
       "    \"B\": \"0.0078\",\n",
       "    \"As\": \"0.003\"\n",
       "  },\n",
       "  \"log\": {\n",
       "    \"configure\": {\n",
       "      \"transcoder\": \"'Computing SHA256 hash for file named /mnt/c/Users/menon/Documents/winrepos/pyiron-apt/paraprobe_pyiron/test/t6_hdf5/t6/R31_06365-v02.pos\\\\nComputing SHA256 hash for file named /mnt/c/Users/menon/Documents/winrepos/pyiron-apt/paraprobe_pyiron/test/t6_hdf5/t6/R31_06365-v02.rrng\\\\nInspecting whether NeXus/HDF5 is used...\\\\nparaprobe-transcoder will be needed to transcode vendor\\\\nfile formats for reconstruction and ranging into HDF5.\\\\nTools will read recon/ranging from the transcoder results file.\\\\nWriting configuration file ...\\\\nPARAPROBE.Transcoder.Config.SimID.636502001.nxs was written successfully.\\\\n'\",\n",
       "      \"ranger\": \"'Using old transcoder/ranger file format, this will become deprecated!\\\\nComputing SHA256 hash for file named /mnt/c/Users/menon/Documents/winrepos/pyiron-apt/paraprobe_pyiron/test/t6_hdf5/t6/PARAPROBE.Transcoder.Results.SimID.636502001.nxs\\\\nComputing SHA256 hash for file named /mnt/c/Users/menon/Documents/winrepos/pyiron-apt/paraprobe_pyiron/test/t6_hdf5/t6/PARAPROBE.Transcoder.Results.SimID.636502001.nxs\\\\nWriting configuration file ...\\\\nPARAPROBE.Ranger.Config.SimID.636502001.nxs was written successfully.\\\\n'\"\n",
       "    },\n",
       "    \"execute\": {\n",
       "      \"transcoder\": \"'Processing configuration file\\\\t\\\\t:PARAPROBE.Transcoder.Config.SimID.636502001.nxs\\\\nProcessing reconstruction\\\\t\\\\t:/mnt/c/Users/menon/Documents/winrepos/pyiron-apt/paraprobe_pyiron/test/t6_hdf5/t6/R31_06365-v02.pos\\\\nProcessing ranging\\\\t\\\\t:/mnt/c/Users/menon/Documents/winrepos/pyiron-apt/paraprobe_pyiron/test/t6_hdf5/t6/R31_06365-v02.rrng\\\\nResults file\\\\t\\\\t:PARAPROBE.Transcoder.Results.SimID.636502001.nxs\\\\nUse paraprobe-transcoder to transcode vendor files\\\\nTranscoded reconstruction and mass-to-charge-state ratios\\\\nTranscoded ranging data for /mnt/c/Users/menon/Documents/winrepos/pyiron-apt/paraprobe_pyiron/test/t6_hdf5/t6/R31_06365-v02.rrng\\\\nTranscoded ranging definitions\\\\nparaprobe-transcoder finished, took 0.4565100999971037 seconds\\\\n'\",\n",
       "      \"ranger\": \"''\"\n",
       "    }\n",
       "  }\n",
       "})</pre>"
      ],
      "text/plain": [
       "DataContainer({'ranger': DataContainer({'ion_count': 4868202, 'unit': 'at. wt%', 'Unranged': 4.8925, 'C': 0.0081, 'O': 0.0108, 'Ti': 0.0076, 'Fe': 0.0194, 'Al': 0.0123, 'Si': 0.0046, 'Cr': 0.0236, 'Mn': 0.0469, 'Co': 0.0249, 'Y': 0.0579, 'Ga': 0.0153, 'Ni': 0.0669, 'V': 0.0283, 'Mo': 0.1524, 'B': 0.0078, 'As': 0.003}), 'log': DataContainer({'configure': DataContainer({'transcoder': 'Computing SHA256 hash for file named /mnt/c/Users/menon/Documents/winrepos/pyiron-apt/paraprobe_pyiron/test/t6_hdf5/t6/R31_06365-v02.pos\\nComputing SHA256 hash for file named /mnt/c/Users/menon/Documents/winrepos/pyiron-apt/paraprobe_pyiron/test/t6_hdf5/t6/R31_06365-v02.rrng\\nInspecting whether NeXus/HDF5 is used...\\nparaprobe-transcoder will be needed to transcode vendor\\nfile formats for reconstruction and ranging into HDF5.\\nTools will read recon/ranging from the transcoder results file.\\nWriting configuration file ...\\nPARAPROBE.Transcoder.Config.SimID.636502001.nxs was written successfully.\\n', 'ranger': 'Using old transcoder/ranger file format, this will become deprecated!\\nComputing SHA256 hash for file named /mnt/c/Users/menon/Documents/winrepos/pyiron-apt/paraprobe_pyiron/test/t6_hdf5/t6/PARAPROBE.Transcoder.Results.SimID.636502001.nxs\\nComputing SHA256 hash for file named /mnt/c/Users/menon/Documents/winrepos/pyiron-apt/paraprobe_pyiron/test/t6_hdf5/t6/PARAPROBE.Transcoder.Results.SimID.636502001.nxs\\nWriting configuration file ...\\nPARAPROBE.Ranger.Config.SimID.636502001.nxs was written successfully.\\n'}), 'execute': DataContainer({'transcoder': 'Processing configuration file\\t\\t:PARAPROBE.Transcoder.Config.SimID.636502001.nxs\\nProcessing reconstruction\\t\\t:/mnt/c/Users/menon/Documents/winrepos/pyiron-apt/paraprobe_pyiron/test/t6_hdf5/t6/R31_06365-v02.pos\\nProcessing ranging\\t\\t:/mnt/c/Users/menon/Documents/winrepos/pyiron-apt/paraprobe_pyiron/test/t6_hdf5/t6/R31_06365-v02.rrng\\nResults file\\t\\t:PARAPROBE.Transcoder.Results.SimID.636502001.nxs\\nUse paraprobe-transcoder to transcode vendor files\\nTranscoded reconstruction and mass-to-charge-state ratios\\nTranscoded ranging data for /mnt/c/Users/menon/Documents/winrepos/pyiron-apt/paraprobe_pyiron/test/t6_hdf5/t6/R31_06365-v02.rrng\\nTranscoded ranging definitions\\nparaprobe-transcoder finished, took 0.4565100999971037 seconds\\n', 'ranger': ''})})})"
      ]
     },
     "execution_count": 6,
     "metadata": {},
     "output_type": "execute_result"
    }
   ],
   "source": [
    "job.output"
   ]
  },
  {
   "cell_type": "code",
   "execution_count": null,
   "id": "fa747cc7-5acf-4289-a5a3-0c93c3b2d3a8",
   "metadata": {},
   "outputs": [],
   "source": []
  }
 ],
 "metadata": {
  "kernelspec": {
   "display_name": "Python 3 (ipykernel)",
   "language": "python",
   "name": "python3"
  },
  "language_info": {
   "codemirror_mode": {
    "name": "ipython",
    "version": 3
   },
   "file_extension": ".py",
   "mimetype": "text/x-python",
   "name": "python",
   "nbconvert_exporter": "python",
   "pygments_lexer": "ipython3",
   "version": "3.9.16"
  }
 },
 "nbformat": 4,
 "nbformat_minor": 5
}
