{
 "cells": [
  {
   "cell_type": "code",
   "execution_count": 1,
   "id": "b478122d",
   "metadata": {
    "tags": []
   },
   "outputs": [],
   "source": [
    "from pyiron_base import Project\n",
    "from compositionspacejob import CompositionSpace"
   ]
  },
  {
   "cell_type": "code",
   "execution_count": 2,
   "id": "981c1a47",
   "metadata": {
    "tags": []
   },
   "outputs": [],
   "source": [
    "pr = Project(\"compspace\")"
   ]
  },
  {
   "cell_type": "code",
   "execution_count": 3,
   "id": "d463a3ea",
   "metadata": {
    "tags": []
   },
   "outputs": [],
   "source": [
    "job = pr.create_job(job_type=CompositionSpace, job_name=\"t1\", \n",
    "                    delete_existing_job=True)"
   ]
  },
  {
   "cell_type": "code",
   "execution_count": 4,
   "id": "af9e7c07",
   "metadata": {
    "tags": []
   },
   "outputs": [
    {
     "data": {
      "application/json": {
       "analysis": "None",
       "bics_clusters": "10",
       "cluster_id": "0",
       "fileindex": "0",
       "input_path": "None",
       "ml_models": {
        "DBScan": {
         "eps": "5",
         "min_samples": "50"
        },
        "GaussianMixture": {
         "max_iter": "100000",
         "n_components": "3",
         "verbose": "0"
        },
        "RandomForest": {
         "max_depth": "0",
         "n_estimators": "0"
        },
        "name": "'GaussianMixture'"
       },
       "n_big_slices": "10",
       "n_phases": "3",
       "plot": "False",
       "plot3d": "False",
       "voxel_size": "2"
      },
      "text/html": [
       "<pre>DataContainer({\n",
       "  \"input_path\": \"None\",\n",
       "  \"n_big_slices\": \"10\",\n",
       "  \"voxel_size\": \"2\",\n",
       "  \"bics_clusters\": \"10\",\n",
       "  \"n_phases\": \"3\",\n",
       "  \"ml_models\": {\n",
       "    \"name\": \"'GaussianMixture'\",\n",
       "    \"GaussianMixture\": {\n",
       "      \"n_components\": \"3\",\n",
       "      \"max_iter\": \"100000\",\n",
       "      \"verbose\": \"0\"\n",
       "    },\n",
       "    \"RandomForest\": {\n",
       "      \"max_depth\": \"0\",\n",
       "      \"n_estimators\": \"0\"\n",
       "    },\n",
       "    \"DBScan\": {\n",
       "      \"eps\": \"5\",\n",
       "      \"min_samples\": \"50\"\n",
       "    }\n",
       "  },\n",
       "  \"analysis\": \"None\",\n",
       "  \"fileindex\": \"0\",\n",
       "  \"cluster_id\": \"0\",\n",
       "  \"plot\": \"False\",\n",
       "  \"plot3d\": \"False\"\n",
       "})</pre>"
      ],
      "text/plain": [
       "DataContainer({'input_path': None, 'n_big_slices': 10, 'voxel_size': 2, 'bics_clusters': 10, 'n_phases': 3, 'ml_models': DataContainer({'name': 'GaussianMixture', 'GaussianMixture': DataContainer({'n_components': 3, 'max_iter': 100000, 'verbose': 0}), 'RandomForest': DataContainer({'max_depth': 0, 'n_estimators': 0}), 'DBScan': DataContainer({'eps': 5, 'min_samples': 50})}), 'analysis': None, 'fileindex': 0, 'cluster_id': 0, 'plot': False, 'plot3d': False})"
      ]
     },
     "execution_count": 4,
     "metadata": {},
     "output_type": "execute_result"
    }
   ],
   "source": [
    "job.input"
   ]
  },
  {
   "cell_type": "code",
   "execution_count": 5,
   "id": "4ccb891e",
   "metadata": {
    "tags": []
   },
   "outputs": [],
   "source": [
    "job.input.input_path = \"../data\""
   ]
  },
  {
   "cell_type": "code",
   "execution_count": 6,
   "id": "61dcaf6f",
   "metadata": {
    "tags": []
   },
   "outputs": [],
   "source": [
    "job.analyse(analysis=[\"PCA_cumsum\", \"bics_minimization\"])"
   ]
  },
  {
   "cell_type": "code",
   "execution_count": 7,
   "id": "ea1d3592",
   "metadata": {
    "tags": []
   },
   "outputs": [
    {
     "name": "stdout",
     "output_type": "stream",
     "text": [
      "The job t1 was saved and received the ID: 412\n"
     ]
    },
    {
     "data": {
      "application/vnd.jupyter.widget-view+json": {
       "model_id": "a1607243c70644ca97f3f2b322d496b0",
       "version_major": 2,
       "version_minor": 0
      },
      "text/plain": [
       "Reading files:   0%|          | 0/2 [00:00<?, ?it/s]"
      ]
     },
     "metadata": {},
     "output_type": "display_data"
    },
    {
     "data": {
      "application/vnd.jupyter.widget-view+json": {
       "model_id": "588df875ea7541b68f0684224c3d67b7",
       "version_major": 2,
       "version_minor": 0
      },
      "text/plain": [
       "Creating chunks:   0%|          | 0/10 [00:00<?, ?it/s]"
      ]
     },
     "metadata": {},
     "output_type": "display_data"
    },
    {
     "data": {
      "application/vnd.jupyter.widget-view+json": {
       "model_id": "903378d3dacc494b83b3aeb9454e157b",
       "version_major": 2,
       "version_minor": 0
      },
      "text/plain": [
       "Getting Voxels:   0%|          | 0/10 [00:00<?, ?it/s]"
      ]
     },
     "metadata": {},
     "output_type": "display_data"
    },
    {
     "data": {
      "application/vnd.jupyter.widget-view+json": {
       "model_id": "570abefb6a8c45ed90bc9746a794fa36",
       "version_major": 2,
       "version_minor": 0
      },
      "text/plain": [
       "Calculating voxel composition:   0%|          | 0/23259 [00:00<?, ?it/s]"
      ]
     },
     "metadata": {},
     "output_type": "display_data"
    },
    {
     "name": "stdout",
     "output_type": "stream",
     "text": [
      "23259\n",
      "['0', '1', '2', '3', '4', 'Total_no', 'vox']\n"
     ]
    },
    {
     "data": {
      "image/png": "[encoded data removed]",
      "text/plain": [
       "<Figure size 500x500 with 1 Axes>"
      ]
     },
     "metadata": {},
     "output_type": "display_data"
    },
    {
     "data": {
      "application/vnd.jupyter.widget-view+json": {
       "model_id": "f161517c95f64f67afeeb4cdf58fb35f",
       "version_major": 2,
       "version_minor": 0
      },
      "text/plain": [
       "Clustering:   0%|          | 0/9 [00:00<?, ?it/s]"
      ]
     },
     "metadata": {},
     "output_type": "display_data"
    },
    {
     "data": {
      "image/png": "[encoded data removed]",
      "text/plain": [
       "<Figure size 640x480 with 1 Axes>"
      ]
     },
     "metadata": {},
     "output_type": "display_data"
    }
   ],
   "source": [
    "job.run()"
   ]
  },
  {
   "cell_type": "code",
   "execution_count": 8,
   "id": "e299e843",
   "metadata": {
    "tags": []
   },
   "outputs": [],
   "source": [
    "job = pr.create_job(job_type=CompositionSpace, job_name=\"t2\", \n",
    "                    delete_existing_job=True)\n",
    "job.input.input_path = \"../data\"\n",
    "job.analyse(analysis=[\"composition_clustering\"])"
   ]
  },
  {
   "cell_type": "code",
   "execution_count": 9,
   "id": "fb7fe01b",
   "metadata": {
    "tags": []
   },
   "outputs": [
    {
     "name": "stdout",
     "output_type": "stream",
     "text": [
      "The job t2 was saved and received the ID: 413\n"
     ]
    },
    {
     "data": {
      "application/vnd.jupyter.widget-view+json": {
       "model_id": "7314466ef03d42ccb19916e782c7477e",
       "version_major": 2,
       "version_minor": 0
      },
      "text/plain": [
       "Reading files:   0%|          | 0/2 [00:00<?, ?it/s]"
      ]
     },
     "metadata": {},
     "output_type": "display_data"
    },
    {
     "data": {
      "application/vnd.jupyter.widget-view+json": {
       "model_id": "e6eaf3acae9b4c839a0cc3c0069aba7b",
       "version_major": 2,
       "version_minor": 0
      },
      "text/plain": [
       "Creating chunks:   0%|          | 0/10 [00:00<?, ?it/s]"
      ]
     },
     "metadata": {},
     "output_type": "display_data"
    },
    {
     "data": {
      "application/vnd.jupyter.widget-view+json": {
       "model_id": "8ba1d7a71cd2424da4e92fd66f132524",
       "version_major": 2,
       "version_minor": 0
      },
      "text/plain": [
       "Getting Voxels:   0%|          | 0/10 [00:00<?, ?it/s]"
      ]
     },
     "metadata": {},
     "output_type": "display_data"
    },
    {
     "data": {
      "application/vnd.jupyter.widget-view+json": {
       "model_id": "dab6db006d25422795963944813111e0",
       "version_major": 2,
       "version_minor": 0
      },
      "text/plain": [
       "Calculating voxel composition:   0%|          | 0/23259 [00:00<?, ?it/s]"
      ]
     },
     "metadata": {},
     "output_type": "display_data"
    }
   ],
   "source": [
    "job.run()"
   ]
  },
  {
   "cell_type": "code",
   "execution_count": 10,
   "id": "20617f5d",
   "metadata": {
    "tags": []
   },
   "outputs": [
    {
     "data": {
      "application/javascript": [
       "(function(root) {\n",
       "  function now() {\n",
       "    return new Date();\n",
       "  }\n",
       "\n",
       "  var force = true;\n",
       "\n",
       "  if (typeof root._bokeh_onload_callbacks === \"undefined\" || force === true) {\n",
       "    root._bokeh_onload_callbacks = [];\n",
       "    root._bokeh_is_loading = undefined;\n",
       "  }\n",
       "\n",
       "  if (typeof (root._bokeh_timeout) === \"undefined\" || force === true) {\n",
       "    root._bokeh_timeout = Date.now() + 5000;\n",
       "    root._bokeh_failed_load = false;\n",
       "  }\n",
       "\n",
       "  function run_callbacks() {\n",
       "    try {\n",
       "      root._bokeh_onload_callbacks.forEach(function(callback) {\n",
       "        if (callback != null)\n",
       "          callback();\n",
       "      });\n",
       "    } finally {\n",
       "      delete root._bokeh_onload_callbacks\n",
       "    }\n",
       "    console.debug(\"Bokeh: all callbacks have finished\");\n",
       "  }\n",
       "\n",
       "  function load_libs(css_urls, js_urls, js_modules, callback) {\n",
       "    if (css_urls == null) css_urls = [];\n",
       "    if (js_urls == null) js_urls = [];\n",
       "    if (js_modules == null) js_modules = [];\n",
       "\n",
       "    root._bokeh_onload_callbacks.push(callback);\n",
       "    if (root._bokeh_is_loading > 0) {\n",
       "      console.debug(\"Bokeh: BokehJS is being loaded, scheduling callback at\", now());\n",
       "      return null;\n",
       "    }\n",
       "    if (js_urls.length === 0 && js_modules.length === 0) {\n",
       "      run_callbacks();\n",
       "      return null;\n",
       "    }\n",
       "    console.debug(\"Bokeh: BokehJS not loaded, scheduling load and callback at\", now());\n",
       "\n",
       "    function on_load() {\n",
       "      root._bokeh_is_loading--;\n",
       "      if (root._bokeh_is_loading === 0) {\n",
       "        console.debug(\"Bokeh: all BokehJS libraries/stylesheets loaded\");\n",
       "        run_callbacks()\n",
       "      }\n",
       "    }\n",
       "\n",
       "    function on_error() {\n",
       "      console.error(\"failed to load \" + url);\n",
       "    }\n",
       "\n",
       "    for (var i = 0; i < css_urls.length; i++) {\n",
       "      var url = css_urls[i];\n",
       "      const element = document.createElement(\"link\");\n",
       "      element.onload = on_load;\n",
       "      element.onerror = on_error;\n",
       "      element.rel = \"stylesheet\";\n",
       "      element.type = \"text/css\";\n",
       "      element.href = url;\n",
       "      console.debug(\"Bokeh: injecting link tag for BokehJS stylesheet: \", url);\n",
       "      document.body.appendChild(element);\n",
       "    }\n",
       "\n",
       "    var skip = [];\n",
       "    if (window.requirejs) {\n",
       "      window.requirejs.config({'packages': {}, 'paths': {'vtk': 'https://cdn.jsdelivr.net/npm/vtk.js@20.0.1/vtk', 'gridstack': 'https://cdn.jsdelivr.net/npm/gridstack@4.2.5/dist/gridstack-h5', 'notyf': 'https://cdn.jsdelivr.net/npm/notyf@3/notyf.min'}, 'shim': {'vtk': {'exports': 'vtk'}, 'gridstack': {'exports': 'GridStack'}}});\n",
       "      require([\"vtk\"], function() {\n",
       "\ton_load()\n",
       "      })\n",
       "      require([\"gridstack\"], function(GridStack) {\n",
       "\twindow.GridStack = GridStack\n",
       "\ton_load()\n",
       "      })\n",
       "      require([\"notyf\"], function() {\n",
       "\ton_load()\n",
       "      })\n",
       "      root._bokeh_is_loading = css_urls.length + 3;\n",
       "    } else {\n",
       "      root._bokeh_is_loading = css_urls.length + js_urls.length + js_modules.length;\n",
       "    }    if (((window['vtk'] !== undefined) && (!(window['vtk'] instanceof HTMLElement))) || window.requirejs) {\n",
       "      var urls = ['https://cdn.holoviz.org/panel/0.14.3/dist/bundled/abstractvtkplot/vtk.js@20.0.1/vtk.js'];\n",
       "      for (var i = 0; i < urls.length; i++) {\n",
       "        skip.push(urls[i])\n",
       "      }\n",
       "    }    if (((window['GridStack'] !== undefined) && (!(window['GridStack'] instanceof HTMLElement))) || window.requirejs) {\n",
       "      var urls = ['https://cdn.holoviz.org/panel/0.14.3/dist/bundled/gridstack/gridstack@4.2.5/dist/gridstack-h5.js'];\n",
       "      for (var i = 0; i < urls.length; i++) {\n",
       "        skip.push(urls[i])\n",
       "      }\n",
       "    }    if (((window['Notyf'] !== undefined) && (!(window['Notyf'] instanceof HTMLElement))) || window.requirejs) {\n",
       "      var urls = ['https://cdn.holoviz.org/panel/0.14.3/dist/bundled/notificationarea/notyf@3/notyf.min.js'];\n",
       "      for (var i = 0; i < urls.length; i++) {\n",
       "        skip.push(urls[i])\n",
       "      }\n",
       "    }    for (var i = 0; i < js_urls.length; i++) {\n",
       "      var url = js_urls[i];\n",
       "      if (skip.indexOf(url) >= 0) {\n",
       "\tif (!window.requirejs) {\n",
       "\t  on_load();\n",
       "\t}\n",
       "\tcontinue;\n",
       "      }\n",
       "      var element = document.createElement('script');\n",
       "      element.onload = on_load;\n",
       "      element.onerror = on_error;\n",
       "      element.async = false;\n",
       "      element.src = url;\n",
       "      console.debug(\"Bokeh: injecting script tag for BokehJS library: \", url);\n",
       "      document.head.appendChild(element);\n",
       "    }\n",
       "    for (var i = 0; i < js_modules.length; i++) {\n",
       "      var url = js_modules[i];\n",
       "      if (skip.indexOf(url) >= 0) {\n",
       "\tif (!window.requirejs) {\n",
       "\t  on_load();\n",
       "\t}\n",
       "\tcontinue;\n",
       "      }\n",
       "      var element = document.createElement('script');\n",
       "      element.onload = on_load;\n",
       "      element.onerror = on_error;\n",
       "      element.async = false;\n",
       "      element.src = url;\n",
       "      element.type = \"module\";\n",
       "      console.debug(\"Bokeh: injecting script tag for BokehJS library: \", url);\n",
       "      document.head.appendChild(element);\n",
       "    }\n",
       "    if (!js_urls.length && !js_modules.length) {\n",
       "      on_load()\n",
       "    }\n",
       "  };\n",
       "\n",
       "  function inject_raw_css(css) {\n",
       "    const element = document.createElement(\"style\");\n",
       "    element.appendChild(document.createTextNode(css));\n",
       "    document.body.appendChild(element);\n",
       "  }\n",
       "\n",
       "  var js_urls = [\"https://cdn.holoviz.org/panel/0.14.3/dist/bundled/abstractvtkplot/vtk.js@20.0.1/vtk.js\", \"https://cdn.bokeh.org/bokeh/release/bokeh-2.4.3.min.js\", \"https://cdn.bokeh.org/bokeh/release/bokeh-gl-2.4.3.min.js\", \"https://cdn.bokeh.org/bokeh/release/bokeh-widgets-2.4.3.min.js\", \"https://cdn.bokeh.org/bokeh/release/bokeh-tables-2.4.3.min.js\", \"https://cdn.bokeh.org/bokeh/release/bokeh-mathjax-2.4.3.min.js\", \"https://unpkg.com/@holoviz/panel@0.14.3/dist/panel.min.js\"];\n",
       "  var js_modules = [];\n",
       "  var css_urls = [\"https://cdn.holoviz.org/panel/0.14.3/dist/css/alerts.css\", \"https://cdn.holoviz.org/panel/0.14.3/dist/css/card.css\", \"https://cdn.holoviz.org/panel/0.14.3/dist/css/dataframe.css\", \"https://cdn.holoviz.org/panel/0.14.3/dist/css/debugger.css\", \"https://cdn.holoviz.org/panel/0.14.3/dist/css/json.css\", \"https://cdn.holoviz.org/panel/0.14.3/dist/css/loading.css\", \"https://cdn.holoviz.org/panel/0.14.3/dist/css/markdown.css\", \"https://cdn.holoviz.org/panel/0.14.3/dist/css/widgets.css\"];\n",
       "  var inline_js = [    function(Bokeh) {\n",
       "      inject_raw_css(\"\\n    .bk.pn-loading.arc:before {\\n      background-image: url(\\\"data:image/svg+xml;base64,PHN2ZyB4bWxucz0iaHR0cDovL3d3dy53My5vcmcvMjAwMC9zdmciIHN0eWxlPSJtYXJnaW46IGF1dG87IGJhY2tncm91bmQ6IG5vbmU7IGRpc3BsYXk6IGJsb2NrOyBzaGFwZS1yZW5kZXJpbmc6IGF1dG87IiB2aWV3Qm94PSIwIDAgMTAwIDEwMCIgcHJlc2VydmVBc3BlY3RSYXRpbz0ieE1pZFlNaWQiPiAgPGNpcmNsZSBjeD0iNTAiIGN5PSI1MCIgZmlsbD0ibm9uZSIgc3Ryb2tlPSIjYzNjM2MzIiBzdHJva2Utd2lkdGg9IjEwIiByPSIzNSIgc3Ryb2tlLWRhc2hhcnJheT0iMTY0LjkzMzYxNDMxMzQ2NDE1IDU2Ljk3Nzg3MTQzNzgyMTM4Ij4gICAgPGFuaW1hdGVUcmFuc2Zvcm0gYXR0cmlidXRlTmFtZT0idHJhbnNmb3JtIiB0eXBlPSJyb3RhdGUiIHJlcGVhdENvdW50PSJpbmRlZmluaXRlIiBkdXI9IjFzIiB2YWx1ZXM9IjAgNTAgNTA7MzYwIDUwIDUwIiBrZXlUaW1lcz0iMDsxIj48L2FuaW1hdGVUcmFuc2Zvcm0+ICA8L2NpcmNsZT48L3N2Zz4=\\\");\\n      background-size: auto calc(min(50%, 400px));\\n    }\\n    \");\n",
       "    },    function(Bokeh) {\n",
       "      Bokeh.set_log_level(\"info\");\n",
       "    },\n",
       "function(Bokeh) {} // ensure no trailing comma for IE\n",
       "  ];\n",
       "\n",
       "  function run_inline_js() {\n",
       "    if ((root.Bokeh !== undefined) || (force === true)) {\n",
       "      for (var i = 0; i < inline_js.length; i++) {\n",
       "        inline_js[i].call(root, root.Bokeh);\n",
       "      }} else if (Date.now() < root._bokeh_timeout) {\n",
       "      setTimeout(run_inline_js, 100);\n",
       "    } else if (!root._bokeh_failed_load) {\n",
       "      console.log(\"Bokeh: BokehJS failed to load within specified timeout.\");\n",
       "      root._bokeh_failed_load = true;\n",
       "    }\n",
       "  }\n",
       "\n",
       "  if (root._bokeh_is_loading === 0) {\n",
       "    console.debug(\"Bokeh: BokehJS loaded, going straight to plotting\");\n",
       "    run_inline_js();\n",
       "  } else {\n",
       "    load_libs(css_urls, js_urls, js_modules, function() {\n",
       "      console.debug(\"Bokeh: BokehJS plotting callback run at\", now());\n",
       "      run_inline_js();\n",
       "    });\n",
       "  }\n",
       "}(window));"
      ],
      "application/vnd.holoviews_load.v0+json": "(function(root) {\n  function now() {\n    return new Date();\n  }\n\n  var force = true;\n\n  if (typeof root._bokeh_onload_callbacks === \"undefined\" || force === true) {\n    root._bokeh_onload_callbacks = [];\n    root._bokeh_is_loading = undefined;\n  }\n\n  if (typeof (root._bokeh_timeout) === \"undefined\" || force === true) {\n    root._bokeh_timeout = Date.now() + 5000;\n    root._bokeh_failed_load = false;\n  }\n\n  function run_callbacks() {\n    try {\n      root._bokeh_onload_callbacks.forEach(function(callback) {\n        if (callback != null)\n          callback();\n      });\n    } finally {\n      delete root._bokeh_onload_callbacks\n    }\n    console.debug(\"Bokeh: all callbacks have finished\");\n  }\n\n  function load_libs(css_urls, js_urls, js_modules, callback) {\n    if (css_urls == null) css_urls = [];\n    if (js_urls == null) js_urls = [];\n    if (js_modules == null) js_modules = [];\n\n    root._bokeh_onload_callbacks.push(callback);\n    if (root._bokeh_is_loading > 0) {\n      console.debug(\"Bokeh: BokehJS is being loaded, scheduling callback at\", now());\n      return null;\n    }\n    if (js_urls.length === 0 && js_modules.length === 0) {\n      run_callbacks();\n      return null;\n    }\n    console.debug(\"Bokeh: BokehJS not loaded, scheduling load and callback at\", now());\n\n    function on_load() {\n      root._bokeh_is_loading--;\n      if (root._bokeh_is_loading === 0) {\n        console.debug(\"Bokeh: all BokehJS libraries/stylesheets loaded\");\n        run_callbacks()\n      }\n    }\n\n    function on_error() {\n      console.error(\"failed to load \" + url);\n    }\n\n    for (var i = 0; i < css_urls.length; i++) {\n      var url = css_urls[i];\n      const element = document.createElement(\"link\");\n      element.onload = on_load;\n      element.onerror = on_error;\n      element.rel = \"stylesheet\";\n      element.type = \"text/css\";\n      element.href = url;\n      console.debug(\"Bokeh: injecting link tag for BokehJS stylesheet: \", url);\n      document.body.appendChild(element);\n    }\n\n    var skip = [];\n    if (window.requirejs) {\n      window.requirejs.config({'packages': {}, 'paths': {'vtk': 'https://cdn.jsdelivr.net/npm/vtk.js@20.0.1/vtk', 'gridstack': 'https://cdn.jsdelivr.net/npm/gridstack@4.2.5/dist/gridstack-h5', 'notyf': 'https://cdn.jsdelivr.net/npm/notyf@3/notyf.min'}, 'shim': {'vtk': {'exports': 'vtk'}, 'gridstack': {'exports': 'GridStack'}}});\n      require([\"vtk\"], function() {\n\ton_load()\n      })\n      require([\"gridstack\"], function(GridStack) {\n\twindow.GridStack = GridStack\n\ton_load()\n      })\n      require([\"notyf\"], function() {\n\ton_load()\n      })\n      root._bokeh_is_loading = css_urls.length + 3;\n    } else {\n      root._bokeh_is_loading = css_urls.length + js_urls.length + js_modules.length;\n    }    if (((window['vtk'] !== undefined) && (!(window['vtk'] instanceof HTMLElement))) || window.requirejs) {\n      var urls = ['https://cdn.holoviz.org/panel/0.14.3/dist/bundled/abstractvtkplot/vtk.js@20.0.1/vtk.js'];\n      for (var i = 0; i < urls.length; i++) {\n        skip.push(urls[i])\n      }\n    }    if (((window['GridStack'] !== undefined) && (!(window['GridStack'] instanceof HTMLElement))) || window.requirejs) {\n      var urls = ['https://cdn.holoviz.org/panel/0.14.3/dist/bundled/gridstack/gridstack@4.2.5/dist/gridstack-h5.js'];\n      for (var i = 0; i < urls.length; i++) {\n        skip.push(urls[i])\n      }\n    }    if (((window['Notyf'] !== undefined) && (!(window['Notyf'] instanceof HTMLElement))) || window.requirejs) {\n      var urls = ['https://cdn.holoviz.org/panel/0.14.3/dist/bundled/notificationarea/notyf@3/notyf.min.js'];\n      for (var i = 0; i < urls.length; i++) {\n        skip.push(urls[i])\n      }\n    }    for (var i = 0; i < js_urls.length; i++) {\n      var url = js_urls[i];\n      if (skip.indexOf(url) >= 0) {\n\tif (!window.requirejs) {\n\t  on_load();\n\t}\n\tcontinue;\n      }\n      var element = document.createElement('script');\n      element.onload = on_load;\n      element.onerror = on_error;\n      element.async = false;\n      element.src = url;\n      console.debug(\"Bokeh: injecting script tag for BokehJS library: \", url);\n      document.head.appendChild(element);\n    }\n    for (var i = 0; i < js_modules.length; i++) {\n      var url = js_modules[i];\n      if (skip.indexOf(url) >= 0) {\n\tif (!window.requirejs) {\n\t  on_load();\n\t}\n\tcontinue;\n      }\n      var element = document.createElement('script');\n      element.onload = on_load;\n      element.onerror = on_error;\n      element.async = false;\n      element.src = url;\n      element.type = \"module\";\n      console.debug(\"Bokeh: injecting script tag for BokehJS library: \", url);\n      document.head.appendChild(element);\n    }\n    if (!js_urls.length && !js_modules.length) {\n      on_load()\n    }\n  };\n\n  function inject_raw_css(css) {\n    const element = document.createElement(\"style\");\n    element.appendChild(document.createTextNode(css));\n    document.body.appendChild(element);\n  }\n\n  var js_urls = [\"https://cdn.holoviz.org/panel/0.14.3/dist/bundled/abstractvtkplot/vtk.js@20.0.1/vtk.js\", \"https://cdn.bokeh.org/bokeh/release/bokeh-2.4.3.min.js\", \"https://cdn.bokeh.org/bokeh/release/bokeh-gl-2.4.3.min.js\", \"https://cdn.bokeh.org/bokeh/release/bokeh-widgets-2.4.3.min.js\", \"https://cdn.bokeh.org/bokeh/release/bokeh-tables-2.4.3.min.js\", \"https://cdn.bokeh.org/bokeh/release/bokeh-mathjax-2.4.3.min.js\", \"https://unpkg.com/@holoviz/panel@0.14.3/dist/panel.min.js\"];\n  var js_modules = [];\n  var css_urls = [\"https://cdn.holoviz.org/panel/0.14.3/dist/css/alerts.css\", \"https://cdn.holoviz.org/panel/0.14.3/dist/css/card.css\", \"https://cdn.holoviz.org/panel/0.14.3/dist/css/dataframe.css\", \"https://cdn.holoviz.org/panel/0.14.3/dist/css/debugger.css\", \"https://cdn.holoviz.org/panel/0.14.3/dist/css/json.css\", \"https://cdn.holoviz.org/panel/0.14.3/dist/css/loading.css\", \"https://cdn.holoviz.org/panel/0.14.3/dist/css/markdown.css\", \"https://cdn.holoviz.org/panel/0.14.3/dist/css/widgets.css\"];\n  var inline_js = [    function(Bokeh) {\n      inject_raw_css(\"\\n    .bk.pn-loading.arc:before {\\n      background-image: url(\\\"data:image/svg+xml;base64,PHN2ZyB4bWxucz0iaHR0cDovL3d3dy53My5vcmcvMjAwMC9zdmciIHN0eWxlPSJtYXJnaW46IGF1dG87IGJhY2tncm91bmQ6IG5vbmU7IGRpc3BsYXk6IGJsb2NrOyBzaGFwZS1yZW5kZXJpbmc6IGF1dG87IiB2aWV3Qm94PSIwIDAgMTAwIDEwMCIgcHJlc2VydmVBc3BlY3RSYXRpbz0ieE1pZFlNaWQiPiAgPGNpcmNsZSBjeD0iNTAiIGN5PSI1MCIgZmlsbD0ibm9uZSIgc3Ryb2tlPSIjYzNjM2MzIiBzdHJva2Utd2lkdGg9IjEwIiByPSIzNSIgc3Ryb2tlLWRhc2hhcnJheT0iMTY0LjkzMzYxNDMxMzQ2NDE1IDU2Ljk3Nzg3MTQzNzgyMTM4Ij4gICAgPGFuaW1hdGVUcmFuc2Zvcm0gYXR0cmlidXRlTmFtZT0idHJhbnNmb3JtIiB0eXBlPSJyb3RhdGUiIHJlcGVhdENvdW50PSJpbmRlZmluaXRlIiBkdXI9IjFzIiB2YWx1ZXM9IjAgNTAgNTA7MzYwIDUwIDUwIiBrZXlUaW1lcz0iMDsxIj48L2FuaW1hdGVUcmFuc2Zvcm0+ICA8L2NpcmNsZT48L3N2Zz4=\\\");\\n      background-size: auto calc(min(50%, 400px));\\n    }\\n    \");\n    },    function(Bokeh) {\n      Bokeh.set_log_level(\"info\");\n    },\nfunction(Bokeh) {} // ensure no trailing comma for IE\n  ];\n\n  function run_inline_js() {\n    if ((root.Bokeh !== undefined) || (force === true)) {\n      for (var i = 0; i < inline_js.length; i++) {\n        inline_js[i].call(root, root.Bokeh);\n      }} else if (Date.now() < root._bokeh_timeout) {\n      setTimeout(run_inline_js, 100);\n    } else if (!root._bokeh_failed_load) {\n      console.log(\"Bokeh: BokehJS failed to load within specified timeout.\");\n      root._bokeh_failed_load = true;\n    }\n  }\n\n  if (root._bokeh_is_loading === 0) {\n    console.debug(\"Bokeh: BokehJS loaded, going straight to plotting\");\n    run_inline_js();\n  } else {\n    load_libs(css_urls, js_urls, js_modules, function() {\n      console.debug(\"Bokeh: BokehJS plotting callback run at\", now());\n      run_inline_js();\n    });\n  }\n}(window));"
     },
     "metadata": {},
     "output_type": "display_data"
    },
    {
     "data": {
      "application/javascript": [
       "\n",
       "if ((window.PyViz === undefined) || (window.PyViz instanceof HTMLElement)) {\n",
       "  window.PyViz = {comms: {}, comm_status:{}, kernels:{}, receivers: {}, plot_index: []}\n",
       "}\n",
       "\n",
       "\n",
       "    function JupyterCommManager() {\n",
       "    }\n",
       "\n",
       "    JupyterCommManager.prototype.register_target = function(plot_id, comm_id, msg_handler) {\n",
       "      if (window.comm_manager || ((window.Jupyter !== undefined) && (Jupyter.notebook.kernel != null))) {\n",
       "        var comm_manager = window.comm_manager || Jupyter.notebook.kernel.comm_manager;\n",
       "        comm_manager.register_target(comm_id, function(comm) {\n",
       "          comm.on_msg(msg_handler);\n",
       "        });\n",
       "      } else if ((plot_id in window.PyViz.kernels) && (window.PyViz.kernels[plot_id])) {\n",
       "        window.PyViz.kernels[plot_id].registerCommTarget(comm_id, function(comm) {\n",
       "          comm.onMsg = msg_handler;\n",
       "        });\n",
       "      } else if (typeof google != 'undefined' && google.colab.kernel != null) {\n",
       "        google.colab.kernel.comms.registerTarget(comm_id, (comm) => {\n",
       "          var messages = comm.messages[Symbol.asyncIterator]();\n",
       "          function processIteratorResult(result) {\n",
       "            var message = result.value;\n",
       "            console.log(message)\n",
       "            var content = {data: message.data, comm_id};\n",
       "            var buffers = []\n",
       "            for (var buffer of message.buffers || []) {\n",
       "              buffers.push(new DataView(buffer))\n",
       "            }\n",
       "            var metadata = message.metadata || {};\n",
       "            var msg = {content, buffers, metadata}\n",
       "            msg_handler(msg);\n",
       "            return messages.next().then(processIteratorResult);\n",
       "          }\n",
       "          return messages.next().then(processIteratorResult);\n",
       "        })\n",
       "      }\n",
       "    }\n",
       "\n",
       "    JupyterCommManager.prototype.get_client_comm = function(plot_id, comm_id, msg_handler) {\n",
       "      if (comm_id in window.PyViz.comms) {\n",
       "        return window.PyViz.comms[comm_id];\n",
       "      } else if (window.comm_manager || ((window.Jupyter !== undefined) && (Jupyter.notebook.kernel != null))) {\n",
       "        var comm_manager = window.comm_manager || Jupyter.notebook.kernel.comm_manager;\n",
       "        var comm = comm_manager.new_comm(comm_id, {}, {}, {}, comm_id);\n",
       "        if (msg_handler) {\n",
       "          comm.on_msg(msg_handler);\n",
       "        }\n",
       "      } else if ((plot_id in window.PyViz.kernels) && (window.PyViz.kernels[plot_id])) {\n",
       "        var comm = window.PyViz.kernels[plot_id].connectToComm(comm_id);\n",
       "        comm.open();\n",
       "        if (msg_handler) {\n",
       "          comm.onMsg = msg_handler;\n",
       "        }\n",
       "      } else if (typeof google != 'undefined' && google.colab.kernel != null) {\n",
       "        var comm_promise = google.colab.kernel.comms.open(comm_id)\n",
       "        comm_promise.then((comm) => {\n",
       "          window.PyViz.comms[comm_id] = comm;\n",
       "          if (msg_handler) {\n",
       "            var messages = comm.messages[Symbol.asyncIterator]();\n",
       "            function processIteratorResult(result) {\n",
       "              var message = result.value;\n",
       "              var content = {data: message.data};\n",
       "              var metadata = message.metadata || {comm_id};\n",
       "              var msg = {content, metadata}\n",
       "              msg_handler(msg);\n",
       "              return messages.next().then(processIteratorResult);\n",
       "            }\n",
       "            return messages.next().then(processIteratorResult);\n",
       "          }\n",
       "        }) \n",
       "        var sendClosure = (data, metadata, buffers, disposeOnDone) => {\n",
       "          return comm_promise.then((comm) => {\n",
       "            comm.send(data, metadata, buffers, disposeOnDone);\n",
       "          });\n",
       "        };\n",
       "        var comm = {\n",
       "          send: sendClosure\n",
       "        };\n",
       "      }\n",
       "      window.PyViz.comms[comm_id] = comm;\n",
       "      return comm;\n",
       "    }\n",
       "    window.PyViz.comm_manager = new JupyterCommManager();\n",
       "    \n",
       "\n",
       "\n",
       "var JS_MIME_TYPE = 'application/javascript';\n",
       "var HTML_MIME_TYPE = 'text/html';\n",
       "var EXEC_MIME_TYPE = 'application/vnd.holoviews_exec.v0+json';\n",
       "var CLASS_NAME = 'output';\n",
       "\n",
       "/**\n",
       " * Render data to the DOM node\n",
       " */\n",
       "function render(props, node) {\n",
       "  var div = document.createElement(\"div\");\n",
       "  var script = document.createElement(\"script\");\n",
       "  node.appendChild(div);\n",
       "  node.appendChild(script);\n",
       "}\n",
       "\n",
       "/**\n",
       " * Handle when a new output is added\n",
       " */\n",
       "function handle_add_output(event, handle) {\n",
       "  var output_area = handle.output_area;\n",
       "  var output = handle.output;\n",
       "  if ((output.data == undefined) || (!output.data.hasOwnProperty(EXEC_MIME_TYPE))) {\n",
       "    return\n",
       "  }\n",
       "  var id = output.metadata[EXEC_MIME_TYPE][\"id\"];\n",
       "  var toinsert = output_area.element.find(\".\" + CLASS_NAME.split(' ')[0]);\n",
       "  if (id !== undefined) {\n",
       "    var nchildren = toinsert.length;\n",
       "    var html_node = toinsert[nchildren-1].children[0];\n",
       "    html_node.innerHTML = output.data[HTML_MIME_TYPE];\n",
       "    var scripts = [];\n",
       "    var nodelist = html_node.querySelectorAll(\"script\");\n",
       "    for (var i in nodelist) {\n",
       "      if (nodelist.hasOwnProperty(i)) {\n",
       "        scripts.push(nodelist[i])\n",
       "      }\n",
       "    }\n",
       "\n",
       "    scripts.forEach( function (oldScript) {\n",
       "      var newScript = document.createElement(\"script\");\n",
       "      var attrs = [];\n",
       "      var nodemap = oldScript.attributes;\n",
       "      for (var j in nodemap) {\n",
       "        if (nodemap.hasOwnProperty(j)) {\n",
       "          attrs.push(nodemap[j])\n",
       "        }\n",
       "      }\n",
       "      attrs.forEach(function(attr) { newScript.setAttribute(attr.name, attr.value) });\n",
       "      newScript.appendChild(document.createTextNode(oldScript.innerHTML));\n",
       "      oldScript.parentNode.replaceChild(newScript, oldScript);\n",
       "    });\n",
       "    if (JS_MIME_TYPE in output.data) {\n",
       "      toinsert[nchildren-1].children[1].textContent = output.data[JS_MIME_TYPE];\n",
       "    }\n",
       "    output_area._hv_plot_id = id;\n",
       "    if ((window.Bokeh !== undefined) && (id in Bokeh.index)) {\n",
       "      window.PyViz.plot_index[id] = Bokeh.index[id];\n",
       "    } else {\n",
       "      window.PyViz.plot_index[id] = null;\n",
       "    }\n",
       "  } else if (output.metadata[EXEC_MIME_TYPE][\"server_id\"] !== undefined) {\n",
       "    var bk_div = document.createElement(\"div\");\n",
       "    bk_div.innerHTML = output.data[HTML_MIME_TYPE];\n",
       "    var script_attrs = bk_div.children[0].attributes;\n",
       "    for (var i = 0; i < script_attrs.length; i++) {\n",
       "      toinsert[toinsert.length - 1].childNodes[1].setAttribute(script_attrs[i].name, script_attrs[i].value);\n",
       "    }\n",
       "    // store reference to server id on output_area\n",
       "    output_area._bokeh_server_id = output.metadata[EXEC_MIME_TYPE][\"server_id\"];\n",
       "  }\n",
       "}\n",
       "\n",
       "/**\n",
       " * Handle when an output is cleared or removed\n",
       " */\n",
       "function handle_clear_output(event, handle) {\n",
       "  var id = handle.cell.output_area._hv_plot_id;\n",
       "  var server_id = handle.cell.output_area._bokeh_server_id;\n",
       "  if (((id === undefined) || !(id in PyViz.plot_index)) && (server_id !== undefined)) { return; }\n",
       "  var comm = window.PyViz.comm_manager.get_client_comm(\"hv-extension-comm\", \"hv-extension-comm\", function () {});\n",
       "  if (server_id !== null) {\n",
       "    comm.send({event_type: 'server_delete', 'id': server_id});\n",
       "    return;\n",
       "  } else if (comm !== null) {\n",
       "    comm.send({event_type: 'delete', 'id': id});\n",
       "  }\n",
       "  delete PyViz.plot_index[id];\n",
       "  if ((window.Bokeh !== undefined) & (id in window.Bokeh.index)) {\n",
       "    var doc = window.Bokeh.index[id].model.document\n",
       "    doc.clear();\n",
       "    const i = window.Bokeh.documents.indexOf(doc);\n",
       "    if (i > -1) {\n",
       "      window.Bokeh.documents.splice(i, 1);\n",
       "    }\n",
       "  }\n",
       "}\n",
       "\n",
       "/**\n",
       " * Handle kernel restart event\n",
       " */\n",
       "function handle_kernel_cleanup(event, handle) {\n",
       "  delete PyViz.comms[\"hv-extension-comm\"];\n",
       "  window.PyViz.plot_index = {}\n",
       "}\n",
       "\n",
       "/**\n",
       " * Handle update_display_data messages\n",
       " */\n",
       "function handle_update_output(event, handle) {\n",
       "  handle_clear_output(event, {cell: {output_area: handle.output_area}})\n",
       "  handle_add_output(event, handle)\n",
       "}\n",
       "\n",
       "function register_renderer(events, OutputArea) {\n",
       "  function append_mime(data, metadata, element) {\n",
       "    // create a DOM node to render to\n",
       "    var toinsert = this.create_output_subarea(\n",
       "    metadata,\n",
       "    CLASS_NAME,\n",
       "    EXEC_MIME_TYPE\n",
       "    );\n",
       "    this.keyboard_manager.register_events(toinsert);\n",
       "    // Render to node\n",
       "    var props = {data: data, metadata: metadata[EXEC_MIME_TYPE]};\n",
       "    render(props, toinsert[0]);\n",
       "    element.append(toinsert);\n",
       "    return toinsert\n",
       "  }\n",
       "\n",
       "  events.on('output_added.OutputArea', handle_add_output);\n",
       "  events.on('output_updated.OutputArea', handle_update_output);\n",
       "  events.on('clear_output.CodeCell', handle_clear_output);\n",
       "  events.on('delete.Cell', handle_clear_output);\n",
       "  events.on('kernel_ready.Kernel', handle_kernel_cleanup);\n",
       "\n",
       "  OutputArea.prototype.register_mime_type(EXEC_MIME_TYPE, append_mime, {\n",
       "    safe: true,\n",
       "    index: 0\n",
       "  });\n",
       "}\n",
       "\n",
       "if (window.Jupyter !== undefined) {\n",
       "  try {\n",
       "    var events = require('base/js/events');\n",
       "    var OutputArea = require('notebook/js/outputarea').OutputArea;\n",
       "    if (OutputArea.prototype.mime_types().indexOf(EXEC_MIME_TYPE) == -1) {\n",
       "      register_renderer(events, OutputArea);\n",
       "    }\n",
       "  } catch(err) {\n",
       "  }\n",
       "}\n"
      ],
      "application/vnd.holoviews_load.v0+json": "\nif ((window.PyViz === undefined) || (window.PyViz instanceof HTMLElement)) {\n  window.PyViz = {comms: {}, comm_status:{}, kernels:{}, receivers: {}, plot_index: []}\n}\n\n\n    function JupyterCommManager() {\n    }\n\n    JupyterCommManager.prototype.register_target = function(plot_id, comm_id, msg_handler) {\n      if (window.comm_manager || ((window.Jupyter !== undefined) && (Jupyter.notebook.kernel != null))) {\n        var comm_manager = window.comm_manager || Jupyter.notebook.kernel.comm_manager;\n        comm_manager.register_target(comm_id, function(comm) {\n          comm.on_msg(msg_handler);\n        });\n      } else if ((plot_id in window.PyViz.kernels) && (window.PyViz.kernels[plot_id])) {\n        window.PyViz.kernels[plot_id].registerCommTarget(comm_id, function(comm) {\n          comm.onMsg = msg_handler;\n        });\n      } else if (typeof google != 'undefined' && google.colab.kernel != null) {\n        google.colab.kernel.comms.registerTarget(comm_id, (comm) => {\n          var messages = comm.messages[Symbol.asyncIterator]();\n          function processIteratorResult(result) {\n            var message = result.value;\n            console.log(message)\n            var content = {data: message.data, comm_id};\n            var buffers = []\n            for (var buffer of message.buffers || []) {\n              buffers.push(new DataView(buffer))\n            }\n            var metadata = message.metadata || {};\n            var msg = {content, buffers, metadata}\n            msg_handler(msg);\n            return messages.next().then(processIteratorResult);\n          }\n          return messages.next().then(processIteratorResult);\n        })\n      }\n    }\n\n    JupyterCommManager.prototype.get_client_comm = function(plot_id, comm_id, msg_handler) {\n      if (comm_id in window.PyViz.comms) {\n        return window.PyViz.comms[comm_id];\n      } else if (window.comm_manager || ((window.Jupyter !== undefined) && (Jupyter.notebook.kernel != null))) {\n        var comm_manager = window.comm_manager || Jupyter.notebook.kernel.comm_manager;\n        var comm = comm_manager.new_comm(comm_id, {}, {}, {}, comm_id);\n        if (msg_handler) {\n          comm.on_msg(msg_handler);\n        }\n      } else if ((plot_id in window.PyViz.kernels) && (window.PyViz.kernels[plot_id])) {\n        var comm = window.PyViz.kernels[plot_id].connectToComm(comm_id);\n        comm.open();\n        if (msg_handler) {\n          comm.onMsg = msg_handler;\n        }\n      } else if (typeof google != 'undefined' && google.colab.kernel != null) {\n        var comm_promise = google.colab.kernel.comms.open(comm_id)\n        comm_promise.then((comm) => {\n          window.PyViz.comms[comm_id] = comm;\n          if (msg_handler) {\n            var messages = comm.messages[Symbol.asyncIterator]();\n            function processIteratorResult(result) {\n              var message = result.value;\n              var content = {data: message.data};\n              var metadata = message.metadata || {comm_id};\n              var msg = {content, metadata}\n              msg_handler(msg);\n              return messages.next().then(processIteratorResult);\n            }\n            return messages.next().then(processIteratorResult);\n          }\n        }) \n        var sendClosure = (data, metadata, buffers, disposeOnDone) => {\n          return comm_promise.then((comm) => {\n            comm.send(data, metadata, buffers, disposeOnDone);\n          });\n        };\n        var comm = {\n          send: sendClosure\n        };\n      }\n      window.PyViz.comms[comm_id] = comm;\n      return comm;\n    }\n    window.PyViz.comm_manager = new JupyterCommManager();\n    \n\n\nvar JS_MIME_TYPE = 'application/javascript';\nvar HTML_MIME_TYPE = 'text/html';\nvar EXEC_MIME_TYPE = 'application/vnd.holoviews_exec.v0+json';\nvar CLASS_NAME = 'output';\n\n/**\n * Render data to the DOM node\n */\nfunction render(props, node) {\n  var div = document.createElement(\"div\");\n  var script = document.createElement(\"script\");\n  node.appendChild(div);\n  node.appendChild(script);\n}\n\n/**\n * Handle when a new output is added\n */\nfunction handle_add_output(event, handle) {\n  var output_area = handle.output_area;\n  var output = handle.output;\n  if ((output.data == undefined) || (!output.data.hasOwnProperty(EXEC_MIME_TYPE))) {\n    return\n  }\n  var id = output.metadata[EXEC_MIME_TYPE][\"id\"];\n  var toinsert = output_area.element.find(\".\" + CLASS_NAME.split(' ')[0]);\n  if (id !== undefined) {\n    var nchildren = toinsert.length;\n    var html_node = toinsert[nchildren-1].children[0];\n    html_node.innerHTML = output.data[HTML_MIME_TYPE];\n    var scripts = [];\n    var nodelist = html_node.querySelectorAll(\"script\");\n    for (var i in nodelist) {\n      if (nodelist.hasOwnProperty(i)) {\n        scripts.push(nodelist[i])\n      }\n    }\n\n    scripts.forEach( function (oldScript) {\n      var newScript = document.createElement(\"script\");\n      var attrs = [];\n      var nodemap = oldScript.attributes;\n      for (var j in nodemap) {\n        if (nodemap.hasOwnProperty(j)) {\n          attrs.push(nodemap[j])\n        }\n      }\n      attrs.forEach(function(attr) { newScript.setAttribute(attr.name, attr.value) });\n      newScript.appendChild(document.createTextNode(oldScript.innerHTML));\n      oldScript.parentNode.replaceChild(newScript, oldScript);\n    });\n    if (JS_MIME_TYPE in output.data) {\n      toinsert[nchildren-1].children[1].textContent = output.data[JS_MIME_TYPE];\n    }\n    output_area._hv_plot_id = id;\n    if ((window.Bokeh !== undefined) && (id in Bokeh.index)) {\n      window.PyViz.plot_index[id] = Bokeh.index[id];\n    } else {\n      window.PyViz.plot_index[id] = null;\n    }\n  } else if (output.metadata[EXEC_MIME_TYPE][\"server_id\"] !== undefined) {\n    var bk_div = document.createElement(\"div\");\n    bk_div.innerHTML = output.data[HTML_MIME_TYPE];\n    var script_attrs = bk_div.children[0].attributes;\n    for (var i = 0; i < script_attrs.length; i++) {\n      toinsert[toinsert.length - 1].childNodes[1].setAttribute(script_attrs[i].name, script_attrs[i].value);\n    }\n    // store reference to server id on output_area\n    output_area._bokeh_server_id = output.metadata[EXEC_MIME_TYPE][\"server_id\"];\n  }\n}\n\n/**\n * Handle when an output is cleared or removed\n */\nfunction handle_clear_output(event, handle) {\n  var id = handle.cell.output_area._hv_plot_id;\n  var server_id = handle.cell.output_area._bokeh_server_id;\n  if (((id === undefined) || !(id in PyViz.plot_index)) && (server_id !== undefined)) { return; }\n  var comm = window.PyViz.comm_manager.get_client_comm(\"hv-extension-comm\", \"hv-extension-comm\", function () {});\n  if (server_id !== null) {\n    comm.send({event_type: 'server_delete', 'id': server_id});\n    return;\n  } else if (comm !== null) {\n    comm.send({event_type: 'delete', 'id': id});\n  }\n  delete PyViz.plot_index[id];\n  if ((window.Bokeh !== undefined) & (id in window.Bokeh.index)) {\n    var doc = window.Bokeh.index[id].model.document\n    doc.clear();\n    const i = window.Bokeh.documents.indexOf(doc);\n    if (i > -1) {\n      window.Bokeh.documents.splice(i, 1);\n    }\n  }\n}\n\n/**\n * Handle kernel restart event\n */\nfunction handle_kernel_cleanup(event, handle) {\n  delete PyViz.comms[\"hv-extension-comm\"];\n  window.PyViz.plot_index = {}\n}\n\n/**\n * Handle update_display_data messages\n */\nfunction handle_update_output(event, handle) {\n  handle_clear_output(event, {cell: {output_area: handle.output_area}})\n  handle_add_output(event, handle)\n}\n\nfunction register_renderer(events, OutputArea) {\n  function append_mime(data, metadata, element) {\n    // create a DOM node to render to\n    var toinsert = this.create_output_subarea(\n    metadata,\n    CLASS_NAME,\n    EXEC_MIME_TYPE\n    );\n    this.keyboard_manager.register_events(toinsert);\n    // Render to node\n    var props = {data: data, metadata: metadata[EXEC_MIME_TYPE]};\n    render(props, toinsert[0]);\n    element.append(toinsert);\n    return toinsert\n  }\n\n  events.on('output_added.OutputArea', handle_add_output);\n  events.on('output_updated.OutputArea', handle_update_output);\n  events.on('clear_output.CodeCell', handle_clear_output);\n  events.on('delete.Cell', handle_clear_output);\n  events.on('kernel_ready.Kernel', handle_kernel_cleanup);\n\n  OutputArea.prototype.register_mime_type(EXEC_MIME_TYPE, append_mime, {\n    safe: true,\n    index: 0\n  });\n}\n\nif (window.Jupyter !== undefined) {\n  try {\n    var events = require('base/js/events');\n    var OutputArea = require('notebook/js/outputarea').OutputArea;\n    if (OutputArea.prototype.mime_types().indexOf(EXEC_MIME_TYPE) == -1) {\n      register_renderer(events, OutputArea);\n    }\n  } catch(err) {\n  }\n}\n"
     },
     "metadata": {},
     "output_type": "display_data"
    },
    {
     "data": {
      "text/html": [
       "<style>.bk-root, .bk-root .bk:before, .bk-root .bk:after {\n",
       "  font-family: var(--jp-ui-font-size1);\n",
       "  font-size: var(--jp-ui-font-size1);\n",
       "  color: var(--jp-ui-font-color1);\n",
       "}\n",
       "</style>"
      ]
     },
     "metadata": {},
     "output_type": "display_data"
    },
    {
     "data": {},
     "metadata": {},
     "output_type": "display_data"
    },
    {
     "data": {
      "application/vnd.holoviews_exec.v0+json": "",
      "text/html": [
       "<div id='1004'>\n",
       "  <div class=\"bk-root\" id=\"a116ed81-4354-48dc-9a00-f4f0041d9d01\" data-root-id=\"1004\"></div>\n",
       "</div>\n",
       "<script type=\"application/javascript\">(function(root) {\n",
       "  function embed_document(root) {\n",
       "    var docs_json = {\"a6b9dd00-24ff-41e0-bafc-2eb65a232bb4\":{\"defs\":[{\"extends\":null,\"module\":null,\"name\":\"ReactiveHTML1\",\"overrides\":[],\"properties\":[]},{\"extends\":null,\"module\":null,\"name\":\"FlexBox1\",\"overrides\":[],\"properties\":[{\"default\":\"flex-start\",\"kind\":null,\"name\":\"align_content\"},{\"default\":\"flex-start\",\"kind\":null,\"name\":\"align_items\"},{\"default\":\"row\",\"kind\":null,\"name\":\"flex_direction\"},{\"default\":\"wrap\",\"kind\":null,\"name\":\"flex_wrap\"},{\"default\":\"flex-start\",\"kind\":null,\"name\":\"justify_content\"}]},{\"extends\":null,\"module\":null,\"name\":\"GridStack1\",\"overrides\":[],\"properties\":[{\"default\":\"warn\",\"kind\":null,\"name\":\"mode\"},{\"default\":null,\"kind\":null,\"name\":\"ncols\"},{\"default\":null,\"kind\":null,\"name\":\"nrows\"},{\"default\":true,\"kind\":null,\"name\":\"allow_resize\"},{\"default\":true,\"kind\":null,\"name\":\"allow_drag\"},{\"default\":[],\"kind\":null,\"name\":\"state\"}]},{\"extends\":null,\"module\":null,\"name\":\"click1\",\"overrides\":[],\"properties\":[{\"default\":\"\",\"kind\":null,\"name\":\"terminal_output\"},{\"default\":\"\",\"kind\":null,\"name\":\"debug_name\"},{\"default\":0,\"kind\":null,\"name\":\"clears\"}]},{\"extends\":null,\"module\":null,\"name\":\"NotificationAreaBase1\",\"overrides\":[],\"properties\":[{\"default\":\"bottom-right\",\"kind\":null,\"name\":\"position\"},{\"default\":0,\"kind\":null,\"name\":\"_clear\"}]},{\"extends\":null,\"module\":null,\"name\":\"NotificationArea1\",\"overrides\":[],\"properties\":[{\"default\":[],\"kind\":null,\"name\":\"notifications\"},{\"default\":\"bottom-right\",\"kind\":null,\"name\":\"position\"},{\"default\":0,\"kind\":null,\"name\":\"_clear\"},{\"default\":[{\"background\":\"#ffc107\",\"icon\":{\"className\":\"fas fa-exclamation-triangle\",\"color\":\"white\",\"tagName\":\"i\"},\"type\":\"warning\"},{\"background\":\"#007bff\",\"icon\":{\"className\":\"fas fa-info-circle\",\"color\":\"white\",\"tagName\":\"i\"},\"type\":\"info\"}],\"kind\":null,\"name\":\"types\"}]},{\"extends\":null,\"module\":null,\"name\":\"Notification\",\"overrides\":[],\"properties\":[{\"default\":null,\"kind\":null,\"name\":\"background\"},{\"default\":3000,\"kind\":null,\"name\":\"duration\"},{\"default\":null,\"kind\":null,\"name\":\"icon\"},{\"default\":\"\",\"kind\":null,\"name\":\"message\"},{\"default\":null,\"kind\":null,\"name\":\"notification_type\"},{\"default\":false,\"kind\":null,\"name\":\"_destroyed\"}]},{\"extends\":null,\"module\":null,\"name\":\"TemplateActions1\",\"overrides\":[],\"properties\":[{\"default\":0,\"kind\":null,\"name\":\"open_modal\"},{\"default\":0,\"kind\":null,\"name\":\"close_modal\"}]},{\"extends\":null,\"module\":null,\"name\":\"MaterialTemplateActions1\",\"overrides\":[],\"properties\":[{\"default\":0,\"kind\":null,\"name\":\"open_modal\"},{\"default\":0,\"kind\":null,\"name\":\"close_modal\"}]}],\"roots\":{\"references\":[{\"attributes\":{},\"id\":\"1003\",\"type\":\"panel.models.vtk.VTKAxes\"},{\"attributes\":{\"arrays\":{\"38bce0c627055aa86ba02923575c9ed5\":\"UEsDBBQAAAAIAEF4SlYapi7lNQMAADADAAAlAAAAZGF0YS8zOGJjZTBjNjI3MDU1YWE4NmJhMDI5MjM1NzVjOWVkNQEwA8/87+7u7jggHMCW/GJps6AbwOi0gc5Yqfg/l5aWOpDLIcAAAAA3EhfxP6alpT0x6Pc/FRUVtR3jIUBycnJTfWDxP4uKiqKtvvc/TL/0K47EIcD1S7+UI7YGQGIndnJLY/g/etObTp6fB8DqTW8S99MwwJGFLEQ2WA1Ak9HiNX7eJcD8wq19e8khwJ7JaNHUeQhAID9+fC3fLUDLli0Lr5gTwH78+EEpegtAOovpzJ/QLcDTWUynQREbQNNZTKerrQxAWR8a6wNdLUDByyk4fqEhQMwpeLmMmQ1AkysI/cqw7b8AAADwW80pQDwb9U1GywdAFDvtLWCV7z9iJ3bk2OcpQIqd2CEKXAhAVxCTi8mcJUBHfWdzfdkpQNR3NpqXFg1A3zOJFBzP7T8oKCjoeNs0wAdcsYYjKRZAo4sumopMMMAXXXTRYPcswF100dXqARdAWKQM3InGMMBCewlN4t0pwJjQXoK+kRZAAAAA7MX4MsAAAFineiXvP2ZmZmnI0hRAg0tle53sMkD8Rc7QVDkHQCn+IgfshBRAhmEY5j2DNECSJEmSXggbQMMwDOMOBhdA7SGXVcLfJcAilxUDdNowQCKXFYPwtxVAIJPiRQvdJUCcrUMvUPEwQMs9jeD3hRVA8z7Fp+D+8L/zPsVFCbg0QJMhWOc3LBZAyz2NUAoFFMBkUrxQG7k2wDIpXtDdJRtAuuiiewYyKUCjiy5KD1E0wIwuuggcMBxAEn1A1VUZM8AIVMfemN8bwNWxtxZwbBpABudjUC31IUC1K1Er6sk0QGpXotYpfhpA/Wyx8v6rI8C562dLEGQ3wAAAAJBQyiBABTG58pfLM8ALYnI1FKQvwDG5glCf8CBA6aKLdj7RN8CMLroYt6IfwOmii+BWlSBA2G6WBzGGOUBCRwXGiI2/vwt8cfVxxSBArIBg6BsROMCT7jLWTR8AQGWLaN7lTiBAZmZmSnFsNUCamZldYvoqQDMzM7P6tSBAP1kCO+mzH8DPSMU8ePE1QCF6fDcVNCBA50Hu6g/0I0CsDN+Ykvk1QDDp1NT8OiBA3dMI69kIK0AaYbmHjjs1QJ9GWL6GliBAUEsBAhQDFAAAAAgAQXhKVhqmLuU1AwAAMAMAACUAAAAAAAAAAAAAAIABAAAAAGRhdGEvMzhiY2UwYzYyNzA1NWFhODZiYTAyOTIzNTc1YzllZDVQSwUGAAAAAAEAAQBTAAAAeAMAAAAA\",\"3adf9a173097c96f80a0846d80d5f264\":\"UEsDBBQAAAAIAEF4SlbLjqeORQAAABABAAAlAAAAZGF0YS8zYWRmOWExNzMwOTdjOTZmODBhMDg0NmQ4MGQ1ZjI2NE3FRw6CAAAAQQGlSlGKKALy/09CwhzcZDPB5Sz4O2TEK2+MmTBlxpwF7yxZsWbDB59s2bHnwBdHvvnhxC9nLlz543a8A1BLAQIUAxQAAAAIAEF4SlbLjqeORQAAABABAAAlAAAAAAAAAAAAAACAAQAAAABkYXRhLzNhZGY5YTE3MzA5N2M5NmY4MGEwODQ2ZDgwZDVmMjY0UEsFBgAAAAABAAEAUwAAAIgAAAAAAA==\",\"55ef58c50e0d05a76fabcd8fa0f5907c\":\"UEsDBBQAAAAIAEF4SlZ3Vl8NdAAAABABAAAlAAAAZGF0YS81NWVmNThjNTBlMGQwNWE3NmZhYmNkOGZhMGY1OTA3Y2NgAAFjBzDVEAChDwRB6WAoHQ+hF6RC1WVD6WIInVAKlS+D0BugNEM5VL4CQgdUQfnVENqjCUJPaIbQH1qg6toh9AooLdEBFYfSL6D0gR6oOZMhdA2UzpkCoe9MhdBvpkPoL1B6xSwIPWM2hN4DpY/MdgAAUEsBAhQDFAAAAAgAQXhKVndWXw10AAAAEAEAACUAAAAAAAAAAAAAAIABAAAAAGRhdGEvNTVlZjU4YzUwZTBkMDVhNzZmYWJjZDhmYTBmNTkwN2NQSwUGAAAAAAEAAQBTAAAAtwAAAAAA\",\"ce52d598102e2756143cf4f27a0b5911\":\"UEsDBBQAAAAIAEF4SlaE1+BQMwMAAAAEAAAlAAAAZGF0YS9jZTUyZDU5ODEwMmUyNzU2MTQzY2Y0ZjI3YTBiNTkxMS3DCUzVBRzA8VWr1Wq1WjVAfI/HfQnIfcvx3vs/wiMUBAS55BC57/uWx/He/59ZZllmWWZZZllmWWpRappXeKAIAga4ttbW2lpra99+bX62j/G+dIz3Z2B8IBPTg1mYHtqA6eEczI/kYn40D/Nj+ZgfL0R5ogjlyU0oT5WgPF2K8kwZyrPlKA5bsDhWYHGqxOJcjWVpDRZdLRaXOiyGeiyuDVjcGlE8mlA8m1G8WlC8W1F821D82lH8OzAv68QcKIO6MC/vxhTcgylUhvViCu/DGCGj+kmOHiA5RsZuJSlOxg+SlDBIYqKVxCQrCclDJBiHWGGSyjDxFpkyQtxzMlWuHCF21Sixq0eJeV6mjRK91kb0OhtR6TLDRuR6mWknIktm2wnfIHPshOXKjXZC81RC81VCCmShSnCR3KSyvFiWyFKVoDK5WSWwXG5RCajQCKiUVRrLqmWNhn+trJP1Gn4NslHDt0k2yxYNn1bZpuHdfm+Hhlen7JLdGp49slf2aXj0ywEV961yUFpV3IbksBxRcf3/qLSpGOxStWPQ7Li8ILfJF+3ot8uXbOhfljvkKzZ0O0fRvSpfu3fXCLrX5Rty9zC6N+Ue+dYQ+rflXiv6d6y4vDuIy75BDO/J/VtxlW7vD+D2QT/uB/rx+LAPz4/68DrYi/fHPfgc6sH3k278Pu3CXwYc7iTwsw6CPm8n+Eg7IV+0EXa0lfAvW4j8qpkoGXOsibivG4n/poGE4/UknajDeKIW08kalG+rSfmuitSxSlaNVbDm+3LSftjMulNlZJwuJfN0Cdlnisn5sYi8s4UUnC2g6Fw+xT9tpOx8LuXnc6i4kE3VxSxqL66n/lIGjZfTabm8lraf0+gcX0P3+Gr6rqxk4Eoq1qspDF9TsF0zo143su16MtsnEtkxsYKdN+LZdSOW3Tej2XMzkr2TEeybDGP/rRAO3Arm4FQQh6YCODztz5FpP45O+3DsthfHb3tycsadsRlXTs0YODOr59ysjguzS7k058z43BKuzjkxcceRyTsOTMmZXxyYk/Py7rwjv8rf5p34fWEJfyw48+eCjr8W9fy9aOCfRVf+vevOf1BLAQIUAxQAAAAIAEF4SlaE1+BQMwMAAAAEAAAlAAAAAAAAAAAAAACAAQAAAABkYXRhL2NlNTJkNTk4MTAyZTI3NTYxNDNjZjRmMjdhMGI1OTExUEsFBgAAAAABAAEAUwAAAHYDAAAAAA==\"},\"axes\":{\"id\":\"1003\"},\"color_mappers\":[{\"id\":\"1002\"}],\"margin\":[5,5,5,5],\"orientation_widget\":true,\"scene\":{\"calls\":[[\"addRenderer\",[\"instance:${cfbdcdbe-2fea-4710-95b8-10e13dd9c0ee00007f101bd4c490}\"]],[\"addRenderer\",[\"instance:${cfbdcdbe-2fea-4710-95b8-10e13dd9c0ee00007f101c3386a0}\"]],[\"addRenderer\",[\"instance:${cfbdcdbe-2fea-4710-95b8-10e13dd9c0ee00007fffe19c10c0}\"]]],\"dependencies\":[{\"calls\":[[\"setActiveCamera\",[\"instance:${00007f101b47b940}\"]],[\"addViewProp\",[\"instance:${cfbdcdbe-2fea-4710-95b8-10e13dd9c0ee00007f101c500130}\"]]],\"dependencies\":[{\"id\":\"00007f101b47b940\",\"parent\":\"cfbdcdbe-2fea-4710-95b8-10e13dd9c0ee00007f101bd4c490\",\"properties\":{\"clippingRange\":[70.6734459103615,206.21728363247675],\"focalPoint\":[0.7286767724354704,-0.7079902450637068,4.977008891527136],\"position\":[76.09668459694518,74.660017579446,80.34501671603685],\"viewUp\":[0.0,0.0,1.0]},\"type\":\"vtkOpenGLCamera\"},{\"calls\":[[\"setMapper\",[\"instance:${cfbdcdbe-2fea-4710-95b8-10e13dd9c0ee00007f1028fc45e0}\"]],[\"setProperty\",[\"instance:${cfbdcdbe-2fea-4710-95b8-10e13dd9c0ee00007f101bc01940}\"]]],\"dependencies\":[{\"calls\":[[\"setInputData\",[\"instance:${cfbdcdbe-2fea-4710-95b8-10e13dd9c0ee00007f1028fc45e0-dataset-0}\",0]],[\"setLookupTable\",[\"instance:${cfbdcdbe-2fea-4710-95b8-10e13dd9c0ee00007f101b460810}\"]]],\"dependencies\":[{\"id\":\"cfbdcdbe-2fea-4710-95b8-10e13dd9c0ee00007f1028fc45e0-dataset-0\",\"parent\":\"cfbdcdbe-2fea-4710-95b8-10e13dd9c0ee00007f1028fc45e0\",\"properties\":{\"fields\":[{\"dataType\":\"Float64Array\",\"hash\":\"55ef58c50e0d05a76fabcd8fa0f5907c\",\"location\":\"pointData\",\"name\":\"label\",\"numberOfComponents\":1,\"ranges\":[{\"component\":null,\"max\":1777.0,\"min\":19.0}],\"registration\":\"setScalars\",\"size\":34,\"vtkClass\":\"vtkDataArray\"}],\"points\":{\"dataType\":\"Float64Array\",\"hash\":\"38bce0c627055aa86ba02923575c9ed5\",\"name\":\"Points\",\"numberOfComponents\":3,\"ranges\":[{\"component\":null,\"max\":25.524185632921984,\"min\":-24.066832088051044},{\"component\":null,\"max\":21.97489314504189,\"min\":-23.390873635169303},{\"component\":null,\"max\":8.469965473134467,\"min\":1.4840523099198062},{\"component\":null,\"max\":26.866673017043816,\"min\":9.085181244940797}],\"size\":102,\"vtkClass\":\"vtkPoints\"},\"verts\":{\"dataType\":\"Uint32Array\",\"hash\":\"3adf9a173097c96f80a0846d80d5f264\",\"name\":null,\"numberOfComponents\":1,\"ranges\":[{\"component\":null,\"max\":33.0,\"min\":0.0}],\"size\":68,\"vtkClass\":\"vtkCellArray\"}},\"type\":\"vtkPolyData\"},{\"arrays\":[{\"dataType\":\"Uint8Array\",\"hash\":\"ce52d598102e2756143cf4f27a0b5911\",\"name\":null,\"numberOfComponents\":4,\"ranges\":[{\"component\":null,\"max\":253.0,\"min\":30.0},{\"component\":null,\"max\":231.0,\"min\":1.0},{\"component\":null,\"max\":142.0,\"min\":24.0},{\"component\":null,\"max\":255.0,\"min\":255.0},{\"component\":null,\"max\":428.5918804643877,\"min\":276.95848064285735}],\"registration\":\"setTable\",\"size\":1024,\"vtkClass\":\"vtkDataArray\"}],\"id\":\"cfbdcdbe-2fea-4710-95b8-10e13dd9c0ee00007f101b460810\",\"parent\":\"cfbdcdbe-2fea-4710-95b8-10e13dd9c0ee00007f1028fc45e0\",\"properties\":{\"aboveRangeColor\":[1.0,1.0,1.0,1.0],\"alpha\":1.0,\"belowRangeColor\":[0.0,0.0,0.0,1.0],\"hueRange\":[0.5,0],\"indexedLookup\":0,\"nanColor\":[0.6627450980392157,0.6627450980392157,0.6627450980392157,1.0],\"numberOfColors\":256,\"range\":[19.0,1777.0],\"saturationRange\":[1.0,1.0],\"useAboveRangeColor\":false,\"useBelowRangeColor\":false,\"valueRange\":[19.0,1777.0],\"vectorComponent\":0,\"vectorMode\":1,\"vectorSize\":-1},\"type\":\"vtkLookupTable\"}],\"id\":\"cfbdcdbe-2fea-4710-95b8-10e13dd9c0ee00007f1028fc45e0\",\"parent\":\"cfbdcdbe-2fea-4710-95b8-10e13dd9c0ee00007f101c500130\",\"properties\":{\"arrayAccessMode\":1,\"colorByArrayName\":null,\"colorMode\":1,\"interpolateScalarsBeforeMapping\":1,\"renderTime\":0.0,\"resolveCoincidentTopology\":0,\"scalarMode\":1,\"scalarRange\":[19.0,1777.0],\"scalarVisibility\":1,\"useLookupTableScalarRange\":0},\"type\":\"vtkDataSetMapper\"},{\"id\":\"cfbdcdbe-2fea-4710-95b8-10e13dd9c0ee00007f101bc01940\",\"parent\":\"cfbdcdbe-2fea-4710-95b8-10e13dd9c0ee00007f101c500130\",\"properties\":{\"ambient\":0.0,\"ambientColor\":[1.0,1.0,1.0],\"backfaceCulling\":0,\"color\":[1.0,1.0,1.0],\"diffuse\":1.0,\"diffuseColor\":[1.0,1.0,1.0],\"edgeColor\":[0.0,0.0,0.0],\"edgeVisibility\":0,\"frontfaceCulling\":0,\"interpolation\":0,\"lighting\":1,\"lineWidth\":1.0,\"opacity\":1.0,\"pointSize\":5.0,\"representation\":2,\"specular\":0.0,\"specularColor\":[1.0,1.0,1.0],\"specularPower\":100.0},\"type\":\"vtkOpenGLProperty\"}],\"id\":\"cfbdcdbe-2fea-4710-95b8-10e13dd9c0ee00007f101c500130\",\"parent\":\"cfbdcdbe-2fea-4710-95b8-10e13dd9c0ee00007f101bd4c490\",\"properties\":{\"dragable\":1,\"forceOpaque\":false,\"forceTranslucent\":false,\"orientation\":[0.0,-0.0,0.0],\"origin\":[0.0,0.0,0.0],\"pickable\":1,\"position\":[0.0,0.0,0.0],\"scale\":[1.0,1.0,1.0],\"useBounds\":true,\"visibility\":1},\"type\":\"vtkOpenGLActor\"}],\"id\":\"cfbdcdbe-2fea-4710-95b8-10e13dd9c0ee00007f101bd4c490\",\"parent\":\"cfbdcdbe-2fea-4710-95b8-10e13dd9c0ee00007f101bdeb0e0\",\"properties\":{\"background\":[0.2980392156862745,0.2980392156862745,0.2980392156862745],\"background2\":[0.2,0.2,0.2],\"clippingRangeExpansion\":0.5,\"interactive\":1,\"layer\":0,\"lightFollowCamera\":1,\"maximumNumberOfPeels\":4,\"nearClippingPlaneTolerance\":0.001,\"occlusionRatio\":0.0,\"preserveColorBuffer\":0,\"preserveDepthBuffer\":0,\"twoSidedLighting\":1,\"useDepthPeeling\":0,\"useShadows\":0,\"viewport\":[0.0,0.0,1.0,1.0]},\"type\":\"vtkOpenGLRenderer\"},{\"calls\":[[\"setActiveCamera\",[\"instance:${00007f102a8bb0c0}\"]]],\"dependencies\":[{\"id\":\"00007f102a8bb0c0\",\"parent\":\"cfbdcdbe-2fea-4710-95b8-10e13dd9c0ee00007f101c3386a0\",\"properties\":{\"clippingRange\":[0.01,1000.01],\"focalPoint\":[0.0,0.0,0.0],\"position\":[0.0,0.0,1.0],\"viewUp\":[0.0,1.0,0.0]},\"type\":\"vtkOpenGLCamera\"}],\"id\":\"cfbdcdbe-2fea-4710-95b8-10e13dd9c0ee00007f101c3386a0\",\"parent\":\"cfbdcdbe-2fea-4710-95b8-10e13dd9c0ee00007f101bdeb0e0\",\"properties\":{\"background\":[0.2980392156862745,0.2980392156862745,0.2980392156862745],\"background2\":[0.2,0.2,0.2],\"clippingRangeExpansion\":0.5,\"interactive\":0,\"layer\":1,\"lightFollowCamera\":1,\"maximumNumberOfPeels\":4,\"nearClippingPlaneTolerance\":0.0,\"occlusionRatio\":0.0,\"preserveColorBuffer\":1,\"preserveDepthBuffer\":0,\"twoSidedLighting\":1,\"useDepthPeeling\":0,\"useShadows\":0,\"viewport\":[0.0,0.0,1.0,1.0]},\"type\":\"vtkOpenGLRenderer\"},{\"calls\":[[\"setActiveCamera\",[\"instance:${00007fffe1ac6fb0}\"]]],\"dependencies\":[{\"id\":\"00007fffe1ac6fb0\",\"parent\":\"cfbdcdbe-2fea-4710-95b8-10e13dd9c0ee00007fffe19c10c0\",\"properties\":{\"clippingRange\":[3.1784280185413705,11.131299659311038],\"focalPoint\":[0.0,0.0,0.0],\"position\":[3.8637033051562724,3.8637033051562732,3.8637033051562732],\"viewUp\":[0.0,0.0,1.0]},\"type\":\"vtkOpenGLCamera\"}],\"id\":\"cfbdcdbe-2fea-4710-95b8-10e13dd9c0ee00007fffe19c10c0\",\"parent\":\"cfbdcdbe-2fea-4710-95b8-10e13dd9c0ee00007f101bdeb0e0\",\"properties\":{\"background\":[0.0,0.0,0.0],\"background2\":[0.2,0.2,0.2],\"clippingRangeExpansion\":0.5,\"interactive\":0,\"layer\":1,\"lightFollowCamera\":1,\"maximumNumberOfPeels\":4,\"nearClippingPlaneTolerance\":0.001,\"occlusionRatio\":0.0,\"preserveColorBuffer\":1,\"preserveDepthBuffer\":0,\"twoSidedLighting\":1,\"useDepthPeeling\":0,\"useShadows\":0,\"viewport\":[0.0,0.0,0.2,0.2]},\"type\":\"vtkOpenGLRenderer\"}],\"id\":\"cfbdcdbe-2fea-4710-95b8-10e13dd9c0ee00007f101bdeb0e0\",\"mtime\":15401,\"parent\":\"cfbdcdbe-2fea-4710-95b8-10e13dd9c0ee0x0\",\"properties\":{\"numberOfLayers\":2},\"type\":\"vtkXOpenGLRenderWindow\"},\"sizing_mode\":\"stretch_width\"},\"id\":\"1004\",\"type\":\"panel.models.vtk.VTKSynchronizedPlot\"},{\"attributes\":{\"client_comm_id\":\"c8050c6124e0429a9279c54ef4f6acbf\",\"comm_id\":\"d8b4a1fdd951406b9d6034f38a7a8694\",\"plot_id\":\"1004\"},\"id\":\"1005\",\"type\":\"panel.models.comm_manager.CommManager\"},{\"attributes\":{\"high\":1777.0,\"low\":19.0,\"name\":\"label\",\"palette\":[\"#440154\",\"#440255\",\"#440357\",\"#450558\",\"#45065a\",\"#45085b\",\"#46095c\",\"#460b5e\",\"#460c5f\",\"#460e61\",\"#470f62\",\"#471163\",\"#471265\",\"#471466\",\"#471567\",\"#471669\",\"#47186a\",\"#48196b\",\"#481a6c\",\"#481c6e\",\"#481d6f\",\"#481e70\",\"#482071\",\"#482172\",\"#482273\",\"#482374\",\"#472575\",\"#472676\",\"#472777\",\"#472878\",\"#472a79\",\"#472b7a\",\"#472c7b\",\"#462d7c\",\"#462f7c\",\"#46307d\",\"#46317e\",\"#45327f\",\"#45347f\",\"#453580\",\"#453681\",\"#443781\",\"#443982\",\"#433a83\",\"#433b83\",\"#433c84\",\"#423d84\",\"#423e85\",\"#424085\",\"#414186\",\"#414286\",\"#404387\",\"#404487\",\"#3f4587\",\"#3f4788\",\"#3e4888\",\"#3e4989\",\"#3d4a89\",\"#3d4b89\",\"#3d4c89\",\"#3c4d8a\",\"#3c4e8a\",\"#3b508a\",\"#3b518a\",\"#3a528b\",\"#3a538b\",\"#39548b\",\"#39558b\",\"#38568b\",\"#38578c\",\"#37588c\",\"#37598c\",\"#365a8c\",\"#365b8c\",\"#355c8c\",\"#355d8c\",\"#345e8d\",\"#345f8d\",\"#33608d\",\"#33618d\",\"#32628d\",\"#32638d\",\"#31648d\",\"#31658d\",\"#31668d\",\"#30678d\",\"#30688d\",\"#2f698d\",\"#2f6a8d\",\"#2e6b8e\",\"#2e6c8e\",\"#2e6d8e\",\"#2d6e8e\",\"#2d6f8e\",\"#2c708e\",\"#2c718e\",\"#2c728e\",\"#2b738e\",\"#2b748e\",\"#2a758e\",\"#2a768e\",\"#2a778e\",\"#29788e\",\"#29798e\",\"#287a8e\",\"#287a8e\",\"#287b8e\",\"#277c8e\",\"#277d8e\",\"#277e8e\",\"#267f8e\",\"#26808e\",\"#26818e\",\"#25828e\",\"#25838d\",\"#24848d\",\"#24858d\",\"#24868d\",\"#23878d\",\"#23888d\",\"#23898d\",\"#22898d\",\"#228a8d\",\"#228b8d\",\"#218c8d\",\"#218d8c\",\"#218e8c\",\"#208f8c\",\"#20908c\",\"#20918c\",\"#1f928c\",\"#1f938b\",\"#1f948b\",\"#1f958b\",\"#1f968b\",\"#1e978a\",\"#1e988a\",\"#1e998a\",\"#1e998a\",\"#1e9a89\",\"#1e9b89\",\"#1e9c89\",\"#1e9d88\",\"#1e9e88\",\"#1e9f88\",\"#1ea087\",\"#1fa187\",\"#1fa286\",\"#1fa386\",\"#20a485\",\"#20a585\",\"#21a685\",\"#21a784\",\"#22a784\",\"#23a883\",\"#23a982\",\"#24aa82\",\"#25ab81\",\"#26ac81\",\"#27ad80\",\"#28ae7f\",\"#29af7f\",\"#2ab07e\",\"#2bb17d\",\"#2cb17d\",\"#2eb27c\",\"#2fb37b\",\"#30b47a\",\"#32b57a\",\"#33b679\",\"#35b778\",\"#36b877\",\"#38b976\",\"#39b976\",\"#3bba75\",\"#3dbb74\",\"#3ebc73\",\"#40bd72\",\"#42be71\",\"#44be70\",\"#45bf6f\",\"#47c06e\",\"#49c16d\",\"#4bc26c\",\"#4dc26b\",\"#4fc369\",\"#51c468\",\"#53c567\",\"#55c666\",\"#57c665\",\"#59c764\",\"#5bc862\",\"#5ec961\",\"#60c960\",\"#62ca5f\",\"#64cb5d\",\"#67cc5c\",\"#69cc5b\",\"#6bcd59\",\"#6dce58\",\"#70ce56\",\"#72cf55\",\"#74d054\",\"#77d052\",\"#79d151\",\"#7cd24f\",\"#7ed24e\",\"#81d34c\",\"#83d34b\",\"#86d449\",\"#88d547\",\"#8bd546\",\"#8dd644\",\"#90d643\",\"#92d741\",\"#95d73f\",\"#97d83e\",\"#9ad83c\",\"#9dd93a\",\"#9fd938\",\"#a2da37\",\"#a5da35\",\"#a7db33\",\"#aadb32\",\"#addc30\",\"#afdc2e\",\"#b2dd2c\",\"#b5dd2b\",\"#b7dd29\",\"#bade27\",\"#bdde26\",\"#bfdf24\",\"#c2df22\",\"#c5df21\",\"#c7e01f\",\"#cae01e\",\"#cde01d\",\"#cfe11c\",\"#d2e11b\",\"#d4e11a\",\"#d7e219\",\"#dae218\",\"#dce218\",\"#dfe318\",\"#e1e318\",\"#e4e318\",\"#e7e419\",\"#e9e419\",\"#ece41a\",\"#eee51b\",\"#f1e51c\",\"#f3e51e\",\"#f6e61f\",\"#f8e621\",\"#fae622\",\"#fde724\"]},\"id\":\"1002\",\"type\":\"LinearColorMapper\"},{\"attributes\":{\"reload\":false},\"id\":\"1006\",\"type\":\"panel.models.location.Location\"}],\"root_ids\":[\"1004\",\"1005\",\"1006\"]},\"title\":\"Bokeh Application\",\"version\":\"2.4.3\"}};\n",
       "    var render_items = [{\"docid\":\"a6b9dd00-24ff-41e0-bafc-2eb65a232bb4\",\"root_ids\":[\"1004\"],\"roots\":{\"1004\":\"a116ed81-4354-48dc-9a00-f4f0041d9d01\"}}];\n",
       "    root.Bokeh.embed.embed_items_notebook(docs_json, render_items);\n",
       "    for (const render_item of render_items) {\n",
       "      for (const root_id of render_item.root_ids) {\n",
       "\tconst id_el = document.getElementById(root_id)\n",
       "\tif (id_el.children.length && (id_el.children[0].className === 'bk-root')) {\n",
       "\t  const root_el = id_el.children[0]\n",
       "\t  root_el.id = root_el.id + '-rendered'\n",
       "\t}\n",
       "      }\n",
       "    }\n",
       "  }\n",
       "  if (root.Bokeh !== undefined && root.Bokeh.Panel !== undefined && ( root['vtk'] !== undefined)) {\n",
       "    embed_document(root);\n",
       "  } else {\n",
       "    var attempts = 0;\n",
       "    var timer = setInterval(function(root) {\n",
       "      if (root.Bokeh !== undefined && root.Bokeh.Panel !== undefined && (root['vtk'] !== undefined)) {\n",
       "        clearInterval(timer);\n",
       "        embed_document(root);\n",
       "      } else if (document.readyState == \"complete\") {\n",
       "        attempts++;\n",
       "        if (attempts > 200) {\n",
       "          clearInterval(timer);\n",
       "          console.log(\"Bokeh: ERROR: Unable to run BokehJS code because BokehJS library is missing\");\n",
       "        }\n",
       "      }\n",
       "    }, 25, root)\n",
       "  }\n",
       "})(window);</script>"
      ],
      "text/plain": [
       "VTKRenderWindowSynchronized(vtkXOpenGLRenderWindow, color_mappers=[LinearColorMapper(id='100...], orientation_widget=True, sizing_mode='stretch_width')"
      ]
     },
     "metadata": {
      "application/vnd.holoviews_exec.v0+json": {
       "id": "1004"
      }
     },
     "output_type": "display_data"
    },
    {
     "data": {},
     "metadata": {},
     "output_type": "display_data"
    },
    {
     "data": {
      "application/vnd.holoviews_exec.v0+json": "",
      "text/html": [
       "<div id='1009'>\n",
       "  <div class=\"bk-root\" id=\"c0ffbebb-9135-4c32-87a0-97f39e3fbfa8\" data-root-id=\"1009\"></div>\n",
       "</div>\n",
       "<script type=\"application/javascript\">(function(root) {\n",
       "  function embed_document(root) {\n",
       "    var docs_json = {\"c231ff95-9726-4ca7-a786-826482bbb0a2\":{\"defs\":[{\"extends\":null,\"module\":null,\"name\":\"ReactiveHTML1\",\"overrides\":[],\"properties\":[]},{\"extends\":null,\"module\":null,\"name\":\"FlexBox1\",\"overrides\":[],\"properties\":[{\"default\":\"flex-start\",\"kind\":null,\"name\":\"align_content\"},{\"default\":\"flex-start\",\"kind\":null,\"name\":\"align_items\"},{\"default\":\"row\",\"kind\":null,\"name\":\"flex_direction\"},{\"default\":\"wrap\",\"kind\":null,\"name\":\"flex_wrap\"},{\"default\":\"flex-start\",\"kind\":null,\"name\":\"justify_content\"}]},{\"extends\":null,\"module\":null,\"name\":\"GridStack1\",\"overrides\":[],\"properties\":[{\"default\":\"warn\",\"kind\":null,\"name\":\"mode\"},{\"default\":null,\"kind\":null,\"name\":\"ncols\"},{\"default\":null,\"kind\":null,\"name\":\"nrows\"},{\"default\":true,\"kind\":null,\"name\":\"allow_resize\"},{\"default\":true,\"kind\":null,\"name\":\"allow_drag\"},{\"default\":[],\"kind\":null,\"name\":\"state\"}]},{\"extends\":null,\"module\":null,\"name\":\"click1\",\"overrides\":[],\"properties\":[{\"default\":\"\",\"kind\":null,\"name\":\"terminal_output\"},{\"default\":\"\",\"kind\":null,\"name\":\"debug_name\"},{\"default\":0,\"kind\":null,\"name\":\"clears\"}]},{\"extends\":null,\"module\":null,\"name\":\"NotificationAreaBase1\",\"overrides\":[],\"properties\":[{\"default\":\"bottom-right\",\"kind\":null,\"name\":\"position\"},{\"default\":0,\"kind\":null,\"name\":\"_clear\"}]},{\"extends\":null,\"module\":null,\"name\":\"NotificationArea1\",\"overrides\":[],\"properties\":[{\"default\":[],\"kind\":null,\"name\":\"notifications\"},{\"default\":\"bottom-right\",\"kind\":null,\"name\":\"position\"},{\"default\":0,\"kind\":null,\"name\":\"_clear\"},{\"default\":[{\"background\":\"#ffc107\",\"icon\":{\"className\":\"fas fa-exclamation-triangle\",\"color\":\"white\",\"tagName\":\"i\"},\"type\":\"warning\"},{\"background\":\"#007bff\",\"icon\":{\"className\":\"fas fa-info-circle\",\"color\":\"white\",\"tagName\":\"i\"},\"type\":\"info\"}],\"kind\":null,\"name\":\"types\"}]},{\"extends\":null,\"module\":null,\"name\":\"Notification\",\"overrides\":[],\"properties\":[{\"default\":null,\"kind\":null,\"name\":\"background\"},{\"default\":3000,\"kind\":null,\"name\":\"duration\"},{\"default\":null,\"kind\":null,\"name\":\"icon\"},{\"default\":\"\",\"kind\":null,\"name\":\"message\"},{\"default\":null,\"kind\":null,\"name\":\"notification_type\"},{\"default\":false,\"kind\":null,\"name\":\"_destroyed\"}]},{\"extends\":null,\"module\":null,\"name\":\"TemplateActions1\",\"overrides\":[],\"properties\":[{\"default\":0,\"kind\":null,\"name\":\"open_modal\"},{\"default\":0,\"kind\":null,\"name\":\"close_modal\"}]},{\"extends\":null,\"module\":null,\"name\":\"MaterialTemplateActions1\",\"overrides\":[],\"properties\":[{\"default\":0,\"kind\":null,\"name\":\"open_modal\"},{\"default\":0,\"kind\":null,\"name\":\"close_modal\"}]}],\"roots\":{\"references\":[{\"attributes\":{\"arrays\":{\"5d09c51cf3b619322648d474d5a8e463\":\"UEsDBBQAAAAIAEF4SlZG+4CAXQAAAJgBAAAlAAAAZGF0YS81ZDA5YzUxY2YzYjYxOTMyMjY0OGQ0NzRkNWE4ZTQ2M03FRw6CAAAAQVDsXVTsBSvY/f/jNHEObLKZMPgXFi6xzIgVVlljnQ022WKbHXbZY58DDhlzxDEnTDjljHMuuOSKa2645Y4p9zzwyBPPvDBjzitvvPPBJ1988/P7C1BLAQIUAxQAAAAIAEF4SlZG+4CAXQAAAJgBAAAlAAAAAAAAAAAAAACAAQAAAABkYXRhLzVkMDljNTFjZjNiNjE5MzIyNjQ4ZDQ3NGQ1YThlNDYzUEsFBgAAAAABAAEAUwAAAKAAAAAAAA==\",\"80c57aaed02f2d0a44fbe6021476ebdc\":\"UEsDBBQAAAAIAEF4Sla0w82ExgQAAMgEAAAlAAAAZGF0YS84MGM1N2FhZWQwMmYyZDBhNDRmYmU2MDIxNDc2ZWJkYxWTfzzTeRzH9XioMb/vu63uO7GZkbSz+GqkfN+5607drSKrk8s8pAfnzomrFlFRWh7i0U2PSsP1i5iLO6WtyD5lHcN1hWr5MY8odVG2sDDVrdc/z8f79dfr9X6833c31EqeUcdJVVYH5ZWci74YfFt4csUsebakJFhYjsFQz/iTV7VMFKrUaA/nTZHZ9vc2bp9gQ35vRWNY9Ru1hJv8U9N+ExnVMma1uBVDl2tWYXN1FDjCObZM3jdBtm2xLgwZYkP6vDqlFijASQoqIf2mSVo4N3FmDEO8Icympp8J+RtZe/BdJjJv9Ld86k2DOm80QuVfzYRIlZtZc36KzDXbFB1KwVD4LvccQwsbMhyeB0ajabI1zZVZcZ8CVlZWPxS+Y4Nra9rscN002e4l7xRfwdGThGJh5m4+SqnXHn19yBHsottyJ/UUuPWfUPqjjocY9ScCpwapEDIpF7ooeRAjPbBZQXVFNy67nEoS2oM8romuKuWhr5JzI+ZpMXTAsTpjr5sdJG+9sLdEzYcFL3ZEmSMNZGx+78P0dntYJ/P8XFrDRzLPdbJbrzDgrpNphk0OQG8qvfPaxEO3O3yS8iowGP1yx2Jvmh0cJsLNtzq5iO3QVTVyHIPsDmXC0TEKzAw/yiP6mKh9UhRWs9wVZBfYB7j+thC7M+1vTTMTRQhb+z/z8ILEa/u/13dQ4NcBY/zap1xY+nix39w8L6gNif25fS/10172ZTT7wD+dndazD7iwmvq4IHvc3uLDx/F7GLJQnmm11DIfmivOsIU9mygNr7NskIdF1Ps8MNLFD0QGKtxr/XPJKpFRPbuodGuOkkCTy4Okfh/ocHal+nqcgglrbFOJLp0/EpaJG0PC6eBc7LsP6+Yhr63OF1eW8NBUWSHVbzMDjkmlgn+r/EHT0hIzuYuLKisquJkDDHhoPXzlYREBGb7mLPdLTBSJHZcYXRYCxm1k4FoCBrqXrK4tN6gvTTAO7/RmQHPX71iUkQ0TR7ah6vd80Cu/NqV20T71tXkQSUG0kL8mpAoCLKzBCAak8tfqKdMYVLYlDmhOE/DIofKYs4wB0cs31Q85esCNPxapcsYIZH/SMDJTjkMZq5+n6/WHQU56/Id+HzTTzVhp7MFhmb94tqqHgLq2rPz2t2y0JeZgTPpFHIwGw6aXS1yRk5MT5xydhiw9fcOTcJDE1TokzxJoqvJdgKLQQPIS2PszI3DI0VfbSewCkMCcpzs43wtm2qxxzi/4p/wG1SkCahSKUFUvF0QiUfD1ACY0bes/Qm/mIe/O8fUJiA/1iayl3G4cCs49fdag5UFSUHWf/gMf9ojdCpLO4JC7gWkTepuN3sdrNzbODwCJReY4HHokK25uCaKhdrrG2m6EgOfUeI+XChz6vBXSYrU7NFLFjucLBJa7sILdiSwQJ6SIdHoBirkbEk1jOiPNgtCra3ay4Gjsy4Y1gwK02bfhAnl2IbCmc8ZTC1iQJjANhL0IAK3tne3UN76g171TJX/DAnd89OoCzBON0JqankwGgjKlr/xEPAvO3I9Nd5U7oeCiYdWb9cHI69pp3U3EgaLhoA1hgmBk+e/Lcz1uqMs7u97jO0+g+mSYOB8DkXNVUbYMuUNUq77X5Vtf+B9QSwECFAMUAAAACABBeEpWtMPNhMYEAADIBAAAJQAAAAAAAAAAAAAAgAEAAAAAZGF0YS84MGM1N2FhZWQwMmYyZDBhNDRmYmU2MDIxNDc2ZWJkY1BLBQYAAAAAAQABAFMAAAAJBQAAAAA=\",\"990b943e371fd5f3d8d651ccf2f9bebf\":\"UEsDBBQAAAAIAEF4SlYcVTcsoAAAAJgBAAAlAAAAZGF0YS85OTBiOTQzZTM3MWZkNWYzZDhkNjUxY2NmMmY5YmViZi3MPQ4BQQDF8TmCwiEUCuXq5gYUohCCUreIz0Qy0ZAgPiNCIltoJIotlQ6gUikcQeEAClnvP80vM+/NMyY6cfvHpKXLSJvjPY8FcrRFLGFZVqrcazLAVJ28IX1c4K1Jv0W/zQ46zHawS6/Hbl+GA5lw0huyO5KxMf/wid6E3pSdmbzO5WUpvxis5AvfmFyTY7iV95087eXmID/oH+XjbH9QSwECFAMUAAAACABBeEpWHFU3LKAAAACYAQAAJQAAAAAAAAAAAAAAgAEAAAAAZGF0YS85OTBiOTQzZTM3MWZkNWYzZDhkNjUxY2NmMmY5YmViZlBLBQYAAAAAAQABAFMAAADjAAAAAAA=\",\"ce52d598102e2756143cf4f27a0b5911\":\"UEsDBBQAAAAIAEF4SlaE1+BQMwMAAAAEAAAlAAAAZGF0YS9jZTUyZDU5ODEwMmUyNzU2MTQzY2Y0ZjI3YTBiNTkxMS3DCUzVBRzA8VWr1Wq1WjVAfI/HfQnIfcvx3vs/wiMUBAS55BC57/uWx/He/59ZZllmWWZZZllmWWpRappXeKAIAga4ttbW2lpra99+bX62j/G+dIz3Z2B8IBPTg1mYHtqA6eEczI/kYn40D/Nj+ZgfL0R5ogjlyU0oT5WgPF2K8kwZyrPlKA5bsDhWYHGqxOJcjWVpDRZdLRaXOiyGeiyuDVjcGlE8mlA8m1G8WlC8W1F821D82lH8OzAv68QcKIO6MC/vxhTcgylUhvViCu/DGCGj+kmOHiA5RsZuJSlOxg+SlDBIYqKVxCQrCclDJBiHWGGSyjDxFpkyQtxzMlWuHCF21Sixq0eJeV6mjRK91kb0OhtR6TLDRuR6mWknIktm2wnfIHPshOXKjXZC81RC81VCCmShSnCR3KSyvFiWyFKVoDK5WSWwXG5RCajQCKiUVRrLqmWNhn+trJP1Gn4NslHDt0k2yxYNn1bZpuHdfm+Hhlen7JLdGp49slf2aXj0ywEV961yUFpV3IbksBxRcf3/qLSpGOxStWPQ7Li8ILfJF+3ot8uXbOhfljvkKzZ0O0fRvSpfu3fXCLrX5Rty9zC6N+Ue+dYQ+rflXiv6d6y4vDuIy75BDO/J/VtxlW7vD+D2QT/uB/rx+LAPz4/68DrYi/fHPfgc6sH3k278Pu3CXwYc7iTwsw6CPm8n+Eg7IV+0EXa0lfAvW4j8qpkoGXOsibivG4n/poGE4/UknajDeKIW08kalG+rSfmuitSxSlaNVbDm+3LSftjMulNlZJwuJfN0Cdlnisn5sYi8s4UUnC2g6Fw+xT9tpOx8LuXnc6i4kE3VxSxqL66n/lIGjZfTabm8lraf0+gcX0P3+Gr6rqxk4Eoq1qspDF9TsF0zo143su16MtsnEtkxsYKdN+LZdSOW3Tej2XMzkr2TEeybDGP/rRAO3Arm4FQQh6YCODztz5FpP45O+3DsthfHb3tycsadsRlXTs0YODOr59ysjguzS7k058z43BKuzjkxcceRyTsOTMmZXxyYk/Py7rwjv8rf5p34fWEJfyw48+eCjr8W9fy9aOCfRVf+vevOf1BLAQIUAxQAAAAIAEF4SlaE1+BQMwMAAAAEAAAlAAAAAAAAAAAAAACAAQAAAABkYXRhL2NlNTJkNTk4MTAyZTI3NTYxNDNjZjRmMjdhMGI1OTExUEsFBgAAAAABAAEAUwAAAHYDAAAAAA==\"},\"axes\":{\"id\":\"1008\"},\"color_mappers\":[{\"id\":\"1007\"}],\"margin\":[5,5,5,5],\"orientation_widget\":true,\"scene\":{\"calls\":[[\"addRenderer\",[\"instance:${2d0e8ff8-6cc7-4b1d-818b-5469e066938100007f101b82fa90}\"]],[\"addRenderer\",[\"instance:${2d0e8ff8-6cc7-4b1d-818b-5469e066938100007fffe1c06ca0}\"]],[\"addRenderer\",[\"instance:${2d0e8ff8-6cc7-4b1d-818b-5469e066938100007f101b9da0e0}\"]]],\"dependencies\":[{\"calls\":[[\"setActiveCamera\",[\"instance:${00007f101c1c50e0}\"]],[\"addViewProp\",[\"instance:${2d0e8ff8-6cc7-4b1d-818b-5469e066938100007f101b5334c0}\"]]],\"dependencies\":[{\"id\":\"00007f101c1c50e0\",\"parent\":\"2d0e8ff8-6cc7-4b1d-818b-5469e066938100007f101b82fa90\",\"properties\":{\"clippingRange\":[67.67009951060356,208.06965387281485],\"focalPoint\":[-2.1925760462988286,-1.6681288526712361,7.443867689918026],\"position\":[72.68310127553086,73.20754846915845,82.3195450117477],\"viewUp\":[0.0,0.0,1.0]},\"type\":\"vtkOpenGLCamera\"},{\"calls\":[[\"setMapper\",[\"instance:${2d0e8ff8-6cc7-4b1d-818b-5469e066938100007f101b5f3b40}\"]],[\"setProperty\",[\"instance:${2d0e8ff8-6cc7-4b1d-818b-5469e066938100007f101b534130}\"]]],\"dependencies\":[{\"calls\":[[\"setInputData\",[\"instance:${2d0e8ff8-6cc7-4b1d-818b-5469e066938100007f101b5f3b40-dataset-0}\",0]],[\"setLookupTable\",[\"instance:${2d0e8ff8-6cc7-4b1d-818b-5469e066938100007f101b5f4240}\"]]],\"dependencies\":[{\"id\":\"2d0e8ff8-6cc7-4b1d-818b-5469e066938100007f101b5f3b40-dataset-0\",\"parent\":\"2d0e8ff8-6cc7-4b1d-818b-5469e066938100007f101b5f3b40\",\"properties\":{\"fields\":[{\"dataType\":\"Float64Array\",\"hash\":\"990b943e371fd5f3d8d651ccf2f9bebf\",\"location\":\"pointData\",\"name\":\"label\",\"numberOfComponents\":1,\"ranges\":[{\"component\":null,\"max\":3305.0,\"min\":5.0}],\"registration\":\"setScalars\",\"size\":51,\"vtkClass\":\"vtkDataArray\"}],\"points\":{\"dataType\":\"Float64Array\",\"hash\":\"80c57aaed02f2d0a44fbe6021476ebdc\",\"name\":\"Points\",\"numberOfComponents\":3,\"ranges\":[{\"component\":null,\"max\":20.830703399888236,\"min\":-25.215855492485893},{\"component\":null,\"max\":21.95644740669095,\"min\":-25.29270511203342},{\"component\":null,\"max\":13.646620597548157,\"min\":1.2411147822878954},{\"component\":null,\"max\":28.25329560493668,\"min\":5.895339210596011}],\"size\":153,\"vtkClass\":\"vtkPoints\"},\"verts\":{\"dataType\":\"Uint32Array\",\"hash\":\"5d09c51cf3b619322648d474d5a8e463\",\"name\":null,\"numberOfComponents\":1,\"ranges\":[{\"component\":null,\"max\":50.0,\"min\":0.0}],\"size\":102,\"vtkClass\":\"vtkCellArray\"}},\"type\":\"vtkPolyData\"},{\"arrays\":[{\"dataType\":\"Uint8Array\",\"hash\":\"ce52d598102e2756143cf4f27a0b5911\",\"name\":null,\"numberOfComponents\":4,\"ranges\":[{\"component\":null,\"max\":253.0,\"min\":30.0},{\"component\":null,\"max\":231.0,\"min\":1.0},{\"component\":null,\"max\":142.0,\"min\":24.0},{\"component\":null,\"max\":255.0,\"min\":255.0},{\"component\":null,\"max\":428.5918804643877,\"min\":276.95848064285735}],\"registration\":\"setTable\",\"size\":1024,\"vtkClass\":\"vtkDataArray\"}],\"id\":\"2d0e8ff8-6cc7-4b1d-818b-5469e066938100007f101b5f4240\",\"parent\":\"2d0e8ff8-6cc7-4b1d-818b-5469e066938100007f101b5f3b40\",\"properties\":{\"aboveRangeColor\":[1.0,1.0,1.0,1.0],\"alpha\":1.0,\"belowRangeColor\":[0.0,0.0,0.0,1.0],\"hueRange\":[0.5,0],\"indexedLookup\":0,\"nanColor\":[0.6627450980392157,0.6627450980392157,0.6627450980392157,1.0],\"numberOfColors\":256,\"range\":[5.0,3305.0],\"saturationRange\":[1.0,1.0],\"useAboveRangeColor\":false,\"useBelowRangeColor\":false,\"valueRange\":[5.0,3305.0],\"vectorComponent\":0,\"vectorMode\":1,\"vectorSize\":-1},\"type\":\"vtkLookupTable\"}],\"id\":\"2d0e8ff8-6cc7-4b1d-818b-5469e066938100007f101b5f3b40\",\"parent\":\"2d0e8ff8-6cc7-4b1d-818b-5469e066938100007f101b5334c0\",\"properties\":{\"arrayAccessMode\":1,\"colorByArrayName\":null,\"colorMode\":1,\"interpolateScalarsBeforeMapping\":1,\"renderTime\":0.0,\"resolveCoincidentTopology\":0,\"scalarMode\":1,\"scalarRange\":[5.0,3305.0],\"scalarVisibility\":1,\"useLookupTableScalarRange\":0},\"type\":\"vtkDataSetMapper\"},{\"id\":\"2d0e8ff8-6cc7-4b1d-818b-5469e066938100007f101b534130\",\"parent\":\"2d0e8ff8-6cc7-4b1d-818b-5469e066938100007f101b5334c0\",\"properties\":{\"ambient\":0.0,\"ambientColor\":[1.0,1.0,1.0],\"backfaceCulling\":0,\"color\":[1.0,1.0,1.0],\"diffuse\":1.0,\"diffuseColor\":[1.0,1.0,1.0],\"edgeColor\":[0.0,0.0,0.0],\"edgeVisibility\":0,\"frontfaceCulling\":0,\"interpolation\":0,\"lighting\":1,\"lineWidth\":1.0,\"opacity\":1.0,\"pointSize\":5.0,\"representation\":2,\"specular\":0.0,\"specularColor\":[1.0,1.0,1.0],\"specularPower\":100.0},\"type\":\"vtkOpenGLProperty\"}],\"id\":\"2d0e8ff8-6cc7-4b1d-818b-5469e066938100007f101b5334c0\",\"parent\":\"2d0e8ff8-6cc7-4b1d-818b-5469e066938100007f101b82fa90\",\"properties\":{\"dragable\":1,\"forceOpaque\":false,\"forceTranslucent\":false,\"orientation\":[0.0,-0.0,0.0],\"origin\":[0.0,0.0,0.0],\"pickable\":1,\"position\":[0.0,0.0,0.0],\"scale\":[1.0,1.0,1.0],\"useBounds\":true,\"visibility\":1},\"type\":\"vtkOpenGLActor\"}],\"id\":\"2d0e8ff8-6cc7-4b1d-818b-5469e066938100007f101b82fa90\",\"parent\":\"2d0e8ff8-6cc7-4b1d-818b-5469e066938100007f101c108fc0\",\"properties\":{\"background\":[0.2980392156862745,0.2980392156862745,0.2980392156862745],\"background2\":[0.2,0.2,0.2],\"clippingRangeExpansion\":0.5,\"interactive\":1,\"layer\":0,\"lightFollowCamera\":1,\"maximumNumberOfPeels\":4,\"nearClippingPlaneTolerance\":0.001,\"occlusionRatio\":0.0,\"preserveColorBuffer\":0,\"preserveDepthBuffer\":0,\"twoSidedLighting\":1,\"useDepthPeeling\":0,\"useShadows\":0,\"viewport\":[0.0,0.0,1.0,1.0]},\"type\":\"vtkOpenGLRenderer\"},{\"calls\":[[\"setActiveCamera\",[\"instance:${00007f101b8389f0}\"]]],\"dependencies\":[{\"id\":\"00007f101b8389f0\",\"parent\":\"2d0e8ff8-6cc7-4b1d-818b-5469e066938100007fffe1c06ca0\",\"properties\":{\"clippingRange\":[0.01,1000.01],\"focalPoint\":[0.0,0.0,0.0],\"position\":[0.0,0.0,1.0],\"viewUp\":[0.0,1.0,0.0]},\"type\":\"vtkOpenGLCamera\"}],\"id\":\"2d0e8ff8-6cc7-4b1d-818b-5469e066938100007fffe1c06ca0\",\"parent\":\"2d0e8ff8-6cc7-4b1d-818b-5469e066938100007f101c108fc0\",\"properties\":{\"background\":[0.2980392156862745,0.2980392156862745,0.2980392156862745],\"background2\":[0.2,0.2,0.2],\"clippingRangeExpansion\":0.5,\"interactive\":0,\"layer\":1,\"lightFollowCamera\":1,\"maximumNumberOfPeels\":4,\"nearClippingPlaneTolerance\":0.0,\"occlusionRatio\":0.0,\"preserveColorBuffer\":1,\"preserveDepthBuffer\":0,\"twoSidedLighting\":1,\"useDepthPeeling\":0,\"useShadows\":0,\"viewport\":[0.0,0.0,1.0,1.0]},\"type\":\"vtkOpenGLRenderer\"},{\"calls\":[[\"setActiveCamera\",[\"instance:${00007f101b7c2b40}\"]]],\"dependencies\":[{\"id\":\"00007f101b7c2b40\",\"parent\":\"2d0e8ff8-6cc7-4b1d-818b-5469e066938100007f101b9da0e0\",\"properties\":{\"clippingRange\":[3.1784280185413722,11.13129965931104],\"focalPoint\":[0.0,0.0,0.0],\"position\":[3.8637033051562737,3.8637033051562737,3.8637033051562737],\"viewUp\":[0.0,0.0,1.0]},\"type\":\"vtkOpenGLCamera\"}],\"id\":\"2d0e8ff8-6cc7-4b1d-818b-5469e066938100007f101b9da0e0\",\"parent\":\"2d0e8ff8-6cc7-4b1d-818b-5469e066938100007f101c108fc0\",\"properties\":{\"background\":[0.0,0.0,0.0],\"background2\":[0.2,0.2,0.2],\"clippingRangeExpansion\":0.5,\"interactive\":0,\"layer\":1,\"lightFollowCamera\":1,\"maximumNumberOfPeels\":4,\"nearClippingPlaneTolerance\":0.001,\"occlusionRatio\":0.0,\"preserveColorBuffer\":1,\"preserveDepthBuffer\":0,\"twoSidedLighting\":1,\"useDepthPeeling\":0,\"useShadows\":0,\"viewport\":[0.0,0.0,0.2,0.2]},\"type\":\"vtkOpenGLRenderer\"}],\"id\":\"2d0e8ff8-6cc7-4b1d-818b-5469e066938100007f101c108fc0\",\"mtime\":32136,\"parent\":\"2d0e8ff8-6cc7-4b1d-818b-5469e06693810x0\",\"properties\":{\"numberOfLayers\":2},\"type\":\"vtkXOpenGLRenderWindow\"},\"sizing_mode\":\"stretch_width\"},\"id\":\"1009\",\"type\":\"panel.models.vtk.VTKSynchronizedPlot\"},{\"attributes\":{},\"id\":\"1008\",\"type\":\"panel.models.vtk.VTKAxes\"},{\"attributes\":{\"high\":3305.0,\"low\":5.0,\"name\":\"label\",\"palette\":[\"#440154\",\"#440255\",\"#440357\",\"#450558\",\"#45065a\",\"#45085b\",\"#46095c\",\"#460b5e\",\"#460c5f\",\"#460e61\",\"#470f62\",\"#471163\",\"#471265\",\"#471466\",\"#471567\",\"#471669\",\"#47186a\",\"#48196b\",\"#481a6c\",\"#481c6e\",\"#481d6f\",\"#481e70\",\"#482071\",\"#482172\",\"#482273\",\"#482374\",\"#472575\",\"#472676\",\"#472777\",\"#472878\",\"#472a79\",\"#472b7a\",\"#472c7b\",\"#462d7c\",\"#462f7c\",\"#46307d\",\"#46317e\",\"#45327f\",\"#45347f\",\"#453580\",\"#453681\",\"#443781\",\"#443982\",\"#433a83\",\"#433b83\",\"#433c84\",\"#423d84\",\"#423e85\",\"#424085\",\"#414186\",\"#414286\",\"#404387\",\"#404487\",\"#3f4587\",\"#3f4788\",\"#3e4888\",\"#3e4989\",\"#3d4a89\",\"#3d4b89\",\"#3d4c89\",\"#3c4d8a\",\"#3c4e8a\",\"#3b508a\",\"#3b518a\",\"#3a528b\",\"#3a538b\",\"#39548b\",\"#39558b\",\"#38568b\",\"#38578c\",\"#37588c\",\"#37598c\",\"#365a8c\",\"#365b8c\",\"#355c8c\",\"#355d8c\",\"#345e8d\",\"#345f8d\",\"#33608d\",\"#33618d\",\"#32628d\",\"#32638d\",\"#31648d\",\"#31658d\",\"#31668d\",\"#30678d\",\"#30688d\",\"#2f698d\",\"#2f6a8d\",\"#2e6b8e\",\"#2e6c8e\",\"#2e6d8e\",\"#2d6e8e\",\"#2d6f8e\",\"#2c708e\",\"#2c718e\",\"#2c728e\",\"#2b738e\",\"#2b748e\",\"#2a758e\",\"#2a768e\",\"#2a778e\",\"#29788e\",\"#29798e\",\"#287a8e\",\"#287a8e\",\"#287b8e\",\"#277c8e\",\"#277d8e\",\"#277e8e\",\"#267f8e\",\"#26808e\",\"#26818e\",\"#25828e\",\"#25838d\",\"#24848d\",\"#24858d\",\"#24868d\",\"#23878d\",\"#23888d\",\"#23898d\",\"#22898d\",\"#228a8d\",\"#228b8d\",\"#218c8d\",\"#218d8c\",\"#218e8c\",\"#208f8c\",\"#20908c\",\"#20918c\",\"#1f928c\",\"#1f938b\",\"#1f948b\",\"#1f958b\",\"#1f968b\",\"#1e978a\",\"#1e988a\",\"#1e998a\",\"#1e998a\",\"#1e9a89\",\"#1e9b89\",\"#1e9c89\",\"#1e9d88\",\"#1e9e88\",\"#1e9f88\",\"#1ea087\",\"#1fa187\",\"#1fa286\",\"#1fa386\",\"#20a485\",\"#20a585\",\"#21a685\",\"#21a784\",\"#22a784\",\"#23a883\",\"#23a982\",\"#24aa82\",\"#25ab81\",\"#26ac81\",\"#27ad80\",\"#28ae7f\",\"#29af7f\",\"#2ab07e\",\"#2bb17d\",\"#2cb17d\",\"#2eb27c\",\"#2fb37b\",\"#30b47a\",\"#32b57a\",\"#33b679\",\"#35b778\",\"#36b877\",\"#38b976\",\"#39b976\",\"#3bba75\",\"#3dbb74\",\"#3ebc73\",\"#40bd72\",\"#42be71\",\"#44be70\",\"#45bf6f\",\"#47c06e\",\"#49c16d\",\"#4bc26c\",\"#4dc26b\",\"#4fc369\",\"#51c468\",\"#53c567\",\"#55c666\",\"#57c665\",\"#59c764\",\"#5bc862\",\"#5ec961\",\"#60c960\",\"#62ca5f\",\"#64cb5d\",\"#67cc5c\",\"#69cc5b\",\"#6bcd59\",\"#6dce58\",\"#70ce56\",\"#72cf55\",\"#74d054\",\"#77d052\",\"#79d151\",\"#7cd24f\",\"#7ed24e\",\"#81d34c\",\"#83d34b\",\"#86d449\",\"#88d547\",\"#8bd546\",\"#8dd644\",\"#90d643\",\"#92d741\",\"#95d73f\",\"#97d83e\",\"#9ad83c\",\"#9dd93a\",\"#9fd938\",\"#a2da37\",\"#a5da35\",\"#a7db33\",\"#aadb32\",\"#addc30\",\"#afdc2e\",\"#b2dd2c\",\"#b5dd2b\",\"#b7dd29\",\"#bade27\",\"#bdde26\",\"#bfdf24\",\"#c2df22\",\"#c5df21\",\"#c7e01f\",\"#cae01e\",\"#cde01d\",\"#cfe11c\",\"#d2e11b\",\"#d4e11a\",\"#d7e219\",\"#dae218\",\"#dce218\",\"#dfe318\",\"#e1e318\",\"#e4e318\",\"#e7e419\",\"#e9e419\",\"#ece41a\",\"#eee51b\",\"#f1e51c\",\"#f3e51e\",\"#f6e61f\",\"#f8e621\",\"#fae622\",\"#fde724\"]},\"id\":\"1007\",\"type\":\"LinearColorMapper\"},{\"attributes\":{\"client_comm_id\":\"81ed72defbdc4d689a023c4453bca86e\",\"comm_id\":\"a8ff159527be4c019d58b10d6b4db93f\",\"plot_id\":\"1009\"},\"id\":\"1010\",\"type\":\"panel.models.comm_manager.CommManager\"}],\"root_ids\":[\"1009\",\"1010\"]},\"title\":\"Bokeh Application\",\"version\":\"2.4.3\"}};\n",
       "    var render_items = [{\"docid\":\"c231ff95-9726-4ca7-a786-826482bbb0a2\",\"root_ids\":[\"1009\"],\"roots\":{\"1009\":\"c0ffbebb-9135-4c32-87a0-97f39e3fbfa8\"}}];\n",
       "    root.Bokeh.embed.embed_items_notebook(docs_json, render_items);\n",
       "    for (const render_item of render_items) {\n",
       "      for (const root_id of render_item.root_ids) {\n",
       "\tconst id_el = document.getElementById(root_id)\n",
       "\tif (id_el.children.length && (id_el.children[0].className === 'bk-root')) {\n",
       "\t  const root_el = id_el.children[0]\n",
       "\t  root_el.id = root_el.id + '-rendered'\n",
       "\t}\n",
       "      }\n",
       "    }\n",
       "  }\n",
       "  if (root.Bokeh !== undefined && root.Bokeh.Panel !== undefined && ( root['vtk'] !== undefined)) {\n",
       "    embed_document(root);\n",
       "  } else {\n",
       "    var attempts = 0;\n",
       "    var timer = setInterval(function(root) {\n",
       "      if (root.Bokeh !== undefined && root.Bokeh.Panel !== undefined && (root['vtk'] !== undefined)) {\n",
       "        clearInterval(timer);\n",
       "        embed_document(root);\n",
       "      } else if (document.readyState == \"complete\") {\n",
       "        attempts++;\n",
       "        if (attempts > 200) {\n",
       "          clearInterval(timer);\n",
       "          console.log(\"Bokeh: ERROR: Unable to run BokehJS code because BokehJS library is missing\");\n",
       "        }\n",
       "      }\n",
       "    }, 25, root)\n",
       "  }\n",
       "})(window);</script>"
      ],
      "text/plain": [
       "VTKRenderWindowSynchronized(vtkXOpenGLRenderWindow, color_mappers=[LinearColorMapper(id='100...], orientation_widget=True, sizing_mode='stretch_width')"
      ]
     },
     "metadata": {
      "application/vnd.holoviews_exec.v0+json": {
       "id": "1009"
      }
     },
     "output_type": "display_data"
    }
   ],
   "source": [
    "job.plot3d()"
   ]
  },
  {
   "cell_type": "code",
   "execution_count": null,
   "id": "cccee092",
   "metadata": {},
   "outputs": [],
   "source": []
  }
 ],
 "metadata": {
  "kernelspec": {
   "display_name": "Python 3 (ipykernel)",
   "language": "python",
   "name": "python3"
  },
  "language_info": {
   "codemirror_mode": {
    "name": "ipython",
    "version": 3
   },
   "file_extension": ".py",
   "mimetype": "text/x-python",
   "name": "python",
   "nbconvert_exporter": "python",
   "pygments_lexer": "ipython3",
   "version": "3.9.16"
  }
 },
 "nbformat": 4,
 "nbformat_minor": 5
}
