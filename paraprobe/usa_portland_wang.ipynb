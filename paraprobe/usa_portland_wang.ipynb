{
 "cells": [
  {
   "cell_type": "markdown",
   "id": "861791a6",
   "metadata": {},
   "source": [
    "<div class=\"alert alert-block alert-info\">paraprobe-toolbox.</div>"
   ]
  },
  {
   "cell_type": "markdown",
   "id": "7f6d3350",
   "metadata": {},
   "source": [
    "# An exhaustive example with an ODS steel\n",
    "\n",
    "**Markus Kühbach** (Department of Physics, Humboldt-Universität zu Berlin)<br>\n",
    "Jing Wang, Daniel Schreiber (both at their times with the Pacific Northwest National Laboratory)"
   ]
  },
  {
   "cell_type": "markdown",
   "id": "ba31f2a0",
   "metadata": {
    "heading_collapsed": "true",
    "tags": []
   },
   "source": [
    "## Contextualization / Problem statement\n",
    "***"
   ]
  },
  {
   "cell_type": "markdown",
   "id": "9061926d",
   "metadata": {
    "heading_collapsed": "true"
   },
   "source": [
    "This is a tutorial on how to use the paraprobe-toolbox for processing a datasets with procedures which<br>\n",
    "are better aligned with the aims of the FAIR data stewardship principles.<br>\n",
    "<a href=\"https://doi.org/10.1017/S1431927618015386\">The dataset is an ODS steel with Y-containing titanium oxid dispersoids by J. Wang and coworkers</a>.<br>\n",
    "\n",
    "\n",
    "The analyses here show how tools and functionalities of the paraprobe-toolbox can be combined, results transferred between these tools,<br>\n",
    "and NeXus and HDF5 used in concert, to analyze the authors' dataset. Specifically, here we show how precipitates can be reconstructed<br>\n",
    "using iso-surfaces. Furthermore it will be shown how to characterize the objects individually.\n",
    "\n",
    "What makes the paraprobe-toolbox approach special is not only its efficiency and documentation capabilities per se but<br> \n",
    "how these capabilities enable systematic studies of how the analysis results depend on the parameterization of the<br>\n",
    "computational geometry methods that are typically used for analyzing atom probe data.<br>\n",
    "Such parameter sensitivity studies are useful because techniques like delocalization, iso-surfaces,<br>\n",
    "and composition analyses can show significant variation based on which regions-of-interest (ROIs) are chosen.<br>\n",
    "\n",
    "The following analysis has the following workflow:<br>\n",
    "1. Pre-processing of an existent dataset, reconstructed and ranged, creating a model<br>\n",
    "   for the edge of the dataset (reconstructed volume) for handling and correcting for<br>\n",
    "   finite size (edge) effects, distancing of all ions to this edge, and tessellating<br>\n",
    "   the entire dataset using a Voronoi tessellation.<br>\n",
    "2. Perform multiple analyses of objects, here exemplified by objects containing Y+Ti+O, i.e.<br>\n",
    "   ODS steel-relevant yttria dispersoids likely, using different iso-composition values.<br>\n",
    "   The objects will be characterized with commonly used descriptors (volume fraction, number<br>\n",
    "   composition, size and shape distribution). In the process, triangulated surface meshes<br>\n",
    "   for each objects will be created. These meshes are the input for the intersection analyses.\n",
    "3. Portions of iso-surface meshes for arbitrary datasets have not necessarily all sections<br>\n",
    "   which are watertight. This example will also show how these incomplete/patchy portions<br>\n",
    "   of the iso-surface can be post-processed by replacing them with so-called proxies<br>\n",
    "   to obtain models of watertight objects.\n",
    "\n",
    "The example shows how all tools, i.e. jupyter-lab, h5web, and the C++ and Python tools of the paraprobe-toolbox<br>\n",
    "work together to programmatically instruct, execute, and document the above-described analyses.<br>"
   ]
  },
  {
   "cell_type": "markdown",
   "id": "db389c80",
   "metadata": {
    "heading_collapsed": "true"
   },
   "source": [
    "## Get the toolbox ready\n",
    "***"
   ]
  },
  {
   "cell_type": "markdown",
   "id": "91e4e898",
   "metadata": {
    "heading_collapsed": "true"
   },
   "source": [
    "### Specify the location of the paraprobe-toolbox."
   ]
  },
  {
   "cell_type": "code",
   "execution_count": null,
   "id": "059bc1f9",
   "metadata": {
    "hidden": true,
    "tags": []
   },
   "outputs": [],
   "source": [
    "# specify where the toolbox is installed\n",
    "# MYTOOLBOXPATH='<<YOUR PREFIX>>/paraprobe-toolbox'\n",
    "MYTOOLBOXPATH='../../../'\n",
    "from jupyterlab_h5web import H5Web\n",
    "from IPython.display import Image\n",
    "import sys, os\n",
    "import h5py, ase\n",
    "import numpy as np\n",
    "sys.path.append(MYTOOLBOXPATH + '/code')\n",
    "sys.path.append(MYTOOLBOXPATH + '/code/paraprobe-parmsetup/src/python')\n",
    "sys.path.append(MYTOOLBOXPATH + '/code/paraprobe-transcoder/src/python')\n",
    "sys.path.append(MYTOOLBOXPATH + '/code/paraprobe-autoreporter/src/python')\n",
    "print('Current working directory is')\n",
    "print(os.getcwd())\n",
    "# simplify startup in the future"
   ]
  },
  {
   "cell_type": "markdown",
   "id": "c98a31c5",
   "metadata": {
    "heading_collapsed": "true"
   },
   "source": [
    "### Load the tools of the toolbox."
   ]
  },
  {
   "cell_type": "code",
   "execution_count": null,
   "id": "5f5a03f0",
   "metadata": {
    "hidden": true,
    "tags": []
   },
   "outputs": [],
   "source": [
    "# Python parmsetup utility tools which create configuration files\n",
    "from tools.transcoder_guru import ParmsetupTranscoder, TranscodingTask\n",
    "from tools.ranger_guru import ParmsetupRanger, ApplyExistentRanging, MolecularIonSearch\n",
    "from tools.surfacer_guru import ParmsetupSurfacer, SurfaceMeshingTask\n",
    "from tools.distancer_guru import ParmsetupDistancer, PointToTriangleSoupDistancing\n",
    "from tools.tessellator_guru import ParmsetupTessellator, TessellationTask\n",
    "from tools.spatstat_guru import ParmsetupSpatstat, SpatstatTask\n",
    "from tools.nanochem_guru import ParmsetupNanochem, NanochemTask, Delocalization, InterfaceMeshing, CompositionAnalysis\n",
    "from tools.intersector_guru import ParmsetupIntersector, VolumeFeatureSubSet, VolumeFeatureSet, VolumeVolumeTask\n",
    "\n",
    "# Python transcoder utility tool which imports atom probe file formats\n",
    "from paraprobe_transcoder import ParaprobeTranscoder\n",
    "from tools.utils.numerics import EPSILON, get_file_size\n",
    "from tools.utils.primscontinuum import RoiRotatedCuboid, RoiRotatedCylinder, RoiSphere\n",
    "# C/C++ tools of the toolbox\n",
    "# you can use the path in the respective paraprobe-<<toolname>>/build/paraprobe_<<toolname>>\n",
    "# Python utility tools for examples of standardized post-processing and visualization\n",
    "from wizard.ranger_report import AutoReporterRanger\n",
    "from wizard.surfacer_report import AutoReporterSurfacer\n",
    "from wizard.distancer_report import AutoReporterDistancer\n",
    "from wizard.tessellator_report import AutoReporterTessellator\n",
    "from wizard.spatstat_report import AutoReporterSpatstat\n",
    "from wizard.nanochem_report import AutoReporterNanochem\n",
    "# from wizard.intersector_report import AutoReporterIntersector"
   ]
  },
  {
   "cell_type": "markdown",
   "id": "567a2035",
   "metadata": {
    "heading_collapsed": "true"
   },
   "source": [
    "To learn how to handle and work with iontypes in paraprobe please inspect the specific tutorials."
   ]
  },
  {
   "cell_type": "markdown",
   "id": "91527fe0",
   "metadata": {
    "heading_collapsed": "true",
    "tags": []
   },
   "source": [
    "# 1. Pre-processing\n",
    "***"
   ]
  },
  {
   "cell_type": "markdown",
   "id": "3a63cfe0",
   "metadata": {
    "tags": []
   },
   "source": [
    "### Specify the location(s) of the your dataset(s)."
   ]
  },
  {
   "cell_type": "code",
   "execution_count": null,
   "id": "3beb014c",
   "metadata": {
    "tags": []
   },
   "outputs": [],
   "source": [
    "# specify the location where you have your data on the system\n",
    "# testing without NeXus\n",
    "MY_MEASURED_DATA_PATH = MYTOOLBOXPATH + '/teaching/example_data/usa_portland_wang'\n",
    "MY_PROCESSED_DATA_PATH = MYTOOLBOXPATH + '/teaching/example_analyses/usa_portland_wang'\n",
    "# testing with NeXus\n",
    "# MY_MEASURED_DATA_PATH = MYTOOLBOXPATH + '/teaching/example_data/ger_berlin_kuehbach_fairmat'\n",
    "\n",
    "# specify disjoint identifier with which all config and results files for this analysis will be tagged.\n",
    "jobids = [636502001]\n",
    "JOBIDS = []\n",
    "for jobid in jobids:\n",
    "    assert isinstance(jobid, int), 'identifier needs to be an unsigned integer !'\n",
    "    assert jobid != 0, 'identifier must not be 0 !'\n",
    "    assert jobid <= np.iinfo(np.uint32).max, 'identifier needs to be on interval [1, 4294967295]'\n",
    "    JOBIDS.append(str(jobid))\n",
    "print(JOBIDS)"
   ]
  },
  {
   "cell_type": "markdown",
   "id": "1dc7303b",
   "metadata": {
    "tags": []
   },
   "source": [
    "## Import your data (from e.g. IVAS/APSuite, community tool) into the paraprobe-toolbox."
   ]
  },
  {
   "cell_type": "code",
   "execution_count": null,
   "id": "aee21250",
   "metadata": {
    "hidden": true,
    "tags": []
   },
   "outputs": [],
   "source": [
    "# configure the paraprobe-transcoder tool\n",
    "TRANSCODER_CONFIG = {}\n",
    "RECONSTRUCTION_AND_RANGING = {}\n",
    "RECONSTRUCTION_AND_RANGING[jobids[0]] = ('R31_06365-v02.pos', 'R31_06365-v02.rrng')\n",
    "\n",
    "for jobid in jobids:\n",
    "    JOBID = str(jobid)\n",
    "    transcoder = ParmsetupTranscoder()\n",
    "\n",
    "    TRANSCODER_CONFIG[jobid] = transcoder.load_reconstruction_and_ranging(\n",
    "        working_directory='',\n",
    "        reconstructed_dataset=MY_MEASURED_DATA_PATH + '/' + RECONSTRUCTION_AND_RANGING[jobid][0],\n",
    "        ranging_definitions=MY_MEASURED_DATA_PATH + '/' + RECONSTRUCTION_AND_RANGING[jobid][1],\n",
    "        jobid=jobid)\n",
    "\n",
    "print(TRANSCODER_CONFIG)"
   ]
  },
  {
   "cell_type": "code",
   "execution_count": null,
   "id": "9b1f1281",
   "metadata": {
    "tags": []
   },
   "outputs": [],
   "source": [
    "# inspect config file if desired\n",
    "H5Web(TRANSCODER_CONFIG[jobid])"
   ]
  },
  {
   "cell_type": "code",
   "execution_count": null,
   "id": "322edf1a",
   "metadata": {
    "hidden": true,
    "tags": []
   },
   "outputs": [],
   "source": [
    "# execute paraprobe-transcoder Python tool\n",
    "TRANSCODER_RESULTS = {}\n",
    "for jobid in jobids:\n",
    "    transcoder = ParaprobeTranscoder(TRANSCODER_CONFIG[jobid])\n",
    "    TRANSCODER_RESULTS[jobid] = transcoder.execute()\n",
    "print(TRANSCODER_RESULTS)"
   ]
  },
  {
   "cell_type": "code",
   "execution_count": null,
   "id": "e8a3ecd4",
   "metadata": {
    "hidden": true,
    "tags": []
   },
   "outputs": [],
   "source": [
    "# inspect paraprobe-transcoder results\n",
    "get_file_size(TRANSCODER_RESULTS[jobid])\n",
    "H5Web(TRANSCODER_RESULTS[jobid])"
   ]
  },
  {
   "cell_type": "code",
   "execution_count": null,
   "id": "39ef262a",
   "metadata": {
    "tags": []
   },
   "outputs": [],
   "source": [
    "# perform additional customized data analyses here if desired"
   ]
  },
  {
   "cell_type": "markdown",
   "id": "b38e31bf",
   "metadata": {
    "tags": []
   },
   "source": [
    "## Apply existent ranging definitions."
   ]
  },
  {
   "cell_type": "code",
   "execution_count": null,
   "id": "e8b53870",
   "metadata": {
    "hidden": true,
    "tags": []
   },
   "outputs": [],
   "source": [
    "# configure paraprobe-ranger\n",
    "RANGER_CONFIG = {}\n",
    "for jobid in jobids:\n",
    "    JOBID = str(jobid)\n",
    "    ranger = ParmsetupRanger()\n",
    "    RANGER_CONFIG[jobid] = ranger.apply_existent_ranging(\n",
    "        working_directory=MY_PROCESSED_DATA_PATH,\n",
    "        transcoder_config_sim_id=jobid,\n",
    "        transcoder_results_sim_id=jobid,\n",
    "        ranger_results_sim_id=jobid)\n",
    "print(RANGER_CONFIG)"
   ]
  },
  {
   "cell_type": "code",
   "execution_count": null,
   "id": "ef8ebf83",
   "metadata": {
    "tags": []
   },
   "outputs": [],
   "source": [
    "# inspect config file if desired\n",
    "H5Web(RANGER_CONFIG[jobid])"
   ]
  },
  {
   "cell_type": "code",
   "execution_count": null,
   "id": "84f49408",
   "metadata": {
    "hidden": true,
    "tags": []
   },
   "outputs": [],
   "source": [
    "# execute paraprobe-ranger C/C++ tool\n",
    "RANGER_RESULTS = {}\n",
    "for jobid in jobids:\n",
    "    JOBID = str(jobid)\n",
    "    CONFIG = RANGER_CONFIG[jobid]\n",
    "    ! export OMP_NUM_THREADS=4 && mpiexec -n 1 ./../../../code/paraprobe_ranger $jobid $CONFIG 1>{'PARAPROBE.Ranger.StdOutLog.SimID.' + JOBID + '.txt'} 2>{'PARAPROBE.Ranger.StdErrLog.SimID.' + JOBID + '.txt'}\n",
    "    RANGER_RESULTS[jobid] = 'PARAPROBE.Ranger.Results.SimID.' + JOBID + '.nxs'\n",
    "print(RANGER_RESULTS)"
   ]
  },
  {
   "cell_type": "code",
   "execution_count": null,
   "id": "b3d1487c",
   "metadata": {
    "hidden": true,
    "tags": []
   },
   "outputs": [],
   "source": [
    "# inspect paraprobe-ranger results\n",
    "get_file_size(RANGER_RESULTS[jobid])\n",
    "H5Web(RANGER_RESULTS[jobid])"
   ]
  },
  {
   "cell_type": "code",
   "execution_count": null,
   "id": "e3fc36bb",
   "metadata": {
    "tags": []
   },
   "outputs": [],
   "source": [
    "# perform additional customized data analyses here if desired, either through writing analysis code directly in the notebook"
   ]
  },
  {
   "cell_type": "markdown",
   "id": "153958e1",
   "metadata": {
    "jp-MarkdownHeadingCollapsed": true,
    "tags": []
   },
   "source": [
    "See how results can be post-processed specific for each tool using the convenience reporting and visualization Python functions offer through paraprobe-autoreporter."
   ]
  },
  {
   "cell_type": "code",
   "execution_count": null,
   "id": "825f6a0d",
   "metadata": {
    "tags": []
   },
   "outputs": [],
   "source": [
    "# or through using predefined analyses and/or use them as examples and customize them for your needs\n",
    "# use corporate design/preconfigured analyses from paraprobe-autoreporter\n",
    "for jobid in jobids:\n",
    "    JOBID = str(jobid)\n",
    "    print(JOBID)\n",
    "    ranger_report = AutoReporterRanger(RANGER_RESULTS[jobid], JOBID)\n",
    "    ranger_report.get_summary()"
   ]
  },
  {
   "cell_type": "markdown",
   "id": "5c6f2f29",
   "metadata": {
    "tags": []
   },
   "source": [
    "## Create a triangle surface mesh model for the edge of the dataset."
   ]
  },
  {
   "cell_type": "code",
   "execution_count": null,
   "id": "f7b8be88",
   "metadata": {
    "tags": []
   },
   "outputs": [],
   "source": [
    "# configure paraprobe-surfacer\n",
    "SURFACER_CONFIG = {}\n",
    "for jobid in jobids:\n",
    "    JOBID = str(jobid)\n",
    "    surfacer = ParmsetupSurfacer()\n",
    "    SURFACER_CONFIG[jobid] = surfacer.compute_convex_hull_edge_model(\n",
    "        working_directory=MY_PROCESSED_DATA_PATH,\n",
    "        transcoder_config_sim_id=jobid,\n",
    "        transcoder_results_sim_id=jobid,\n",
    "        ranger_results_sim_id=jobid,\n",
    "        surfacer_results_sim_id=jobid)\n",
    "print(SURFACER_CONFIG)"
   ]
  },
  {
   "cell_type": "code",
   "execution_count": null,
   "id": "aa7fd8e6",
   "metadata": {
    "tags": []
   },
   "outputs": [],
   "source": [
    "# inspect config if necessary\n",
    "H5Web(SURFACER_CONFIG[jobid])"
   ]
  },
  {
   "cell_type": "code",
   "execution_count": null,
   "id": "1bbe0e61",
   "metadata": {
    "tags": []
   },
   "outputs": [],
   "source": [
    "# execute paraprobe-surfacer C/C++ tool\n",
    "SURFACER_RESULTS = {}\n",
    "for jobid in jobids:\n",
    "    JOBID = str(jobid)\n",
    "    CONFIG = SURFACER_CONFIG[jobid]\n",
    "    ! export OMP_NUM_THREADS=1 && mpiexec -n 1 ./../../../code/paraprobe_surfacer $jobid $CONFIG 1>{'PARAPROBE.Surfacer.StdOutLog.SimID.' + JOBID + '.txt'} 2>{'PARAPROBE.Surfacer.StdErrLog.SimID.' + JOBID + '.txt'}\n",
    "    SURFACER_RESULTS[jobid] = 'PARAPROBE.Surfacer.Results.SimID.' + JOBID + '.nxs'\n",
    "print(SURFACER_RESULTS)"
   ]
  },
  {
   "cell_type": "code",
   "execution_count": null,
   "id": "b70f8e2a",
   "metadata": {
    "tags": []
   },
   "outputs": [],
   "source": [
    "# inspect paraprobe-surfacer results\n",
    "print(str(np.around(os.path.getsize(SURFACER_RESULTS[jobid])/1024/1024, decimals=3)) + ' MiB')\n",
    "H5Web(SURFACER_RESULTS[jobid])"
   ]
  },
  {
   "cell_type": "code",
   "execution_count": null,
   "id": "ca141caa",
   "metadata": {
    "tags": []
   },
   "outputs": [],
   "source": [
    "# perform additional customized data analyses here if desired, either through writing analysis code directly in the notebook"
   ]
  },
  {
   "cell_type": "markdown",
   "id": "f2b341d1",
   "metadata": {
    "tags": []
   },
   "source": [
    "## Compute Euclidean distances of all ions to the edge of the dataset."
   ]
  },
  {
   "cell_type": "code",
   "execution_count": null,
   "id": "516fb1d9",
   "metadata": {
    "tags": []
   },
   "outputs": [],
   "source": [
    "# configure paraprobe-distancer\n",
    "DISTANCER_CONFIG = {}\n",
    "for jobid in jobids:\n",
    "    JOBID = str(jobid)\n",
    "    distancer = ParmsetupDistancer()\n",
    "    DISTANCER_CONFIG[jobid] = distancer.compute_ion_to_edge_model_distances(\n",
    "        working_directory=MY_PROCESSED_DATA_PATH,\n",
    "        transcoder_config_sim_id=jobid,\n",
    "        transcoder_results_sim_id=jobid,\n",
    "        ranger_results_sim_id=jobid,\n",
    "        distancer_results_sim_id=jobid)\n",
    "print(DISTANCER_CONFIG)"
   ]
  },
  {
   "cell_type": "code",
   "execution_count": null,
   "id": "2785344d",
   "metadata": {
    "tags": []
   },
   "outputs": [],
   "source": [
    "# inspect config if desired\n",
    "H5Web(DISTANCER_CONFIG[jobid])"
   ]
  },
  {
   "cell_type": "code",
   "execution_count": null,
   "id": "8f8b5bee",
   "metadata": {
    "tags": []
   },
   "outputs": [],
   "source": [
    "# execute paraprobe-distancer C/C++ tool\n",
    "DISTANCER_RESULTS = {}\n",
    "for jobid in jobids:\n",
    "    JOBID = str(jobid)\n",
    "    CONFIG = DISTANCER_CONFIG[jobid]\n",
    "    ! export OMP_NUM_THREADS=4 && mpiexec -n 1 ./../../../code/paraprobe_distancer $jobid $CONFIG 1>{'PARAPROBE.Distancer.StdOutLog.SimID.' + JOBID + '.txt'} 2>{'PARAPROBE.Distancer.StdErrLog.SimID.' + JOBID + '.txt'}\n",
    "    DISTANCER_RESULTS[jobid] = 'PARAPROBE.Distancer.Results.SimID.' + JOBID + '.nxs'\n",
    "print(DISTANCER_RESULTS)"
   ]
  },
  {
   "cell_type": "code",
   "execution_count": null,
   "id": "3ec04bcc",
   "metadata": {
    "tags": []
   },
   "outputs": [],
   "source": [
    "# inspect config if desired\n",
    "print(str(np.around(os.path.getsize(DISTANCER_RESULTS[jobid])/1024/1024, decimals=3)) + ' MiB')\n",
    "H5Web(DISTANCER_RESULTS[jobid])"
   ]
  },
  {
   "cell_type": "markdown",
   "id": "b93e8a8a",
   "metadata": {
    "tags": []
   },
   "source": [
    "See how to post-process results from paraprobe-distancer using paraprobe-autoreporter."
   ]
  },
  {
   "cell_type": "code",
   "execution_count": null,
   "id": "3a7b484b",
   "metadata": {
    "tags": []
   },
   "outputs": [],
   "source": [
    "# additional corporate design/preconfigured analyses from paraprobe-autoreporter\n",
    "DISTANCER_PLOT = {}\n",
    "for jobid in jobids:\n",
    "    JOBID = str(jobid)\n",
    "    distancer_report = AutoReporterDistancer(DISTANCER_RESULTS[jobid], JOBID)\n",
    "    DISTANCER_PLOT[jobid] = distancer_report.get_ion2mesh_distance_cdf(distancing_task_id=0)\n",
    "print(DISTANCER_PLOT)"
   ]
  },
  {
   "cell_type": "code",
   "execution_count": null,
   "id": "e36cc84f",
   "metadata": {},
   "outputs": [],
   "source": [
    "Image(filename=DISTANCER_PLOT[jobid], width=500, height=500)"
   ]
  },
  {
   "cell_type": "code",
   "execution_count": null,
   "id": "e88309bd",
   "metadata": {
    "tags": []
   },
   "outputs": [],
   "source": [
    "# alternatively you can of course also post-process the results yourself and inspect beyond what paraprobe-autoreporter offers\n",
    "# below is an example how to use Python for this task, functions similar as the one shown here is what paraprobe-autoreporter implements\n",
    "h5r = h5py.File(DISTANCER_RESULTS[jobid], 'r')\n",
    "d = np.asarray(h5r['/entry/process0/point_to_triangle_set/distance'][:])\n",
    "threshold = 1.0 #nm\n",
    "fraction = 100. * np.count_nonzero(np.where(d <= threshold)) / np.shape(d)[0]\n",
    "print('Your chosen threshold distance to the edge of the dataset is ' + str(np.around(threshold, decimals=2)) + ' nm')\n",
    "print('Fraction of ions closer than this threshold distance ' + str(np.around(fraction, decimals=2)) + ' at.-%')\n",
    "print('Minimum distance is ' + str(np.min(d)) + ' nm')  #  often ions on the surface of e.g. a convex hull\n",
    "print('Average distance is ' + str(np.mean(d)) + ' nm')\n",
    "print('Median distance is ' + str(np.median(d)) + ' nm')\n",
    "print('Maximum distance is ' + str(np.max(d)) + ' nm')\n",
    "quantile = 0.01\n",
    "print('Specific distance at the ' + str(np.around(quantile*100., decimals=3))\n",
    "      + '% percentile is ' + str(np.around(np.quantile(d, quantile), decimals=3)) + ' nm')\n",
    "quantile = 0.05\n",
    "print('Specific distance at the ' + str(np.around(quantile*100., decimals=3))\n",
    "      + '% percentile is ' + str(np.around(np.quantile(d, quantile), decimals=3)) + ' nm')\n",
    "# print('Maybe we would like ask turn the question on quantiles around and find the quantile value?')"
   ]
  },
  {
   "cell_type": "markdown",
   "id": "00a5e9e2",
   "metadata": {},
   "source": [
    "The idea of paraprobe-autoreporter is that you can use it to register frequently used scripts and allow for sharing of Python code."
   ]
  },
  {
   "cell_type": "markdown",
   "id": "03a01357",
   "metadata": {
    "tags": []
   },
   "source": [
    "## Tessellate the ion point cloud."
   ]
  },
  {
   "cell_type": "code",
   "execution_count": null,
   "id": "7162b1a7",
   "metadata": {
    "tags": []
   },
   "outputs": [],
   "source": [
    "# configure paraprobe-tessellator\n",
    "TESSELLATOR_CONFIG = {}\n",
    "for jobid in jobids:\n",
    "    JOBID = str(jobid)\n",
    "    tessellator = ParmsetupTessellator()\n",
    "    TESSELLATOR_CONFIG[jobid] = tessellator.compute_complete_voronoi_tessellation(\n",
    "        working_directory=MY_PROCESSED_DATA_PATH,\n",
    "        transcoder_config_sim_id=jobid,\n",
    "        transcoder_results_sim_id=jobid,\n",
    "        ranger_results_sim_id=jobid,\n",
    "        distancer_results_sim_id=jobid,\n",
    "        tessellator_results_sim_id=jobid)\n",
    "print(TESSELLATOR_CONFIG)"
   ]
  },
  {
   "cell_type": "code",
   "execution_count": null,
   "id": "379a14b1",
   "metadata": {
    "tags": []
   },
   "outputs": [],
   "source": [
    "# inspect config if desired\n",
    "H5Web(TESSELLATOR_CONFIG[jobid])"
   ]
  },
  {
   "cell_type": "code",
   "execution_count": null,
   "id": "3f68e0bf",
   "metadata": {
    "tags": []
   },
   "outputs": [],
   "source": [
    "# execute paraprobe-tessellator C/C++ tool\n",
    "TESSELLATOR_RESULTS = {}\n",
    "for jobid in jobids:\n",
    "    JOBID = str(jobid)\n",
    "    CONFIG = TESSELLATOR_CONFIG[jobid]\n",
    "    ! export OMP_NUM_THREADS=4 && mpiexec -n 1 ./../../../code/paraprobe_tessellator $jobid $CONFIG 1>{'PARAPROBE.Tessellator.StdOutLog.SimID.' + JOBID + '.txt'} 2>{'PARAPROBE.Tessellator.StdErrLog.SimID.' + JOBID + '.txt'}\n",
    "    TESSELLATOR_RESULTS[jobid] = 'PARAPROBE.Tessellator.Results.SimID.' + JOBID + '.nxs'\n",
    "print(TESSELLATOR_RESULTS)"
   ]
  },
  {
   "cell_type": "code",
   "execution_count": null,
   "id": "29e2993e",
   "metadata": {
    "tags": []
   },
   "outputs": [],
   "source": [
    "# inspect paraprobe-tessellator results\n",
    "print(str(np.around(os.path.getsize(TESSELLATOR_RESULTS[jobid])/1024/1024, decimals=3)) + ' MiB')\n",
    "H5Web(TESSELLATOR_RESULTS[jobid])"
   ]
  },
  {
   "cell_type": "markdown",
   "id": "b5de0aae",
   "metadata": {
    "tags": []
   },
   "source": [
    "See how to post-process paraprobe-tessellator results with paraprobe-autoreporter."
   ]
  },
  {
   "cell_type": "code",
   "execution_count": null,
   "id": "0b5cf2b1",
   "metadata": {
    "tags": []
   },
   "outputs": [],
   "source": [
    "# additional corporate design/preconfigured analyses from paraprobe-autoreporter\n",
    "TESSELLATOR_PLOT = {}\n",
    "for jobid in jobids:\n",
    "    JOBID = str(jobid)\n",
    "    tessellator_report = AutoReporterTessellator(TESSELLATOR_RESULTS[jobid], JOBID)\n",
    "    tessellator_report.get_summary(tessellation_task_id=0)\n",
    "    TESSELLATOR_PLOT[jobid] = tessellator_report.get_cell_volume_cdf(tessellation_task_id=0)\n",
    "print(TESSELLATOR_PLOT)"
   ]
  },
  {
   "cell_type": "code",
   "execution_count": null,
   "id": "be70d27d",
   "metadata": {},
   "outputs": [],
   "source": [
    "Image(filename=TESSELLATOR_PLOT[jobid], width=500, height=500)"
   ]
  },
  {
   "cell_type": "code",
   "execution_count": null,
   "id": "4f6c3d12",
   "metadata": {},
   "outputs": [],
   "source": [
    "# alternatively you can of course also post-process the results yourself and inspect beyond what paraprobe-autoreporter offers"
   ]
  },
  {
   "cell_type": "markdown",
   "id": "eb367918",
   "metadata": {
    "tags": []
   },
   "source": [
    "## Optionally compute spatial statistics."
   ]
  },
  {
   "cell_type": "code",
   "execution_count": null,
   "id": "46fc8dc1",
   "metadata": {},
   "outputs": [],
   "source": [
    "# get axis-aligned bounding box of the reconstructed volume\n",
    "h5r = h5py.File('PARAPROBE.Transcoder.Results.SimID.636502001.nxs', 'r')\n",
    "xyz = h5r['/entry/atom_probe/reconstruction/reconstructed_positions'][:, :]\n",
    "h5r.close()\n",
    "aabb = np.zeros([3, 2], np.float32)\n",
    "center = [0., 0., 0.]  # np.zeros([3], np.float32)\n",
    "for i in np.arange(0, 3):\n",
    "    aabb[i, 0] = np.min(xyz[:, i])\n",
    "    aabb[i, 1] = np.max(xyz[:, i])\n",
    "    center[i] = 0.5 * (aabb[i, 0] + aabb[i, 1])\n",
    "del xyz\n",
    "print('aabb bounding box')\n",
    "print(aabb)\n",
    "print('aabb center')\n",
    "print(center)\n",
    "print(np.shape(center))"
   ]
  },
  {
   "cell_type": "code",
   "execution_count": null,
   "id": "2d05d62f",
   "metadata": {},
   "outputs": [],
   "source": [
    "# configure paraprobe-spatstat\n",
    "SPATSTAT_CONFIG = {}\n",
    "for jobid in jobids:\n",
    "    JOBID = str(jobid)\n",
    "    spatstat = ParmsetupSpatstat()\n",
    "    \n",
    "    # define two tasks, first instantiate a task object\n",
    "    task = SpatstatTask()\n",
    "    task.load_reconstruction_and_ranging(\n",
    "        ranging_applied=True,\n",
    "        working_directory=MY_PROCESSED_DATA_PATH,\n",
    "        transcoder_config_sim_id=jobid,\n",
    "        transcoder_results_sim_id=jobid,\n",
    "        ranger_results_sim_id=jobid)\n",
    "    task.load_ion_to_edge_distances(\n",
    "        file_name=MY_PROCESSED_DATA_PATH + '/PARAPROBE.Distancer.Results.SimID.' + JOBID + '.nxs',\n",
    "        dataset_name='/entry/process0/point_to_triangle_set/distance',\n",
    "        d_edge=0.160)\n",
    "    task.load_ion_to_feature_distances(\n",
    "        file_name=MY_PROCESSED_DATA_PATH + '/PARAPROBE.Distancer.Results.SimID.' + JOBID + '.nxs',\n",
    "        dataset_name='/entry/process0/point_to_triangle_set/distance',\n",
    "        d_feature=0.678)\n",
    "    # from the 1% to the 5% of the signed distance distribution\n",
    "    # this will place ROIs at all those (source) ions laying at least d_edge from the edge\n",
    "    # given we also use the edge as the feature (simply for demonstration, one could also use something else)\n",
    "    # do not place ROIs at all those (source) ions laying farther away than d_feature to the edge\n",
    "    # here the feature is the edge, in this case we can compute spatial statistics with ions\n",
    "    # within a specifically customized shell closer to the edge than feature distance but not placing ROIs the subset\n",
    "    # of these ions which are closer to the edge than edge distance\n",
    "    # in addition we do not need to analyze the entire dataset, but we can also restrict the analysis to a particular window\n",
    "    # filter region of interest\n",
    "    task.cfg_filter.add_spatial_filter(primitive_list=[RoiRotatedCuboid(center=center, boxdims=[10., 10., 40.])])\n",
    "    # task.cfg_filter.add_evaporation_id_filter(lival=(0, 1, np.iinfo(np.uint32).max))\n",
    "    # task.cfg_filter.add_iontyp_filter()\n",
    "    # task.cfg_filter.add_hit_multiplicity_filter()\n",
    "    task.randomize_ion_types(True)\n",
    "    task.set_random_number_generator()\n",
    "\n",
    "    # that is 2nm from the edge of the dataset but no ROIs will be placed at ions deeper embedded in the dataset\n",
    "    # ions closer to the edge than 2nm can be target like ions within the interior, with details depending on rmax\n",
    "    # task.ion_types_source(method='resolve_ion', symbol_lst=[['Y', 'O']], charge_lst=[+1])\n",
    "    # task.ion_types_target(method='resolve_ion', symbol_lst=[['Y', 'O'], ['Cr']], charge_lst=[+1, +3])\n",
    "    # task.ion_types_source(method='resolve_element', symbol_lst=[['Y', 'O']])\n",
    "    # task.ion_types_target(method='resolve_element', symbol_lst=[['Cr']])\n",
    "    # task.ion_types_source(method='resolve_unknown')\n",
    "    # task.ion_types_target(method='resolve_unknown')\n",
    "    task.ion_types_source(method='resolve_all')\n",
    "    task.ion_types_target(method='resolve_all')\n",
    "    \n",
    "    # currently KNN and RDF are implemented as either or per task as for IUC09 this is the most relevant case\n",
    "    task.set_knn(kth=1, binwidth=0.01, rmax=2.)\n",
    "    spatstat.add_task(task)\n",
    "    \n",
    "    # # either create a second task object and change what you want or change a property of the last task\n",
    "    # task.set_rdf(binwidth=0.01, rmax=2.)\n",
    "    # spatstat.add_task(task)\n",
    "    \n",
    "    SPATSTAT_CONFIG[jobid] = spatstat.configure(jobid)  # , verbose=True)\n",
    "print(SPATSTAT_CONFIG)"
   ]
  },
  {
   "cell_type": "code",
   "execution_count": null,
   "id": "0df1e2e5",
   "metadata": {},
   "outputs": [],
   "source": [
    "# inspect paraprobe-spatstat config, if desired\n",
    "H5Web(SPATSTAT_CONFIG[jobid])"
   ]
  },
  {
   "cell_type": "code",
   "execution_count": null,
   "id": "cced4bd4",
   "metadata": {
    "tags": []
   },
   "outputs": [],
   "source": [
    "# execute paraprobe-spatstat C/C++ tool\n",
    "SPATSTAT_RESULTS = {}\n",
    "for jobid in jobids:\n",
    "    JOBID = str(jobid)\n",
    "    CONFIG = SPATSTAT_CONFIG[jobid]\n",
    "    ! export OMP_NUM_THREADS=4 && mpiexec -n 1 ./../../../code/paraprobe_spatstat $jobid $CONFIG 1>{'PARAPROBE.Spatstat.StdoutLog.SimID.' + JOBID + '.txt'} 2>{'PARAPROBE.Spatstat.StderrLog.SimID.' + JOBID + '.txt'}\n",
    "    SPATSTAT_RESULTS[jobid] = 'PARAPROBE.Spatstat.Results.SimID.' + JOBID + '.nxs'\n",
    "print(SPATSTAT_RESULTS)"
   ]
  },
  {
   "cell_type": "code",
   "execution_count": null,
   "id": "8a33bc2b",
   "metadata": {},
   "outputs": [],
   "source": [
    "# inspect paraprobe-spatstat results\n",
    "print(str(np.around(os.path.getsize(SPATSTAT_RESULTS[jobid])/1024/1024, decimals=3)) + ' MiB')\n",
    "H5Web(SPATSTAT_RESULTS[jobid])"
   ]
  },
  {
   "cell_type": "markdown",
   "id": "75e26264",
   "metadata": {
    "tags": []
   },
   "source": [
    "See how to post-process paraprobe-spatstat results with paraprobe-autoreporter."
   ]
  },
  {
   "cell_type": "markdown",
   "id": "e6996259",
   "metadata": {},
   "source": [
    "<div class=\"alert alert-block alert-warning\">\n",
    "For computing RDFs according to B. Gault et al. (https://dx.doi.org/10.1007/978-1-4614-3436-8)<br>\n",
    "do not forget to define a proper value for $\\frac{1}{\\rho}$ the scaling density of the RDF.</div>"
   ]
  },
  {
   "cell_type": "code",
   "execution_count": null,
   "id": "178ed9ee",
   "metadata": {},
   "outputs": [],
   "source": [
    "# additional corporate design/preconfigured analyses from paraprobe-autoreporter\n",
    "SPATSTAT_PLOT = {}\n",
    "# for jobid in jobids:\n",
    "# JOBID = str(jobid)\n",
    "spatstat_report = AutoReporterSpatstat(SPATSTAT_RESULTS[jobid], JOBID)\n",
    "spatstat_report.get_knn(spatstat_task_id=0)\n",
    "# spatstat_report.get_rdf(spatstat_task_id=0, normalizer=1./1.) # dont forget to make a proper estimate for rho!\n",
    "# print(SPATSTAT_PLOT)"
   ]
  },
  {
   "cell_type": "code",
   "execution_count": null,
   "id": "76973439",
   "metadata": {},
   "outputs": [],
   "source": [
    "Image(filename='PARAPROBE.Spatstat.Results.SimID.636502001.nxs.TaskId.0.Knn..Pdf.png', width=500, height=500)\n",
    "# Image(filename='PARAPROBE.Spatstat.Results.SimID.636502001.h5.TaskId.0.Rdf.png', width=500, height=500)"
   ]
  },
  {
   "cell_type": "markdown",
   "id": "af9d9c37",
   "metadata": {
    "tags": []
   },
   "source": [
    "# 2. High-throughput characterization of Y+Ti+O rich objects using iso-composition surfaces\n",
    "***"
   ]
  },
  {
   "cell_type": "markdown",
   "id": "5d19aff6",
   "metadata": {
    "heading_collapsed": "true",
    "tags": []
   },
   "source": [
    "## Characterize Y+Ti+O rich objects"
   ]
  },
  {
   "cell_type": "markdown",
   "id": "77f0681a",
   "metadata": {},
   "source": [
    "We use paraprobe-nanochem, the same tool that can also be used for high-throughput iso-surface based analyses, composition profiling, and iso-surface-based edge modelling."
   ]
  },
  {
   "cell_type": "code",
   "execution_count": null,
   "id": "6445160f",
   "metadata": {
    "tags": []
   },
   "outputs": [],
   "source": [
    "# configure paraprobe-nanochem\n",
    "what_to_do = 'isosurface_scanning'  # high-throughput scanning of iso-surfaces and analyses of closed objects formed by the iso-surfaces, use this also as the first step for coprecipitation analyses\n",
    "# what_to_do = 'isosurface_edge_model'  # iso-surface-based modeling of the edge of the dataset (total-atom-count based approach mentioned by M. K\\\"uhbach et al. npj Comp Mat, 2022)\n",
    "# what_to_do = 'find_interface'  # PCA+DCOM for automated locating and meshing of interface patch triangulated surface mesh models\n",
    "# what_to_do = 'rois_and_co'  # place ROIs automatically at given mesh (e.g. from a previous find_interface) analysis, get composition profiles enabling interfacial excess computation in python\n",
    "\n",
    "NANOCHEM_CONFIG = {}\n",
    "for jobid in jobids:\n",
    "    JOBID = str(jobid)\n",
    "    \n",
    "    nanochem = ParmsetupNanochem()\n",
    "    if what_to_do == 'isosurface_scanning':\n",
    "        dataset = NanochemTask()\n",
    "\n",
    "        dataset.load_reconstruction_and_ranging(\n",
    "            ranging_applied=True,\n",
    "            working_directory=MY_PROCESSED_DATA_PATH,\n",
    "            transcoder_config_sim_id=jobid,\n",
    "            transcoder_results_sim_id=jobid,\n",
    "            ranger_results_sim_id=jobid)\n",
    "        \n",
    "        dataset.load_edge_model(\n",
    "            file_name='PARAPROBE.Surfacer.Results.SimID.' + JOBID + '.nxs',\n",
    "            dataset_name_vertices='/entry/process0/point_set_wrapping0/alpha_complex/triangle_set/triangles/vertices',\n",
    "            dataset_name_facet_indices='/entry/process0/point_set_wrapping0/alpha_complex/triangle_set/triangles/faces')    \n",
    "        dataset.load_ion_to_edge_distances(\n",
    "            file_name='PARAPROBE.Distancer.Results.SimID.' + JOBID + '.nxs',\n",
    "            dataset_name='/entry/process0/point_to_triangle_set/distance')        \n",
    "        # no optional filters, we want to analyze the entire dataset\n",
    "\n",
    "        # define high-throughput job of e.g. multiple delocalization tasks with each creating multiple iso-surfaces\n",
    "        task = Delocalization()\n",
    "        task.set_delocalization_input(source='default')\n",
    "        task.set_delocalization_normalization(method='composition')  # ...with grid values normalized to atomic fraction (at.-%)\n",
    "        task.set_delocalization_elements(['Y', 'Ti', 'O'])  # iso-surface defined by Y+Ti+O ...\n",
    "        task.set_delocalization_gridresolutions(length=[1.])  # nm, list of voxel edge length, for each length one analysis\n",
    "        task.set_delocalization_kernel(sigma=[1.0], size=3)  # nm and pixel respectively\n",
    "        # task.set_delocalization_isosurfaces(phi=np.linspace(start=0.04, stop=0.04, num=1, endpoint=True))\n",
    "        task.set_delocalization_isosurfaces(phi=np.linspace(start=0.01, stop=0.21, num=21, endpoint=True)) # isosurface starting at 1 at.-% in steps of 1 at.-% until 21 at.-%\n",
    "        task.set_delocalization_edge_handling(method='default')\n",
    "        task.set_delocalization_edge_threshold(EPSILON)\n",
    "        # nm, with the threshold approaching epsilon only those objects are considered close to the edge which have at least one ion with an ion-to-edge distance almost zero, \n",
    "        # as these are only the ions virtually on the triangulated surface mesh representing the edge, virtually each object is considered inside\n",
    "        # which quantities to process for the iso-surface\n",
    "        task.report_fields_and_gradients(True)\n",
    "        task.report_triangle_soup(True)\n",
    "        task.report_objects(True)\n",
    "        task.report_objects_properties(True)\n",
    "        task.report_objects_geometry(True)\n",
    "        task.report_objects_optimal_bounding_box(True)\n",
    "        task.report_objects_ions(True)\n",
    "        task.report_objects_edge_contact(True)\n",
    "        # in some cases one may desire to export also doppelganger meshes to those objects which do not represent a closed mesh in the first place\n",
    "        # these doppelganger are the so-called proxy for an object, proxies can be useful to consider objects at the edge of the dataset in\n",
    "        # coprecipitation analyses where otherwise because of the finite size of the dataset and the open mesh of many objects these objects would be discarded\n",
    "        task.report_proxies(False)\n",
    "        task.report_proxies_properties(False)\n",
    "        task.report_proxies_geometry(False)\n",
    "        task.report_proxies_optimal_bounding_box(False)\n",
    "        task.report_proxies_ions(False)\n",
    "        # task.report_objects_autoproxigrams(False)\n",
    "        # task.report_objects_autoproxigrams_edge_contact(False)\n",
    "        \n",
    "        nanochem.add_task(dataset, task)            \n",
    "        NANOCHEM_CONFIG[jobid] = nanochem.configure(int(jobid))\n",
    "    else:\n",
    "        raise ValueError('Other modes are irrelevant for this example, use isosurface_scanning !')\n",
    "print(NANOCHEM_CONFIG)"
   ]
  },
  {
   "cell_type": "code",
   "execution_count": null,
   "id": "91a598ac",
   "metadata": {
    "tags": []
   },
   "outputs": [],
   "source": [
    "# inspect config if desired\n",
    "H5Web(NANOCHEM_CONFIG[jobid])"
   ]
  },
  {
   "cell_type": "code",
   "execution_count": null,
   "id": "08dc2f4a",
   "metadata": {
    "tags": []
   },
   "outputs": [],
   "source": [
    "# execute paraprobe-nanochem C/C++ tool\n",
    "NANOCHEM_RESULTS = {}\n",
    "for jobid in jobids:\n",
    "    JOBID = str(jobid)\n",
    "    CONFIG = NANOCHEM_CONFIG[jobid]\n",
    "    ! export OMP_NUM_THREADS=4 && mpiexec -n 1 ./../../../code/paraprobe_nanochem $jobid $CONFIG 1>{'PARAPROBE.Nanochem.Results.StdoutLog.SimID.' + JOBID + '.txt'} 2>{'PARAPROBE.Nanochem.Results.StderrLog.SimID.' + JOBID + '.txt'}\n",
    "    NANOCHEM_RESULTS[jobid] = 'PARAPROBE.Nanochem.Results.SimID.' + JOBID + '.nxs'\n",
    "print(NANOCHEM_RESULTS)"
   ]
  },
  {
   "cell_type": "code",
   "execution_count": null,
   "id": "f2913c45",
   "metadata": {
    "tags": []
   },
   "outputs": [],
   "source": [
    "# inspect paraprobe-nanochem results\n",
    "print(str(np.around(os.path.getsize(NANOCHEM_RESULTS[jobid])/1024/1024, decimals=3)) + ' MiB')\n",
    "H5Web(NANOCHEM_RESULTS[jobid])"
   ]
  },
  {
   "cell_type": "markdown",
   "id": "2e2e183c",
   "metadata": {
    "tags": []
   },
   "source": [
    "See how to post-process paraprobe-nanochem results with paraprobe-autoreporter."
   ]
  },
  {
   "cell_type": "code",
   "execution_count": null,
   "id": "5529ba80",
   "metadata": {
    "tags": []
   },
   "outputs": [],
   "source": [
    "# additional corporate design/preconfigured analyses from paraprobe-autoreporter\n",
    "NANOCHEM_RESULTS = {}\n",
    "NANOCHEM_RESULTS[jobid] = 'PARAPROBE.Nanochem.Results.SimID.636502001.nxs'\n",
    "for jobid in jobids:\n",
    "    JOBID = str(jobid)\n",
    "    nanochem_report = AutoReporterNanochem(NANOCHEM_RESULTS[jobid], dataset_id=0)\n",
    "    nanochem_report.get_delocalization(delocalization_task_id=0)\n",
    "    isosurface_task_id = 1\n",
    "    # get the iso-value for a specific iso-surface\n",
    "    print('isosurface_task_id ' + str(isosurface_task_id))\n",
    "    print(nanochem_report.delocalization.isosurface_tasks[str(isosurface_task_id)].isovalue)\n",
    "    for isosurface_task_id in np.arange(9,13):\n",
    "        print('isosurface_task_id ' + str(isosurface_task_id))\n",
    "        print(nanochem_report.delocalization.isosurface_tasks[str(isosurface_task_id)].isovalue)\n",
    "    nanochem_report.get_isosurface_objects_volume_and_number_over_isovalue(delocalization_task_id=0)"
   ]
  },
  {
   "cell_type": "code",
   "execution_count": null,
   "id": "216e91c3",
   "metadata": {
    "tags": []
   },
   "outputs": [],
   "source": [
    "NANOCHEM_PLOT = 'PARAPROBE.Nanochem.Results.SimID.636502001.nxs.DelocTaskId.0.VolOverIsoComposition.png'\n",
    "NANOCHEM_PLOT = 'PARAPROBE.Nanochem.Results.SimID.636502001.nxs.DelocTaskId.0.NumberOverIsoComposition.png'\n",
    "Image(filename=NANOCHEM_PLOT, width=500, height=500)"
   ]
  },
  {
   "cell_type": "markdown",
   "id": "ab42f345",
   "metadata": {},
   "source": [
    "When probing from 1at.-% to 21 at.-% Y+Ti+O iso-composition, the number of objects and their accumulated volume<br>\n",
    "changes as a function of iso-value. Shown here exemplarily are objects which are located sufficiently inside the<br>\n",
    "dataset, i.e. $\\geq d_{edge}$.<br>\n",
    "\n",
    "In this example the objects get identified the clearer the larger it is the iso-value. With increasing iso-value<br>\n",
    "the initial connected iso-surface fragments into pieces and individual objects become eroded towards their interior<br>\n",
    "which is reduces the objects individually detected volume. Interestingly and by chance in fact, especially the few<br>\n",
    "large objects were already laying close to the edge of the dataset. Therefore, they qualify as objects with edge contact.<br>\n",
    "Consequently, they are removed from the analyses NumberOverIsoCompositionCurve. If the reconstructed volume would have<br>\n",
    "been larger, it would have likely contained more objects which could have stabilized the curve.<br>\n",
    "In effect, the dataset shows strong differences which are evidence of finite counting effects.<br>\n",
    "\n",
    "From this we learn again why rigorous analyses of precipitate/object statistics are of particular relevance and<br>\n",
    "that the same dataset can show very different significance with respect for composition and precipitate analyses.<br>"
   ]
  },
  {
   "cell_type": "markdown",
   "id": "279fde94",
   "metadata": {},
   "source": [
    "# 3. Spatial correlation analyses\n",
    "***"
   ]
  },
  {
   "cell_type": "code",
   "execution_count": null,
   "id": "9e78522a",
   "metadata": {},
   "outputs": [],
   "source": [
    "# configure paraprobe-intersector\n",
    "INTERSECTOR_CONFIG = {}\n",
    "for jobid in jobids:\n",
    "    JOBID = str(jobid)\n",
    "    \n",
    "    intersector = ParmsetupIntersector()\n",
    "    # sequence of iso-surface configurations\n",
    "   \n",
    "    for i in np.arange(0, 1):\n",
    "    # for i in np.arange(0, 3):\n",
    "    #     # will create three tasks, one for 0 against 1, one for 1 against 2, and one for 2 against 3\n",
    "        task = VolumeVolumeTask()\n",
    "        task.set_analyze_proximity(True)\n",
    "        task.set_analyze_coprecipitation(True)\n",
    "        task.set_threshold_proximity(2.)  # nm\n",
    "        \n",
    "        isrf_curr = int(i)\n",
    "        cur = VolumeFeatureSet('current', isrf_curr)\n",
    "        # define up to four named volumetric_feature sub-sets with in the current set, objects far from edge, close to edge, proxies far from edge, proxies close to edge\n",
    "        h5r = h5py.File('PARAPROBE.Nanochem.Results.SimID.636502001.nxs', 'r')\n",
    "        grpnm = '/entry/process0/iso_surface_analysis/delocalization0/iso_surface' + str(isrf_curr) + '/triangle_soup/volumetric_feature/objects/objects_far_from_edge'\n",
    "        ids = h5r[grpnm + '/feature_identifier'][:, 0]\n",
    "        # print(np.shape(ids))\n",
    "        # print(ids.dtype)\n",
    "        s = VolumeFeatureSubSet(\n",
    "            feature_type='objects_far_from_edge',\n",
    "            filename='PARAPROBE.Nanochem.Results.SimID.636502001.nxs',\n",
    "            groupname_geometry_prefix=grpnm, feature_identifier=ids)\n",
    "        h5r.close()\n",
    "        cur.add_feature_type(s)\n",
    "        \n",
    "        isrf_next = int(i)  # verification, compare objects against themselves\n",
    "        # isrf_next = int(i + 1)  # sequence of configurations\n",
    "        nxt = VolumeFeatureSet('next', isrf_next)\n",
    "        h5r = h5py.File('PARAPROBE.Nanochem.Results.SimID.636502001.nxs', 'r')\n",
    "        grpnm = '/entry/process0/iso_surface_analysis/delocalization0/iso_surface' + str(isrf_next) + '/triangle_soup/volumetric_feature/objects/objects_far_from_edge'\n",
    "        ids = h5r[grpnm + '/feature_identifier'][:, 0]\n",
    "        # print(np.shape(ids))\n",
    "        # print(ids.dtype)\n",
    "        s = VolumeFeatureSubSet(\n",
    "            feature_type='objects_far_from_edge',\n",
    "            filename='PARAPROBE.Nanochem.Results.SimID.636502001.nxs',\n",
    "            groupname_geometry_prefix=grpnm, feature_identifier=ids)\n",
    "        h5r.close()\n",
    "        nxt.add_feature_type(s)\n",
    "        \n",
    "        task.add_feature_sets(cur, nxt)\n",
    "        intersector.add_task(task)\n",
    "\n",
    "    INTERSECTOR_CONFIG[jobid] = intersector.configure(int(jobid))  # , verbose=True)\n",
    "print(INTERSECTOR_CONFIG)"
   ]
  },
  {
   "cell_type": "code",
   "execution_count": null,
   "id": "9b774fcf",
   "metadata": {},
   "outputs": [],
   "source": [
    "# inspect config if desired\n",
    "H5Web(INTERSECTOR_CONFIG[jobid])"
   ]
  },
  {
   "cell_type": "code",
   "execution_count": null,
   "id": "a0fc9f14",
   "metadata": {
    "tags": []
   },
   "outputs": [],
   "source": [
    "# execute paraprobe-intersector C/C++ tool\n",
    "INTERSECTOR_RESULTS = {}\n",
    "for jobid in jobids:\n",
    "    JOBID = str(jobid)\n",
    "    CONFIG = INTERSECTOR_CONFIG[jobid]\n",
    "    ! export OMP_NUM_THREADS=1 && mpiexec -n 1 ./../../../code/paraprobe_intersector $jobid $CONFIG 1>{'PARAPROBE.Intersector.Results.SimID.' + JOBID + '.txt'} 2>{'PARAPROBE.Intersector.Results.StderrLog.SimID.' + JOBID + '.txt'}\n",
    "    INTERSECTOR_RESULTS[jobid] = 'PARAPROBE.Intersector.Results.SimID.' + JOBID + '.nxs'\n",
    "print(INTERSECTOR_RESULTS)"
   ]
  },
  {
   "cell_type": "code",
   "execution_count": null,
   "id": "780d5bea",
   "metadata": {},
   "outputs": [],
   "source": [
    "# inspect paraprobe-intersector results\n",
    "print(str(np.around(os.path.getsize(INTERSECTOR_RESULTS[jobid])/1024/1024, decimals=3)) + ' MiB')\n",
    "H5Web(INTERSECTOR_RESULTS[jobid])"
   ]
  },
  {
   "cell_type": "markdown",
   "id": "c2e9802d",
   "metadata": {},
   "source": [
    "In this particular example we performed a verification based on the following idea: If we set the current and next set to represent the same set of features,<br>\n",
    "we expect that all features have a link to themselves because they each feature of course perfectly intersects with itself. However, there is more to it this<br>\n",
    "story because we also analyze the proximity of nearby objects. Here, specifically the proximity was set to $2nm$ and assuming we compare isosurface0 against<br>\n",
    "isosurface0). So in addition to links from volumetric intersections, we also expect to find links to nearby neighbors of features; and indeed this is exactly<br>\n",
    "what we observe in when inspecting */entry/process0/volume_volume_spatial_correlation0/current_to_next_link*<br>\n",
    "So let\\'s now post-process how many links of different type we have:<br>"
   ]
  },
  {
   "cell_type": "code",
   "execution_count": null,
   "id": "5a0e88cf",
   "metadata": {},
   "outputs": [],
   "source": [
    "h5r = h5py.File('PARAPROBE.Intersector.Results.SimID.636502001.nxs', 'r')\n",
    "c2n_lnk = h5r['/entry/process0/volume_volume_spatial_correlation0/current_to_next_link'][:, :]\n",
    "c2n_lnk_type = h5r['/entry/process0/volume_volume_spatial_correlation0/current_to_next_link_type'][:, 0]\n",
    "print('There are ' + str(np.shape(c2n_lnk_type)[0]) + ' c2n links in total')\n",
    "print(str(np.sum(c2n_lnk_type == 0)) + ' of these are from volumetric intersections/overlap')\n",
    "print(str(np.sum(c2n_lnk_type == 1)) + ' of these are from proximity')\n",
    "h5r.close()"
   ]
  },
  {
   "cell_type": "markdown",
   "id": "bd0b18c8",
   "metadata": {},
   "source": [
    "Finally, let\\'s confirm that the links for intersections are indeed always self-intersection, i.e. the feature_identifier for the current<br>\n",
    "and the feature_identifier for the next_set are the same."
   ]
  },
  {
   "cell_type": "code",
   "execution_count": null,
   "id": "0cce44b4",
   "metadata": {},
   "outputs": [],
   "source": [
    "identifier_difference = np.int64(c2n_lnk[:, 0]) - np.int64(c2n_lnk[:, 1])\n",
    "print(identifier_difference.dtype)\n",
    "print(np.unique(identifier_difference[c2n_lnk_type == 0]))"
   ]
  },
  {
   "cell_type": "markdown",
   "id": "6f3aaecb",
   "metadata": {},
   "source": [
    "Evidently, the feature_identifier difference between the current and the next is 0 for exactly all those rows of the<br>\n",
    "matrix c2n_lnk where the lnk_type is 0x00 / 0 representing the flag which marks cases of volumetric intersection.\n",
    "\n",
    "These simple examples of spatial correlation analysis give you a glimpse of the capabilities of these tools.<br>\n",
    "The analysis of coprecipitation can be explored in substantial more detail using so-called coprecipitation<br>\n",
    "analysis, i.e. graph-based spatial correlation analysis using operations on mixtures of sets.<br>\n",
    "You can explore such analyses in <a href=\"https://doi.org/10.48550/arXiv.2205.13510\">our recent work with V. Rielli et al.</a> via its own tutorial.<br>"
   ]
  },
  {
   "cell_type": "markdown",
   "id": "536d94bc",
   "metadata": {},
   "source": [
    "## Conclusions\n",
    "***"
   ]
  },
  {
   "cell_type": "markdown",
   "id": "1517ee93",
   "metadata": {},
   "source": [
    "A typical workflow with the paraprobe-toolbox was exemplified for an ODS steel with Y+Ti+O dispersoids.<br>\n",
    "Apart from offering guidance on the tools the tutorial shows that:<br>\n",
    "* Care has to be taken especially for small datasets when it comes to characterizing the number and properties of precipitates.<br>\n",
    "* The here presented tools enable users to perform these analyses with an automated provenance tracking to align better with the<br>\n",
    "  aims of the FAIR data stewardship principles. Specifically formatted HDF5 files use NeXus application definitions to document<br>\n",
    "  each result and keep track of versioned configuration files and versioned datasets to maximize efforts aiming at numerical reproducibility.<br>\n",
    "* We have also shown how paraprobe-intersector can be used to perform spatial correlation analyses on volumetric features.<br>"
   ]
  },
  {
   "cell_type": "markdown",
   "id": "10f03fd1",
   "metadata": {},
   "source": [
    "### Questions?\n",
    "***"
   ]
  },
  {
   "cell_type": "markdown",
   "id": "5f3b3ba0",
   "metadata": {},
   "source": [
    "If you run in problems or have suggestion how we can improve these tools, if you feel you can contribute dataset<br>\n",
    "to support us with developing further these tools, or if you would like to get support with specific data analyses:<br>\n",
    "Feel free to contact me directly or members of the FAIRmat team: <a href=\"https://www.fairmat-nfdi.eu/fairmat/about-fairmat/team-fairmat\">M. Kühbach et al.</a>"
   ]
  },
  {
   "cell_type": "markdown",
   "id": "ef21ce65",
   "metadata": {},
   "source": [
    "### References, acknowledgements, funding\n",
    "***"
   ]
  },
  {
   "cell_type": "markdown",
   "id": "5e483d6d",
   "metadata": {
    "jupyter": {
     "outputs_hidden": true
    }
   },
   "source": [
    "<a href=\"https://doi.org/10.48550/arXiv.2205.13510\">The preprint to the paper that is associated with this analysis is available here.</a><br>\n",
    "<a href=\"https://fairmat-experimental.github.io/nexus-fairmat-proposal\">Used NeXus/HDF5 data schemes can be found here.</a><br>\n",
    "(c) Markus Kühbach, 2022/12<br>\n",
    "\n",
    "<a href=\"https://www.fairmat-nfdi.eu/fairmat/\">FAIRmat</a> is a consortium on research data management which is part of the German NFDI.<br>\n",
    "The project is funded by the Deutsche Forschungsgemeinschaft (DFG, German Research Foundation) – project 460197019."
   ]
  },
  {
   "cell_type": "code",
   "execution_count": null,
   "id": "1cf5eb47",
   "metadata": {},
   "outputs": [],
   "source": []
  }
 ],
 "metadata": {
  "kernelspec": {
   "display_name": "Python 3 (ipykernel)",
   "language": "python",
   "name": "python3"
  },
  "language_info": {
   "codemirror_mode": {
    "name": "ipython",
    "version": 3
   },
   "file_extension": ".py",
   "mimetype": "text/x-python",
   "name": "python",
   "nbconvert_exporter": "python",
   "pygments_lexer": "ipython3",
   "version": "3.9.16"
  }
 },
 "nbformat": 4,
 "nbformat_minor": 5
}
