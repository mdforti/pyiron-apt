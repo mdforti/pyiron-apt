{
 "cells": [
  {
   "cell_type": "code",
   "execution_count": 6,
   "id": "6574e8ae",
   "metadata": {},
   "outputs": [],
   "source": [
    "from pyiron_base import GenericJob, DataContainer, state, Executable\n",
    "import os\n",
    "from pyiron_base import Project"
   ]
  },
  {
   "cell_type": "code",
   "execution_count": 32,
   "id": "86b4a2c7",
   "metadata": {},
   "outputs": [],
   "source": [
    "class ParaprobeRanger(GenericJob):\n",
    "    def __init__(self, project, job_name):\n",
    "        super().__init__(project, job_name) \n",
    "        self.input = DataContainer(table_name=\"input\")\n",
    "        self.input.input_path = None\n",
    "        self._executable = None\n",
    "        self._executable_activate()\n",
    "    \n",
    "    def _executable_activate(self, enforce = False):\n",
    "        if self._executable is None or enforce:\n",
    "            self._executable = Executable(\n",
    "                codename='paraprobe-ranger',\n",
    "                module='paraprobe-ranger',\n",
    "                path_binary_codes=state.settings.resource_paths\n",
    "            )\n",
    "            \n",
    "    def write_input(self): \n",
    "        pass\n",
    "\n",
    "    def collect_output(self):\n",
    "        pass\n",
    "\n",
    "    def to_hdf(self, hdf=None, group_name=None): \n",
    "        super().to_hdf(\n",
    "            hdf=hdf,\n",
    "            group_name=group_name\n",
    "        )\n",
    "        with self.project_hdf5.open(\"input\") as h5in:\n",
    "            self.input.to_hdf(h5in)\n",
    "\n",
    "    def from_hdf(self, hdf=None, group_name=None): \n",
    "        super().from_hdf(\n",
    "            hdf=hdf,\n",
    "            group_name=group_name\n",
    "        )\n",
    "        with self.project_hdf5.open(\"input\") as h5in:\n",
    "            self.input.from_hdf(h5in)"
   ]
  },
  {
   "cell_type": "code",
   "execution_count": 33,
   "id": "2ed142d3",
   "metadata": {},
   "outputs": [],
   "source": [
    "pr = Project('test')\n",
    "job = pr.create_job(job_type=ParaprobeRanger, job_name=\"t1\")"
   ]
  },
  {
   "cell_type": "code",
   "execution_count": 34,
   "id": "2a08a771",
   "metadata": {},
   "outputs": [],
   "source": [
    "job._executable.mpi = True"
   ]
  },
  {
   "cell_type": "code",
   "execution_count": 35,
   "id": "cf69b6e1",
   "metadata": {},
   "outputs": [
    {
     "data": {
      "text/plain": [
       "'/home/menon/pyiron/resources/paraprobe-ranger/bin/run_paraprobe-ranger_1.0.3_mpi.sh'"
      ]
     },
     "execution_count": 35,
     "metadata": {},
     "output_type": "execute_result"
    }
   ],
   "source": [
    "job._executable"
   ]
  },
  {
   "cell_type": "code",
   "execution_count": null,
   "id": "5fd7e343",
   "metadata": {},
   "outputs": [],
   "source": []
  }
 ],
 "metadata": {
  "kernelspec": {
   "display_name": "Python 3 (ipykernel)",
   "language": "python",
   "name": "python3"
  },
  "language_info": {
   "codemirror_mode": {
    "name": "ipython",
    "version": 3
   },
   "file_extension": ".py",
   "mimetype": "text/x-python",
   "name": "python",
   "nbconvert_exporter": "python",
   "pygments_lexer": "ipython3",
   "version": "3.10.6"
  }
 },
 "nbformat": 4,
 "nbformat_minor": 5
}
